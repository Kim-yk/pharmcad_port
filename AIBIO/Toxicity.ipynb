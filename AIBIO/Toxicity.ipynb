{
  "nbformat": 4,
  "nbformat_minor": 0,
  "metadata": {
    "colab": {
      "name": "Toxicity.ipynb",
      "provenance": []
    },
    "kernelspec": {
      "name": "python3",
      "display_name": "Python 3"
    },
    "language_info": {
      "name": "python"
    }
  },
  "cells": [
    {
      "cell_type": "markdown",
      "metadata": {
        "id": "xWL73c2_2CPw"
      },
      "source": [
        "Toxicity"
      ]
    },
    {
      "cell_type": "code",
      "metadata": {
        "id": "zjLwo4972BC4"
      },
      "source": [
        "# Importing required libraries and its utilities\n",
        "import numpy as np\n",
        "\n",
        "np.random.seed(123)\n",
        "import tensorflow as tf\n",
        "\n",
        "tf.random.set_seed(123)\n",
        "from deepchem.molnet import load_tox21\n"
      ],
      "execution_count": null,
      "outputs": []
    },
    {
      "cell_type": "code",
      "metadata": {
        "id": "_XXFkT5F2EMO"
      },
      "source": [
        "# Tox21 is a part of Deepchem library\n",
        "# so we can convieniently download it using load_tox21 function\n",
        "tox21_tasks, tox21_datasets, transformers = deepchem.molnet.load_tox21()\n",
        "train_dataset, valid_dataset, test_dataset = tox21_datasets\n",
        "\n",
        "\n",
        "# Define metric for the model\n",
        "metric = dc.metrics.Metric(dc.metrics.roc_auc_score, \n",
        "                           np.mean, \n",
        "                           mode=\"classification\")"
      ],
      "execution_count": null,
      "outputs": []
    },
    {
      "cell_type": "code",
      "metadata": {
        "id": "XbO-ST672Fud"
      },
      "source": [
        "tox21_tasks"
      ],
      "execution_count": null,
      "outputs": []
    },
    {
      "cell_type": "code",
      "metadata": {
        "id": "xwS6IXhG2HVL"
      },
      "source": [
        "train_dataset"
      ],
      "execution_count": null,
      "outputs": []
    },
    {
      "cell_type": "code",
      "metadata": {
        "id": "raDgKgSx2JBI"
      },
      "source": [
        "# Define and fit the model\n",
        "model = deepchem.models.MultitaskClassifier(n_tasks=12, n_features=1024, layer_sizes=[1000])\n",
        "model.fit(train_dataset, nb_epoch=10)\n",
        "metric = deepchem.metrics.Metric(deepchem.metrics.roc_auc_score, np.mean)\n",
        "train_scores = model.evaluate(train_dataset, [metric], transformers)\n",
        "test_scores = model.evaluate(test_dataset, [metric], transformers)"
      ],
      "execution_count": null,
      "outputs": []
    },
    {
      "cell_type": "code",
      "metadata": {
        "id": "iKw5kY2e2Kiu"
      },
      "source": [
        "print(\"Train scores\")\n",
        "print(train_scores)\n",
        "\n",
        "print(\"Validation scores\")\n",
        "print(valid_scores)"
      ],
      "execution_count": null,
      "outputs": []
    },
    {
      "cell_type": "code",
      "metadata": {
        "id": "xTxnvCRM2L--"
      },
      "source": [
        "model.predict(test_dataset)"
      ],
      "execution_count": null,
      "outputs": []
    }
  ]
}