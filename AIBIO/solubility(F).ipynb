{
  "nbformat": 4,
  "nbformat_minor": 0,
  "metadata": {
    "colab": {
      "name": "Solubility.ipynb",
      "provenance": [],
      "collapsed_sections": []
    },
    "kernelspec": {
      "name": "python3",
      "display_name": "Python 3"
    },
    "language_info": {
      "name": "python"
    }
  },
  "cells": [
    {
      "cell_type": "code",
      "metadata": {
        "id": "8-BszRLOJrm3",
        "colab": {
          "base_uri": "https://localhost:8080/",
          "height": 673
        },
        "outputId": "8b81524c-4a89-4a64-8d6a-1bfabebffc48"
      },
      "source": [
        "# deepchem 공식문서  \n",
        "\n",
        "\n",
        "!curl -Lo conda_installer.py https://raw.githubusercontent.com/deepchem/deepchem/master/scripts/colab_install.py\n",
        "import conda_installer\n",
        "conda_installer.install()\n",
        "!/root/miniconda/bin/conda info -e\n",
        "!pip install --pre deepchem\n",
        "import deepchem\n",
        "deepchem.__version__"
      ],
      "execution_count": 4,
      "outputs": [
        {
          "output_type": "stream",
          "name": "stdout",
          "text": [
            "  % Total    % Received % Xferd  Average Speed   Time    Time     Time  Current\n",
            "                                 Dload  Upload   Total   Spent    Left  Speed\n",
            "\r  0     0    0     0    0     0      0      0 --:--:-- --:--:-- --:--:--     0\r100  3457  100  3457    0     0  82309      0 --:--:-- --:--:-- --:--:-- 82309\n"
          ]
        },
        {
          "output_type": "stream",
          "name": "stderr",
          "text": [
            "add /root/miniconda/lib/python3.7/site-packages to PYTHONPATH\n",
            "python version: 3.7.12\n",
            "fetching installer from https://repo.continuum.io/miniconda/Miniconda3-latest-Linux-x86_64.sh\n",
            "done\n",
            "installing miniconda to /root/miniconda\n",
            "done\n",
            "installing openmm, pdbfixer\n",
            "added conda-forge to channels\n",
            "done\n",
            "conda packages installation finished!\n"
          ]
        },
        {
          "output_type": "stream",
          "name": "stdout",
          "text": [
            "# conda environments:\n",
            "#\n",
            "base                  *  /root/miniconda\n",
            "\n",
            "Collecting deepchem\n",
            "  Downloading deepchem-2.6.0.dev20211130164350-py3-none-any.whl (608 kB)\n",
            "\u001b[K     |████████████████████████████████| 608 kB 7.9 MB/s \n",
            "\u001b[?25hCollecting rdkit-pypi\n",
            "  Downloading rdkit_pypi-2021.9.2.1-cp37-cp37m-manylinux_2_17_x86_64.manylinux2014_x86_64.whl (20.6 MB)\n",
            "\u001b[K     |████████████████████████████████| 20.6 MB 1.4 MB/s \n",
            "\u001b[?25hRequirement already satisfied: pandas in /usr/local/lib/python3.7/dist-packages (from deepchem) (1.1.5)\n",
            "Requirement already satisfied: numpy in /usr/local/lib/python3.7/dist-packages (from deepchem) (1.19.5)\n",
            "Requirement already satisfied: joblib in /usr/local/lib/python3.7/dist-packages (from deepchem) (1.1.0)\n",
            "Requirement already satisfied: scipy in /usr/local/lib/python3.7/dist-packages (from deepchem) (1.4.1)\n",
            "Requirement already satisfied: scikit-learn in /usr/local/lib/python3.7/dist-packages (from deepchem) (1.0.1)\n",
            "Requirement already satisfied: python-dateutil>=2.7.3 in /usr/local/lib/python3.7/dist-packages (from pandas->deepchem) (2.8.2)\n",
            "Requirement already satisfied: pytz>=2017.2 in /usr/local/lib/python3.7/dist-packages (from pandas->deepchem) (2018.9)\n",
            "Requirement already satisfied: six>=1.5 in /usr/local/lib/python3.7/dist-packages (from python-dateutil>=2.7.3->pandas->deepchem) (1.15.0)\n",
            "Requirement already satisfied: threadpoolctl>=2.0.0 in /usr/local/lib/python3.7/dist-packages (from scikit-learn->deepchem) (3.0.0)\n",
            "Installing collected packages: rdkit-pypi, deepchem\n",
            "Successfully installed deepchem-2.6.0.dev20211130164350 rdkit-pypi-2021.9.2.1\n"
          ]
        },
        {
          "output_type": "execute_result",
          "data": {
            "application/vnd.google.colaboratory.intrinsic+json": {
              "type": "string"
            },
            "text/plain": [
              "'2.6.0.dev'"
            ]
          },
          "metadata": {},
          "execution_count": 4
        }
      ]
    },
    {
      "cell_type": "code",
      "metadata": {
        "colab": {
          "base_uri": "https://localhost:8080/"
        },
        "id": "R2xfUycTFkGa",
        "outputId": "eb7a84d9-b418-4660-d498-9c317ebe7f45"
      },
      "source": [
        "#deepchem 구글 코랩 환경에 설치\n",
        "\n",
        "! pip install deepchem  \n",
        "!wget https://raw.githubusercontent.com/deepchem/deepchem/master/datasets/delaney-processed.csv # 데이터 불러오기\n",
        "! pip install tensorflow~=2.4\n"
      ],
      "execution_count": 5,
      "outputs": [
        {
          "output_type": "stream",
          "name": "stdout",
          "text": [
            "Requirement already satisfied: deepchem in /usr/local/lib/python3.7/dist-packages (2.6.0.dev20211130164350)\n",
            "Requirement already satisfied: scikit-learn in /usr/local/lib/python3.7/dist-packages (from deepchem) (1.0.1)\n",
            "Requirement already satisfied: scipy in /usr/local/lib/python3.7/dist-packages (from deepchem) (1.4.1)\n",
            "Requirement already satisfied: numpy in /usr/local/lib/python3.7/dist-packages (from deepchem) (1.19.5)\n",
            "Requirement already satisfied: rdkit-pypi in /usr/local/lib/python3.7/dist-packages (from deepchem) (2021.9.2.1)\n",
            "Requirement already satisfied: joblib in /usr/local/lib/python3.7/dist-packages (from deepchem) (1.1.0)\n",
            "Requirement already satisfied: pandas in /usr/local/lib/python3.7/dist-packages (from deepchem) (1.1.5)\n",
            "Requirement already satisfied: python-dateutil>=2.7.3 in /usr/local/lib/python3.7/dist-packages (from pandas->deepchem) (2.8.2)\n",
            "Requirement already satisfied: pytz>=2017.2 in /usr/local/lib/python3.7/dist-packages (from pandas->deepchem) (2018.9)\n",
            "Requirement already satisfied: six>=1.5 in /usr/local/lib/python3.7/dist-packages (from python-dateutil>=2.7.3->pandas->deepchem) (1.15.0)\n",
            "Requirement already satisfied: threadpoolctl>=2.0.0 in /usr/local/lib/python3.7/dist-packages (from scikit-learn->deepchem) (3.0.0)\n",
            "--2021-12-02 07:09:32--  https://raw.githubusercontent.com/deepchem/deepchem/master/datasets/delaney-processed.csv\n",
            "Resolving raw.githubusercontent.com (raw.githubusercontent.com)... 185.199.108.133, 185.199.109.133, 185.199.110.133, ...\n",
            "Connecting to raw.githubusercontent.com (raw.githubusercontent.com)|185.199.108.133|:443... connected.\n",
            "HTTP request sent, awaiting response... 200 OK\n",
            "Length: 96699 (94K) [text/plain]\n",
            "Saving to: ‘delaney-processed.csv’\n",
            "\n",
            "delaney-processed.c 100%[===================>]  94.43K  --.-KB/s    in 0.01s   \n",
            "\n",
            "2021-12-02 07:09:32 (8.79 MB/s) - ‘delaney-processed.csv’ saved [96699/96699]\n",
            "\n",
            "Requirement already satisfied: tensorflow~=2.4 in /usr/local/lib/python3.7/dist-packages (2.7.0)\n",
            "Requirement already satisfied: absl-py>=0.4.0 in /usr/local/lib/python3.7/dist-packages (from tensorflow~=2.4) (0.12.0)\n",
            "Requirement already satisfied: six>=1.12.0 in /usr/local/lib/python3.7/dist-packages (from tensorflow~=2.4) (1.15.0)\n",
            "Requirement already satisfied: termcolor>=1.1.0 in /usr/local/lib/python3.7/dist-packages (from tensorflow~=2.4) (1.1.0)\n",
            "Requirement already satisfied: flatbuffers<3.0,>=1.12 in /usr/local/lib/python3.7/dist-packages (from tensorflow~=2.4) (2.0)\n",
            "Requirement already satisfied: keras<2.8,>=2.7.0rc0 in /usr/local/lib/python3.7/dist-packages (from tensorflow~=2.4) (2.7.0)\n",
            "Requirement already satisfied: tensorflow-io-gcs-filesystem>=0.21.0 in /usr/local/lib/python3.7/dist-packages (from tensorflow~=2.4) (0.22.0)\n",
            "Requirement already satisfied: google-pasta>=0.1.1 in /usr/local/lib/python3.7/dist-packages (from tensorflow~=2.4) (0.2.0)\n",
            "Requirement already satisfied: typing-extensions>=3.6.6 in /usr/local/lib/python3.7/dist-packages (from tensorflow~=2.4) (3.10.0.2)\n",
            "Requirement already satisfied: grpcio<2.0,>=1.24.3 in /usr/local/lib/python3.7/dist-packages (from tensorflow~=2.4) (1.42.0)\n",
            "Requirement already satisfied: wheel<1.0,>=0.32.0 in /usr/local/lib/python3.7/dist-packages (from tensorflow~=2.4) (0.37.0)\n",
            "Requirement already satisfied: opt-einsum>=2.3.2 in /usr/local/lib/python3.7/dist-packages (from tensorflow~=2.4) (3.3.0)\n",
            "Requirement already satisfied: keras-preprocessing>=1.1.1 in /usr/local/lib/python3.7/dist-packages (from tensorflow~=2.4) (1.1.2)\n",
            "Requirement already satisfied: h5py>=2.9.0 in /usr/local/lib/python3.7/dist-packages (from tensorflow~=2.4) (3.1.0)\n",
            "Requirement already satisfied: astunparse>=1.6.0 in /usr/local/lib/python3.7/dist-packages (from tensorflow~=2.4) (1.6.3)\n",
            "Requirement already satisfied: gast<0.5.0,>=0.2.1 in /usr/local/lib/python3.7/dist-packages (from tensorflow~=2.4) (0.4.0)\n",
            "Requirement already satisfied: numpy>=1.14.5 in /usr/local/lib/python3.7/dist-packages (from tensorflow~=2.4) (1.19.5)\n",
            "Requirement already satisfied: libclang>=9.0.1 in /usr/local/lib/python3.7/dist-packages (from tensorflow~=2.4) (12.0.0)\n",
            "Requirement already satisfied: wrapt>=1.11.0 in /usr/local/lib/python3.7/dist-packages (from tensorflow~=2.4) (1.13.3)\n",
            "Requirement already satisfied: tensorboard~=2.6 in /usr/local/lib/python3.7/dist-packages (from tensorflow~=2.4) (2.7.0)\n",
            "Requirement already satisfied: tensorflow-estimator<2.8,~=2.7.0rc0 in /usr/local/lib/python3.7/dist-packages (from tensorflow~=2.4) (2.7.0)\n",
            "Requirement already satisfied: protobuf>=3.9.2 in /usr/local/lib/python3.7/dist-packages (from tensorflow~=2.4) (3.17.3)\n",
            "Requirement already satisfied: cached-property in /usr/local/lib/python3.7/dist-packages (from h5py>=2.9.0->tensorflow~=2.4) (1.5.2)\n",
            "Requirement already satisfied: setuptools>=41.0.0 in /usr/local/lib/python3.7/dist-packages (from tensorboard~=2.6->tensorflow~=2.4) (57.4.0)\n",
            "Requirement already satisfied: tensorboard-data-server<0.7.0,>=0.6.0 in /usr/local/lib/python3.7/dist-packages (from tensorboard~=2.6->tensorflow~=2.4) (0.6.1)\n",
            "Requirement already satisfied: google-auth-oauthlib<0.5,>=0.4.1 in /usr/local/lib/python3.7/dist-packages (from tensorboard~=2.6->tensorflow~=2.4) (0.4.6)\n",
            "Requirement already satisfied: google-auth<3,>=1.6.3 in /usr/local/lib/python3.7/dist-packages (from tensorboard~=2.6->tensorflow~=2.4) (1.35.0)\n",
            "Requirement already satisfied: requests<3,>=2.21.0 in /usr/local/lib/python3.7/dist-packages (from tensorboard~=2.6->tensorflow~=2.4) (2.23.0)\n",
            "Requirement already satisfied: markdown>=2.6.8 in /usr/local/lib/python3.7/dist-packages (from tensorboard~=2.6->tensorflow~=2.4) (3.3.6)\n",
            "Requirement already satisfied: werkzeug>=0.11.15 in /usr/local/lib/python3.7/dist-packages (from tensorboard~=2.6->tensorflow~=2.4) (1.0.1)\n",
            "Requirement already satisfied: tensorboard-plugin-wit>=1.6.0 in /usr/local/lib/python3.7/dist-packages (from tensorboard~=2.6->tensorflow~=2.4) (1.8.0)\n",
            "Requirement already satisfied: pyasn1-modules>=0.2.1 in /usr/local/lib/python3.7/dist-packages (from google-auth<3,>=1.6.3->tensorboard~=2.6->tensorflow~=2.4) (0.2.8)\n",
            "Requirement already satisfied: rsa<5,>=3.1.4 in /usr/local/lib/python3.7/dist-packages (from google-auth<3,>=1.6.3->tensorboard~=2.6->tensorflow~=2.4) (4.8)\n",
            "Requirement already satisfied: cachetools<5.0,>=2.0.0 in /usr/local/lib/python3.7/dist-packages (from google-auth<3,>=1.6.3->tensorboard~=2.6->tensorflow~=2.4) (4.2.4)\n",
            "Requirement already satisfied: requests-oauthlib>=0.7.0 in /usr/local/lib/python3.7/dist-packages (from google-auth-oauthlib<0.5,>=0.4.1->tensorboard~=2.6->tensorflow~=2.4) (1.3.0)\n",
            "Requirement already satisfied: importlib-metadata>=4.4 in /usr/local/lib/python3.7/dist-packages (from markdown>=2.6.8->tensorboard~=2.6->tensorflow~=2.4) (4.8.2)\n",
            "Requirement already satisfied: zipp>=0.5 in /usr/local/lib/python3.7/dist-packages (from importlib-metadata>=4.4->markdown>=2.6.8->tensorboard~=2.6->tensorflow~=2.4) (3.6.0)\n",
            "Requirement already satisfied: pyasn1<0.5.0,>=0.4.6 in /usr/local/lib/python3.7/dist-packages (from pyasn1-modules>=0.2.1->google-auth<3,>=1.6.3->tensorboard~=2.6->tensorflow~=2.4) (0.4.8)\n",
            "Requirement already satisfied: urllib3!=1.25.0,!=1.25.1,<1.26,>=1.21.1 in /usr/local/lib/python3.7/dist-packages (from requests<3,>=2.21.0->tensorboard~=2.6->tensorflow~=2.4) (1.24.3)\n",
            "Requirement already satisfied: idna<3,>=2.5 in /usr/local/lib/python3.7/dist-packages (from requests<3,>=2.21.0->tensorboard~=2.6->tensorflow~=2.4) (2.10)\n",
            "Requirement already satisfied: chardet<4,>=3.0.2 in /usr/local/lib/python3.7/dist-packages (from requests<3,>=2.21.0->tensorboard~=2.6->tensorflow~=2.4) (3.0.4)\n",
            "Requirement already satisfied: certifi>=2017.4.17 in /usr/local/lib/python3.7/dist-packages (from requests<3,>=2.21.0->tensorboard~=2.6->tensorflow~=2.4) (2021.10.8)\n",
            "Requirement already satisfied: oauthlib>=3.0.0 in /usr/local/lib/python3.7/dist-packages (from requests-oauthlib>=0.7.0->google-auth-oauthlib<0.5,>=0.4.1->tensorboard~=2.6->tensorflow~=2.4) (3.1.1)\n"
          ]
        }
      ]
    },
    {
      "cell_type": "code",
      "metadata": {
        "colab": {
          "base_uri": "https://localhost:8080/"
        },
        "id": "FIrD80LROGBr",
        "outputId": "dbcf486a-ad45-43fa-f0ff-c7d11228a469"
      },
      "source": [
        "# rdkit 설치 파일형식으 데이터 --> 구조이미지로 만들어 주는 툴\n",
        "!pip install kora\n"
      ],
      "execution_count": 6,
      "outputs": [
        {
          "output_type": "stream",
          "name": "stdout",
          "text": [
            "Collecting kora\n",
            "  Downloading kora-0.9.19-py3-none-any.whl (57 kB)\n",
            "\u001b[?25l\r\u001b[K     |█████▊                          | 10 kB 29.3 MB/s eta 0:00:01\r\u001b[K     |███████████▍                    | 20 kB 26.3 MB/s eta 0:00:01\r\u001b[K     |█████████████████               | 30 kB 19.0 MB/s eta 0:00:01\r\u001b[K     |██████████████████████▊         | 40 kB 16.8 MB/s eta 0:00:01\r\u001b[K     |████████████████████████████▍   | 51 kB 11.1 MB/s eta 0:00:01\r\u001b[K     |████████████████████████████████| 57 kB 3.9 MB/s \n",
            "\u001b[?25hRequirement already satisfied: ipython in /usr/local/lib/python3.7/dist-packages (from kora) (5.5.0)\n",
            "Collecting fastcore\n",
            "  Downloading fastcore-1.3.27-py3-none-any.whl (56 kB)\n",
            "\u001b[K     |████████████████████████████████| 56 kB 5.5 MB/s \n",
            "\u001b[?25hRequirement already satisfied: pip in /usr/local/lib/python3.7/dist-packages (from fastcore->kora) (21.1.3)\n",
            "Requirement already satisfied: packaging in /usr/local/lib/python3.7/dist-packages (from fastcore->kora) (21.3)\n",
            "Requirement already satisfied: pygments in /usr/local/lib/python3.7/dist-packages (from ipython->kora) (2.6.1)\n",
            "Requirement already satisfied: pexpect in /usr/local/lib/python3.7/dist-packages (from ipython->kora) (4.8.0)\n",
            "Requirement already satisfied: setuptools>=18.5 in /usr/local/lib/python3.7/dist-packages (from ipython->kora) (57.4.0)\n",
            "Requirement already satisfied: prompt-toolkit<2.0.0,>=1.0.4 in /usr/local/lib/python3.7/dist-packages (from ipython->kora) (1.0.18)\n",
            "Requirement already satisfied: simplegeneric>0.8 in /usr/local/lib/python3.7/dist-packages (from ipython->kora) (0.8.1)\n",
            "Requirement already satisfied: traitlets>=4.2 in /usr/local/lib/python3.7/dist-packages (from ipython->kora) (5.1.1)\n",
            "Requirement already satisfied: decorator in /usr/local/lib/python3.7/dist-packages (from ipython->kora) (4.4.2)\n",
            "Requirement already satisfied: pickleshare in /usr/local/lib/python3.7/dist-packages (from ipython->kora) (0.7.5)\n",
            "Requirement already satisfied: wcwidth in /usr/local/lib/python3.7/dist-packages (from prompt-toolkit<2.0.0,>=1.0.4->ipython->kora) (0.2.5)\n",
            "Requirement already satisfied: six>=1.9.0 in /usr/local/lib/python3.7/dist-packages (from prompt-toolkit<2.0.0,>=1.0.4->ipython->kora) (1.15.0)\n",
            "Requirement already satisfied: pyparsing!=3.0.5,>=2.0.2 in /usr/local/lib/python3.7/dist-packages (from packaging->fastcore->kora) (3.0.6)\n",
            "Requirement already satisfied: ptyprocess>=0.5 in /usr/local/lib/python3.7/dist-packages (from pexpect->ipython->kora) (0.7.0)\n",
            "Installing collected packages: fastcore, kora\n",
            "Successfully installed fastcore-1.3.27 kora-0.9.19\n"
          ]
        }
      ]
    },
    {
      "cell_type": "code",
      "metadata": {
        "id": "3VBSpZOcsu6o"
      },
      "source": [
        "import deepchem \n",
        "import kora.install.rdkit"
      ],
      "execution_count": 7,
      "outputs": []
    },
    {
      "cell_type": "code",
      "metadata": {
        "colab": {
          "base_uri": "https://localhost:8080/"
        },
        "id": "244_Dnf-EuAj",
        "outputId": "b28bfc7c-4ad7-4fde-d74e-29a983083cd3"
      },
      "source": [
        "# 데이터 셋 불러오기\n",
        "\n",
        "from deepchem.utils.save import load_from_disk\n",
        "dataset_file= \"delaney-processed.csv\"\n",
        "\n",
        "# Loading the data from the CSV file\n",
        "loader = deepchem.data.CSVLoader(tasks=[\"ESOL predicted log solubility in mols per litre\"], \n",
        "                                 smiles_field=\"smiles\", \n",
        "                                 featurizer=deepchem.feat.ConvMolFeaturizer())\n",
        "# Featurizing the dataset with ConvMolFeaturizer\n",
        "dataset = loader.featurize(dataset_file)"
      ],
      "execution_count": 8,
      "outputs": [
        {
          "output_type": "stream",
          "name": "stderr",
          "text": [
            "deepchem.utils.save has been deprecated.\n",
            "The utilities in save.py are moved to deepchem.utils.data_utils or deepchem.utils.genomics_utils.\n",
            "smiles_field is deprecated and will be removed in a future version of DeepChem.Use feature_field instead.\n",
            "/usr/local/lib/python3.7/dist-packages/deepchem/data/data_loader.py:163: FutureWarning: featurize() is deprecated and has been renamed to create_dataset().featurize() will be removed in DeepChem 3.0\n",
            "  \"featurize() will be removed in DeepChem 3.0\", FutureWarning)\n"
          ]
        }
      ]
    },
    {
      "cell_type": "code",
      "metadata": {
        "colab": {
          "base_uri": "https://localhost:8080/",
          "height": 442
        },
        "id": "p7P5Y-vx1uQB",
        "outputId": "d119015f-0646-4890-ed71-366f09ec81ca"
      },
      "source": [
        "# https://deepchem.readthedocs.io/en/latest/api_reference/data.html#diskdataset\n",
        "\"\"\"\n",
        "data_dir (str) – Data directory to write shard to.\n",
        "\n",
        "basename (str) – Basename for the shard in question.\n",
        "\n",
        "X (np.ndarray, optional (default None)) – The features array.\n",
        "\n",
        "y (np.ndarray, optional (default None)) – The labels array.\n",
        "\n",
        "w (np.ndarray, optional (default None)) – The weights array.\n",
        "\n",
        "ids (np.ndarray, optional (default None)) – The identifiers array.\n",
        "\"\"\"\n",
        "print(type(dataset))\n",
        "display(dataset.to_dataframe())"
      ],
      "execution_count": 9,
      "outputs": [
        {
          "output_type": "stream",
          "name": "stdout",
          "text": [
            "<class 'deepchem.data.datasets.DiskDataset'>\n"
          ]
        },
        {
          "output_type": "display_data",
          "data": {
            "text/html": [
              "<div>\n",
              "<style scoped>\n",
              "    .dataframe tbody tr th:only-of-type {\n",
              "        vertical-align: middle;\n",
              "    }\n",
              "\n",
              "    .dataframe tbody tr th {\n",
              "        vertical-align: top;\n",
              "    }\n",
              "\n",
              "    .dataframe thead th {\n",
              "        text-align: right;\n",
              "    }\n",
              "</style>\n",
              "<table border=\"1\" class=\"dataframe\">\n",
              "  <thead>\n",
              "    <tr style=\"text-align: right;\">\n",
              "      <th></th>\n",
              "      <th>X</th>\n",
              "      <th>y</th>\n",
              "      <th>w</th>\n",
              "      <th>ids</th>\n",
              "    </tr>\n",
              "  </thead>\n",
              "  <tbody>\n",
              "    <tr>\n",
              "      <th>0</th>\n",
              "      <td>&lt;deepchem.feat.mol_graphs.ConvMol object at 0x...</td>\n",
              "      <td>-0.974</td>\n",
              "      <td>1.0</td>\n",
              "      <td>OCC3OC(OCC2OC(OC(C#N)c1ccccc1)C(O)C(O)C2O)C(O)...</td>\n",
              "    </tr>\n",
              "    <tr>\n",
              "      <th>1</th>\n",
              "      <td>&lt;deepchem.feat.mol_graphs.ConvMol object at 0x...</td>\n",
              "      <td>-2.885</td>\n",
              "      <td>1.0</td>\n",
              "      <td>Cc1occc1C(=O)Nc2ccccc2</td>\n",
              "    </tr>\n",
              "    <tr>\n",
              "      <th>2</th>\n",
              "      <td>&lt;deepchem.feat.mol_graphs.ConvMol object at 0x...</td>\n",
              "      <td>-2.579</td>\n",
              "      <td>1.0</td>\n",
              "      <td>CC(C)=CCCC(C)=CC(=O)</td>\n",
              "    </tr>\n",
              "    <tr>\n",
              "      <th>3</th>\n",
              "      <td>&lt;deepchem.feat.mol_graphs.ConvMol object at 0x...</td>\n",
              "      <td>-6.618</td>\n",
              "      <td>1.0</td>\n",
              "      <td>c1ccc2c(c1)ccc3c2ccc4c5ccccc5ccc43</td>\n",
              "    </tr>\n",
              "    <tr>\n",
              "      <th>4</th>\n",
              "      <td>&lt;deepchem.feat.mol_graphs.ConvMol object at 0x...</td>\n",
              "      <td>-2.232</td>\n",
              "      <td>1.0</td>\n",
              "      <td>c1ccsc1</td>\n",
              "    </tr>\n",
              "    <tr>\n",
              "      <th>...</th>\n",
              "      <td>...</td>\n",
              "      <td>...</td>\n",
              "      <td>...</td>\n",
              "      <td>...</td>\n",
              "    </tr>\n",
              "    <tr>\n",
              "      <th>1123</th>\n",
              "      <td>&lt;deepchem.feat.mol_graphs.ConvMol object at 0x...</td>\n",
              "      <td>-2.608</td>\n",
              "      <td>1.0</td>\n",
              "      <td>FC(F)(F)C(Cl)Br</td>\n",
              "    </tr>\n",
              "    <tr>\n",
              "      <th>1124</th>\n",
              "      <td>&lt;deepchem.feat.mol_graphs.ConvMol object at 0x...</td>\n",
              "      <td>-0.908</td>\n",
              "      <td>1.0</td>\n",
              "      <td>CNC(=O)ON=C(SC)C(=O)N(C)C</td>\n",
              "    </tr>\n",
              "    <tr>\n",
              "      <th>1125</th>\n",
              "      <td>&lt;deepchem.feat.mol_graphs.ConvMol object at 0x...</td>\n",
              "      <td>-3.323</td>\n",
              "      <td>1.0</td>\n",
              "      <td>CCSCCSP(=S)(OC)OC</td>\n",
              "    </tr>\n",
              "    <tr>\n",
              "      <th>1126</th>\n",
              "      <td>&lt;deepchem.feat.mol_graphs.ConvMol object at 0x...</td>\n",
              "      <td>-2.245</td>\n",
              "      <td>1.0</td>\n",
              "      <td>CCC(C)C</td>\n",
              "    </tr>\n",
              "    <tr>\n",
              "      <th>1127</th>\n",
              "      <td>&lt;deepchem.feat.mol_graphs.ConvMol object at 0x...</td>\n",
              "      <td>-4.320</td>\n",
              "      <td>1.0</td>\n",
              "      <td>COP(=O)(OC)OC(=CCl)c1cc(Cl)c(Cl)cc1Cl</td>\n",
              "    </tr>\n",
              "  </tbody>\n",
              "</table>\n",
              "<p>1128 rows × 4 columns</p>\n",
              "</div>"
            ],
            "text/plain": [
              "                                                      X  ...                                                ids\n",
              "0     <deepchem.feat.mol_graphs.ConvMol object at 0x...  ...  OCC3OC(OCC2OC(OC(C#N)c1ccccc1)C(O)C(O)C2O)C(O)...\n",
              "1     <deepchem.feat.mol_graphs.ConvMol object at 0x...  ...                             Cc1occc1C(=O)Nc2ccccc2\n",
              "2     <deepchem.feat.mol_graphs.ConvMol object at 0x...  ...                               CC(C)=CCCC(C)=CC(=O)\n",
              "3     <deepchem.feat.mol_graphs.ConvMol object at 0x...  ...                 c1ccc2c(c1)ccc3c2ccc4c5ccccc5ccc43\n",
              "4     <deepchem.feat.mol_graphs.ConvMol object at 0x...  ...                                            c1ccsc1\n",
              "...                                                 ...  ...                                                ...\n",
              "1123  <deepchem.feat.mol_graphs.ConvMol object at 0x...  ...                                   FC(F)(F)C(Cl)Br \n",
              "1124  <deepchem.feat.mol_graphs.ConvMol object at 0x...  ...                          CNC(=O)ON=C(SC)C(=O)N(C)C\n",
              "1125  <deepchem.feat.mol_graphs.ConvMol object at 0x...  ...                                  CCSCCSP(=S)(OC)OC\n",
              "1126  <deepchem.feat.mol_graphs.ConvMol object at 0x...  ...                                            CCC(C)C\n",
              "1127  <deepchem.feat.mol_graphs.ConvMol object at 0x...  ...              COP(=O)(OC)OC(=CCl)c1cc(Cl)c(Cl)cc1Cl\n",
              "\n",
              "[1128 rows x 4 columns]"
            ]
          },
          "metadata": {}
        }
      ]
    },
    {
      "cell_type": "code",
      "metadata": {
        "colab": {
          "base_uri": "https://localhost:8080/",
          "height": 313
        },
        "id": "HFj6Y0U99zaf",
        "outputId": "96259d80-53bf-4741-b00a-76594546ec14"
      },
      "source": [
        "#데이터셋 판다스로 불러오기\n",
        "\n",
        "import pandas as pd\n",
        "data = pd.read_csv('https://raw.githubusercontent.com/deepchem/deepchem/master/datasets/delaney-processed.csv')\n",
        "data.head()"
      ],
      "execution_count": 10,
      "outputs": [
        {
          "output_type": "execute_result",
          "data": {
            "text/html": [
              "<div>\n",
              "<style scoped>\n",
              "    .dataframe tbody tr th:only-of-type {\n",
              "        vertical-align: middle;\n",
              "    }\n",
              "\n",
              "    .dataframe tbody tr th {\n",
              "        vertical-align: top;\n",
              "    }\n",
              "\n",
              "    .dataframe thead th {\n",
              "        text-align: right;\n",
              "    }\n",
              "</style>\n",
              "<table border=\"1\" class=\"dataframe\">\n",
              "  <thead>\n",
              "    <tr style=\"text-align: right;\">\n",
              "      <th></th>\n",
              "      <th>Compound ID</th>\n",
              "      <th>ESOL predicted log solubility in mols per litre</th>\n",
              "      <th>Minimum Degree</th>\n",
              "      <th>Molecular Weight</th>\n",
              "      <th>Number of H-Bond Donors</th>\n",
              "      <th>Number of Rings</th>\n",
              "      <th>Number of Rotatable Bonds</th>\n",
              "      <th>Polar Surface Area</th>\n",
              "      <th>measured log solubility in mols per litre</th>\n",
              "      <th>smiles</th>\n",
              "    </tr>\n",
              "  </thead>\n",
              "  <tbody>\n",
              "    <tr>\n",
              "      <th>0</th>\n",
              "      <td>Amigdalin</td>\n",
              "      <td>-0.974</td>\n",
              "      <td>1</td>\n",
              "      <td>457.432</td>\n",
              "      <td>7</td>\n",
              "      <td>3</td>\n",
              "      <td>7</td>\n",
              "      <td>202.32</td>\n",
              "      <td>-0.77</td>\n",
              "      <td>OCC3OC(OCC2OC(OC(C#N)c1ccccc1)C(O)C(O)C2O)C(O)...</td>\n",
              "    </tr>\n",
              "    <tr>\n",
              "      <th>1</th>\n",
              "      <td>Fenfuram</td>\n",
              "      <td>-2.885</td>\n",
              "      <td>1</td>\n",
              "      <td>201.225</td>\n",
              "      <td>1</td>\n",
              "      <td>2</td>\n",
              "      <td>2</td>\n",
              "      <td>42.24</td>\n",
              "      <td>-3.30</td>\n",
              "      <td>Cc1occc1C(=O)Nc2ccccc2</td>\n",
              "    </tr>\n",
              "    <tr>\n",
              "      <th>2</th>\n",
              "      <td>citral</td>\n",
              "      <td>-2.579</td>\n",
              "      <td>1</td>\n",
              "      <td>152.237</td>\n",
              "      <td>0</td>\n",
              "      <td>0</td>\n",
              "      <td>4</td>\n",
              "      <td>17.07</td>\n",
              "      <td>-2.06</td>\n",
              "      <td>CC(C)=CCCC(C)=CC(=O)</td>\n",
              "    </tr>\n",
              "    <tr>\n",
              "      <th>3</th>\n",
              "      <td>Picene</td>\n",
              "      <td>-6.618</td>\n",
              "      <td>2</td>\n",
              "      <td>278.354</td>\n",
              "      <td>0</td>\n",
              "      <td>5</td>\n",
              "      <td>0</td>\n",
              "      <td>0.00</td>\n",
              "      <td>-7.87</td>\n",
              "      <td>c1ccc2c(c1)ccc3c2ccc4c5ccccc5ccc43</td>\n",
              "    </tr>\n",
              "    <tr>\n",
              "      <th>4</th>\n",
              "      <td>Thiophene</td>\n",
              "      <td>-2.232</td>\n",
              "      <td>2</td>\n",
              "      <td>84.143</td>\n",
              "      <td>0</td>\n",
              "      <td>1</td>\n",
              "      <td>0</td>\n",
              "      <td>0.00</td>\n",
              "      <td>-1.33</td>\n",
              "      <td>c1ccsc1</td>\n",
              "    </tr>\n",
              "  </tbody>\n",
              "</table>\n",
              "</div>"
            ],
            "text/plain": [
              "  Compound ID  ...                                             smiles\n",
              "0   Amigdalin  ...  OCC3OC(OCC2OC(OC(C#N)c1ccccc1)C(O)C(O)C2O)C(O)...\n",
              "1    Fenfuram  ...                             Cc1occc1C(=O)Nc2ccccc2\n",
              "2      citral  ...                               CC(C)=CCCC(C)=CC(=O)\n",
              "3      Picene  ...                 c1ccc2c(c1)ccc3c2ccc4c5ccccc5ccc43\n",
              "4   Thiophene  ...                                            c1ccsc1\n",
              "\n",
              "[5 rows x 10 columns]"
            ]
          },
          "metadata": {},
          "execution_count": 10
        }
      ]
    },
    {
      "cell_type": "markdown",
      "metadata": {
        "id": "1eLaqaPzYa5l"
      },
      "source": [
        "ESOL(Estimated SOLubility) : https://www.moreisdifferent.com/assets/DIY_drug_discovery/Delaney_paper.pdf\n",
        "\n"
      ]
    },
    {
      "cell_type": "code",
      "metadata": {
        "colab": {
          "base_uri": "https://localhost:8080/"
        },
        "id": "-5QmKQJ2QrFR",
        "outputId": "9bda96a5-a5bc-4c86-9506-5cb8e97617a3"
      },
      "source": [
        "print(\"Columns of dataset: %s\" % str(data.columns.values))\n",
        "print(\"Number of examples in dataset: %s\" % str(data.shape))"
      ],
      "execution_count": 11,
      "outputs": [
        {
          "output_type": "stream",
          "name": "stdout",
          "text": [
            "Columns of dataset: ['Compound ID' 'ESOL predicted log solubility in mols per litre'\n",
            " 'Minimum Degree' 'Molecular Weight' 'Number of H-Bond Donors'\n",
            " 'Number of Rings' 'Number of Rotatable Bonds' 'Polar Surface Area'\n",
            " 'measured log solubility in mols per litre' 'smiles']\n",
            "Number of examples in dataset: (1128, 10)\n"
          ]
        }
      ]
    },
    {
      "cell_type": "code",
      "metadata": {
        "colab": {
          "base_uri": "https://localhost:8080/",
          "height": 295
        },
        "id": "T2zBHBPjWGoK",
        "outputId": "39186d7e-690a-4e3d-f689-66b3c3d5ce51"
      },
      "source": [
        "%matplotlib inline\n",
        "import matplotlib\n",
        "import numpy as np\n",
        "import matplotlib.pyplot as plt\n",
        "\n",
        "solubilities = data[\"measured log solubility in mols per litre\"]\n",
        "plt.hist(solubilities, 50, facecolor='green', alpha=0.75)\n",
        "plt.xlabel('Measured log-solubility in mols/liter')\n",
        "plt.ylabel('Number of compounds')\n",
        "plt.title(r'Histogram of measured solubilities')\n",
        "plt.grid(True)\n",
        "plt.show()"
      ],
      "execution_count": 12,
      "outputs": [
        {
          "output_type": "display_data",
          "data": {
            "image/png": "[encoded data removed]",
            "text/plain": [
              "<Figure size 432x288 with 1 Axes>"
            ]
          },
          "metadata": {
            "needs_background": "light"
          }
        }
      ]
    },
    {
      "cell_type": "code",
      "metadata": {
        "colab": {
          "base_uri": "https://localhost:8080/",
          "height": 295
        },
        "id": "80-YLWb3Wd7E",
        "outputId": "086f36f5-4a3a-492e-f616-8ecfdbbe3cb1"
      },
      "source": [
        "solubilities = data[\"ESOL predicted log solubility in mols per litre\"]\n",
        "plt.hist(solubilities, 50, facecolor='red', alpha=0.75)\n",
        "plt.xlabel('ESOL Predicted solubility in mols/liter')\n",
        "plt.ylabel('Number of compounds')\n",
        "plt.title(r'Histogram of predicted solubilities')\n",
        "plt.grid(True)\n",
        "plt.show()"
      ],
      "execution_count": 13,
      "outputs": [
        {
          "output_type": "display_data",
          "data": {
            "image/png": "[encoded data removed]",
            "text/plain": [
              "<Figure size 432x288 with 1 Axes>"
            ]
          },
          "metadata": {
            "needs_background": "light"
          }
        }
      ]
    },
    {
      "cell_type": "code",
      "metadata": {
        "id": "UK8UiNK9ljrc",
        "colab": {
          "base_uri": "https://localhost:8080/"
        },
        "outputId": "381d4012-efbc-495c-e320-718a46649f78"
      },
      "source": [
        "from scipy import stats\n",
        "import statsmodels.api as sm\n",
        "from statsmodels.formula.api import ols\n",
        "from scipy.stats import norm"
      ],
      "execution_count": 14,
      "outputs": [
        {
          "output_type": "stream",
          "name": "stderr",
          "text": [
            "/usr/local/lib/python3.7/dist-packages/statsmodels/tools/_testing.py:19: FutureWarning: pandas.util.testing is deprecated. Use the functions in the public API at pandas.testing instead.\n",
            "  import pandas.util.testing as tm\n"
          ]
        }
      ]
    },
    {
      "cell_type": "code",
      "metadata": {
        "colab": {
          "base_uri": "https://localhost:8080/",
          "height": 553
        },
        "id": "4K13x9EZW8CC",
        "outputId": "fbb9f584-3df2-42de-82ba-e74f1d853a41"
      },
      "source": [
        "df = data[[\"ESOL predicted log solubility in mols per litre\",\"measured log solubility in mols per litre\"]]\n",
        "df['difference'] = (data[\"ESOL predicted log solubility in mols per litre\"] - data[\"measured log solubility in mols per litre\"]).abs()\n",
        "df"
      ],
      "execution_count": 15,
      "outputs": [
        {
          "output_type": "stream",
          "name": "stderr",
          "text": [
            "/usr/local/lib/python3.7/dist-packages/ipykernel_launcher.py:2: SettingWithCopyWarning: \n",
            "A value is trying to be set on a copy of a slice from a DataFrame.\n",
            "Try using .loc[row_indexer,col_indexer] = value instead\n",
            "\n",
            "See the caveats in the documentation: https://pandas.pydata.org/pandas-docs/stable/user_guide/indexing.html#returning-a-view-versus-a-copy\n",
            "  \n"
          ]
        },
        {
          "output_type": "execute_result",
          "data": {
            "text/html": [
              "<div>\n",
              "<style scoped>\n",
              "    .dataframe tbody tr th:only-of-type {\n",
              "        vertical-align: middle;\n",
              "    }\n",
              "\n",
              "    .dataframe tbody tr th {\n",
              "        vertical-align: top;\n",
              "    }\n",
              "\n",
              "    .dataframe thead th {\n",
              "        text-align: right;\n",
              "    }\n",
              "</style>\n",
              "<table border=\"1\" class=\"dataframe\">\n",
              "  <thead>\n",
              "    <tr style=\"text-align: right;\">\n",
              "      <th></th>\n",
              "      <th>ESOL predicted log solubility in mols per litre</th>\n",
              "      <th>measured log solubility in mols per litre</th>\n",
              "      <th>difference</th>\n",
              "    </tr>\n",
              "  </thead>\n",
              "  <tbody>\n",
              "    <tr>\n",
              "      <th>0</th>\n",
              "      <td>-0.974</td>\n",
              "      <td>-0.770</td>\n",
              "      <td>0.204</td>\n",
              "    </tr>\n",
              "    <tr>\n",
              "      <th>1</th>\n",
              "      <td>-2.885</td>\n",
              "      <td>-3.300</td>\n",
              "      <td>0.415</td>\n",
              "    </tr>\n",
              "    <tr>\n",
              "      <th>2</th>\n",
              "      <td>-2.579</td>\n",
              "      <td>-2.060</td>\n",
              "      <td>0.519</td>\n",
              "    </tr>\n",
              "    <tr>\n",
              "      <th>3</th>\n",
              "      <td>-6.618</td>\n",
              "      <td>-7.870</td>\n",
              "      <td>1.252</td>\n",
              "    </tr>\n",
              "    <tr>\n",
              "      <th>4</th>\n",
              "      <td>-2.232</td>\n",
              "      <td>-1.330</td>\n",
              "      <td>0.902</td>\n",
              "    </tr>\n",
              "    <tr>\n",
              "      <th>...</th>\n",
              "      <td>...</td>\n",
              "      <td>...</td>\n",
              "      <td>...</td>\n",
              "    </tr>\n",
              "    <tr>\n",
              "      <th>1123</th>\n",
              "      <td>-2.608</td>\n",
              "      <td>-1.710</td>\n",
              "      <td>0.898</td>\n",
              "    </tr>\n",
              "    <tr>\n",
              "      <th>1124</th>\n",
              "      <td>-0.908</td>\n",
              "      <td>0.106</td>\n",
              "      <td>1.014</td>\n",
              "    </tr>\n",
              "    <tr>\n",
              "      <th>1125</th>\n",
              "      <td>-3.323</td>\n",
              "      <td>-3.091</td>\n",
              "      <td>0.232</td>\n",
              "    </tr>\n",
              "    <tr>\n",
              "      <th>1126</th>\n",
              "      <td>-2.245</td>\n",
              "      <td>-3.180</td>\n",
              "      <td>0.935</td>\n",
              "    </tr>\n",
              "    <tr>\n",
              "      <th>1127</th>\n",
              "      <td>-4.320</td>\n",
              "      <td>-4.522</td>\n",
              "      <td>0.202</td>\n",
              "    </tr>\n",
              "  </tbody>\n",
              "</table>\n",
              "<p>1128 rows × 3 columns</p>\n",
              "</div>"
            ],
            "text/plain": [
              "      ESOL predicted log solubility in mols per litre  ...  difference\n",
              "0                                              -0.974  ...       0.204\n",
              "1                                              -2.885  ...       0.415\n",
              "2                                              -2.579  ...       0.519\n",
              "3                                              -6.618  ...       1.252\n",
              "4                                              -2.232  ...       0.902\n",
              "...                                               ...  ...         ...\n",
              "1123                                           -2.608  ...       0.898\n",
              "1124                                           -0.908  ...       1.014\n",
              "1125                                           -3.323  ...       0.232\n",
              "1126                                           -2.245  ...       0.935\n",
              "1127                                           -4.320  ...       0.202\n",
              "\n",
              "[1128 rows x 3 columns]"
            ]
          },
          "metadata": {},
          "execution_count": 15
        }
      ]
    },
    {
      "cell_type": "markdown",
      "metadata": {
        "id": "PjI7UXA9m-9C"
      },
      "source": [
        "귀무 가설 : 두 데이터는 정규분포를 따르며 두 집단간의 평균차이가 없다\n",
        "\n",
        "대안 가설 : 두 데이터는 정규분포를 따르지 않으며 두 집단간의 평균차이가 있다."
      ]
    },
    {
      "cell_type": "code",
      "metadata": {
        "colab": {
          "base_uri": "https://localhost:8080/"
        },
        "id": "TMj9sLALl9Ye",
        "outputId": "e05a77a6-ce35-45f5-b3f3-81bd2a8d9118"
      },
      "source": [
        "pv = stats.ttest_ind(data[\"ESOL predicted log solubility in mols per litre\"], data[\"measured log solubility in mols per litre\"]).pvalue\n",
        "print(pv)\n",
        "\n",
        "# p_value값이 0.05보다 월등히 크므로 귀무 가설을 기각 하지 않고 정규 분포를 따르며 두 집단간의 평균차이가 없음을 알 수 있다."
      ],
      "execution_count": 16,
      "outputs": [
        {
          "output_type": "stream",
          "name": "stdout",
          "text": [
            "0.4393770342209081\n"
          ]
        }
      ]
    },
    {
      "cell_type": "code",
      "metadata": {
        "colab": {
          "base_uri": "https://localhost:8080/",
          "height": 295
        },
        "id": "JaQluHHGwuro",
        "outputId": "17e82116-8a65-4f7e-8559-37f3d488066c"
      },
      "source": [
        "# data[\"ESOL predicted log solubility in mols per litre\"] - data[\"measured log solubility in mols per litre\"]\n",
        "plt.hist(df['difference'], 50, facecolor='red', alpha=0.75)\n",
        "plt.xlabel('Difference')\n",
        "plt.ylabel('Number of differnce')\n",
        "plt.title(r'The difference between ESOL and measured')\n",
        "# plt.subtitle(\"\")\n",
        "plt.grid(True)\n",
        "plt.show()"
      ],
      "execution_count": 17,
      "outputs": [
        {
          "output_type": "display_data",
          "data": {
            "image/png": "[encoded data removed]",
            "text/plain": [
              "<Figure size 432x288 with 1 Axes>"
            ]
          },
          "metadata": {
            "needs_background": "light"
          }
        }
      ]
    },
    {
      "cell_type": "markdown",
      "metadata": {
        "id": "31tx2xa4QvL9"
      },
      "source": [
        "각 데이터 간의 차이도 작은 수준에 훨씬 많이 분포 되어 있는 것을 알 수 있다.\n",
        "\n",
        "결론 : 용해도를 실제로 측정한 값과 화합물의 구조를 통해 측정한 값의 차이가 크게 의미가 없음을 알 수 있다."
      ]
    },
    {
      "cell_type": "code",
      "metadata": {
        "id": "PNfbkSfABrwb"
      },
      "source": [
        "import tempfile\n",
        "from rdkit import Chem\n",
        "from rdkit.Chem import Draw\n",
        "from itertools import islice\n",
        "from IPython.display import Image, display\n",
        "\n",
        "def display_images(filenames):\n",
        "    \"\"\"Helper to pretty-print images.\"\"\"\n",
        "    for file in filenames:\n",
        "      display(Image(file))\n",
        "\n",
        "def mols_to_pngs(mols, basename=\"test\"):\n",
        "    \"\"\"Helper to write RDKit mols to png files.\"\"\"\n",
        "    filenames = []\n",
        "    for i, mol in enumerate(mols):\n",
        "        filename = \"%s%d.png\" % (basename, i)\n",
        "        Draw.MolToFile(mol, filename)\n",
        "        filenames.append(filename)\n",
        "    return filenames"
      ],
      "execution_count": 18,
      "outputs": []
    },
    {
      "cell_type": "markdown",
      "metadata": {
        "id": "FMFA8yBnQ71l"
      },
      "source": [
        "SMILES 데이터를 이미지 데이터로 바꾸어 살펴보기"
      ]
    },
    {
      "cell_type": "code",
      "metadata": {
        "id": "ZkAymy7pBtsR",
        "colab": {
          "base_uri": "https://localhost:8080/",
          "height": 1000
        },
        "outputId": "f24ee7e6-6b47-4557-d2d5-67c7e3265685"
      },
      "source": [
        "# smiles --> image 변환 \n",
        "num_to_display = 14\n",
        "molecules = []\n",
        "for _, data in islice(data.iterrows(), num_to_display):\n",
        "  molecules.append(Chem.MolFromSmiles(data[\"smiles\"]))\n",
        "display_images(mols_to_pngs(molecules))"
      ],
      "execution_count": 19,
      "outputs": [
        {
          "output_type": "display_data",
          "data": {
            "image/png": "[encoded data removed]",
            "text/plain": [
              "<IPython.core.display.Image object>"
            ]
          },
          "metadata": {}
        },
        {
          "output_type": "display_data",
          "data": {
            "image/png": "[encoded data removed]",
            "text/plain": [
              "<IPython.core.display.Image object>"
            ]
          },
          "metadata": {}
        },
        {
          "output_type": "display_data",
          "data": {
            "image/png": "[encoded data removed]",
            "text/plain": [
              "<IPython.core.display.Image object>"
            ]
          },
          "metadata": {}
        },
        {
          "output_type": "display_data",
          "data": {
            "image/png": "[encoded data removed]",
            "text/plain": [
              "<IPython.core.display.Image object>"
            ]
          },
          "metadata": {}
        },
        {
          "output_type": "display_data",
          "data": {
            "image/png": "[encoded data removed]",
            "text/plain": [
              "<IPython.core.display.Image object>"
            ]
          },
          "metadata": {}
        },
        {
          "output_type": "display_data",
          "data": {
            "image/png": "[encoded data removed]",
            "text/plain": [
              "<IPython.core.display.Image object>"
            ]
          },
          "metadata": {}
        },
        {
          "output_type": "display_data",
          "data": {
            "image/png": "[encoded data removed]",
            "text/plain": [
              "<IPython.core.display.Image object>"
            ]
          },
          "metadata": {}
        },
        {
          "output_type": "display_data",
          "data": {
            "image/png": "[encoded data removed]",
            "text/plain": [
              "<IPython.core.display.Image object>"
            ]
          },
          "metadata": {}
        },
        {
          "output_type": "display_data",
          "data": {
            "image/png": "[encoded data removed]",
            "text/plain": [
              "<IPython.core.display.Image object>"
            ]
          },
          "metadata": {}
        },
        {
          "output_type": "display_data",
          "data": {
            "image/png": "[encoded data removed]",
            "text/plain": [
              "<IPython.core.display.Image object>"
            ]
          },
          "metadata": {}
        },
        {
          "output_type": "display_data",
          "data": {
            "image/png": "[encoded data removed]",
            "text/plain": [
              "<IPython.core.display.Image object>"
            ]
          },
          "metadata": {}
        },
        {
          "output_type": "display_data",
          "data": {
            "image/png": "[encoded data removed]",
            "text/plain": [
              "<IPython.core.display.Image object>"
            ]
          },
          "metadata": {}
        },
        {
          "output_type": "display_data",
          "data": {
            "image/png": "[encoded data removed]",
            "text/plain": [
              "<IPython.core.display.Image object>"
            ]
          },
          "metadata": {}
        },
        {
          "output_type": "display_data",
          "data": {
            "image/png": "[encoded data removed]",
            "text/plain": [
              "<IPython.core.display.Image object>"
            ]
          },
          "metadata": {}
        }
      ]
    },
    {
      "cell_type": "code",
      "metadata": {
        "id": "8RSocOEcjhg1",
        "colab": {
          "base_uri": "https://localhost:8080/",
          "height": 72
        },
        "outputId": "107aab3a-7df4-4279-ce56-0836e7a41f26"
      },
      "source": [
        "# Splitter splits the dataset \n",
        "# In this case it's is an equivalent of train_test_split from sklearn\n",
        "\n",
        "\n",
        "splitter = deepchem.splits.RandomSplitter()\n",
        "# frac_test is 0.01 because we only use a train and valid as an example\n",
        "train, valid, test = splitter.train_valid_test_split(dataset,\n",
        "                                                      frac_train=0.7,\n",
        "                                                      frac_valid=0.29,\n",
        "                                                      frac_test=0.01)\n",
        "\n",
        "\"\"\"\n",
        "from sklearn.model_selection import train_test_split\n",
        "x = dataset.to_dataframe()['ids']\n",
        "y = dataset.to_dataframe()['y']\n",
        "\n",
        "train_x, test_x ,train_y,test_y = train_test_split(x,y, test_size=0.2, random_state=42)\n",
        "\"\"\"\n",
        "\"\"\"\n",
        "# Normalizer will normalize y values in the dataset\n",
        "normalizer = deepchem.trans.NormalizationTransformer(transform_y=True, \n",
        "                                                         dataset=train, \n",
        "                                                         move_mean=True)\n",
        "train = normalizer.transform(train)\n",
        "valid = normalizer.transform(valid)\n",
        "\"\"\""
      ],
      "execution_count": 22,
      "outputs": [
        {
          "output_type": "execute_result",
          "data": {
            "application/vnd.google.colaboratory.intrinsic+json": {
              "type": "string"
            },
            "text/plain": [
              "'\\n# Normalizer will normalize y values in the dataset\\nnormalizer = deepchem.trans.NormalizationTransformer(transform_y=True, \\n                                                         dataset=train, \\n                                                         move_mean=True)\\ntrain = normalizer.transform(train)\\nvalid = normalizer.transform(valid)\\n'"
            ]
          },
          "metadata": {},
          "execution_count": 22
        }
      ]
    },
    {
      "cell_type": "code",
      "metadata": {
        "id": "5tcsOSCz9gRi",
        "colab": {
          "base_uri": "https://localhost:8080/",
          "height": 182
        },
        "outputId": "4bb5f3cb-0401-4e37-d996-25e87a251c30"
      },
      "source": [
        "\"\"\"\n",
        "deepchem내의 graphconv의 Parameter\n",
        "\n",
        "n_tasks (int) – Number of tasks\n",
        "graph_conv_layers (list of int) – Width of channels for the Graph Convolution Layers\n",
        "dense_layer_size (int) – Width of channels for Atom Level Dense Layer after GraphPool\n",
        "dropout (list or float) – the dropout probablity to use for each layer. The length of this list should equal len(graph_conv_layers)+1 (one value for each convolution layer, and one for the dense layer). Alternatively this may be a single value instead of a list, in which case the same value is used for every layer.\n",
        "mode (str) – Either “classification” or “regression”\n",
        "number_atom_features (int) – 75 is the default number of atom features created, but this can vary if various options are passed to the function atom_features in graph_features\n",
        "n_classes (int) – the number of classes to predict (only used in classification mode)\n",
        "batch_normalize (True) – if True, apply batch normalization to model\n",
        "uncertainty (bool) – if True, include extra outputs and loss terms to enable the uncertainty in outputs to be predicted\n",
        "\n",
        "\"\"\""
      ],
      "execution_count": 23,
      "outputs": [
        {
          "output_type": "execute_result",
          "data": {
            "application/vnd.google.colaboratory.intrinsic+json": {
              "type": "string"
            },
            "text/plain": [
              "'\\ndeepchem내의 graphconv의 Parameter\\n\\nn_tasks (int) – Number of tasks\\ngraph_conv_layers (list of int) – Width of channels for the Graph Convolution Layers\\ndense_layer_size (int) – Width of channels for Atom Level Dense Layer after GraphPool\\ndropout (list or float) – the dropout probablity to use for each layer. The length of this list should equal len(graph_conv_layers)+1 (one value for each convolution layer, and one for the dense layer). Alternatively this may be a single value instead of a list, in which case the same value is used for every layer.\\nmode (str) – Either “classification” or “regression”\\nnumber_atom_features (int) – 75 is the default number of atom features created, but this can vary if various options are passed to the function atom_features in graph_features\\nn_classes (int) – the number of classes to predict (only used in classification mode)\\nbatch_normalize (True) – if True, apply batch normalization to model\\nuncertainty (bool) – if True, include extra outputs and loss terms to enable the uncertainty in outputs to be predicted\\n\\n'"
            ]
          },
          "metadata": {},
          "execution_count": 23
        }
      ]
    },
    {
      "cell_type": "code",
      "metadata": {
        "id": "oEUAipS9jrT_"
      },
      "source": [
        "# https://deepchem.readthedocs.io/en/latest/api_reference/models.html?highlight=GraphConvModel#graphconvmodel\n",
        "\n",
        "from deepchem.models import GraphConvModel\n",
        "graph_conv = GraphConvModel(1,\n",
        "                            batch_size=50,\n",
        "                            mode=\"regression\")\n",
        "# Defining metric. Closer to 1 is better\n",
        "metric = deepchem.metrics.Metric(deepchem.metrics.pearson_r2_score)"
      ],
      "execution_count": 24,
      "outputs": []
    },
    {
      "cell_type": "code",
      "metadata": {
        "id": "cH5KYVLXjvwU"
      },
      "source": [
        "# Fitting the model\n",
        "graph_conv.fit(train, nb_epoch=50)\n",
        "\n",
        "# Reversing the transformation and getting the metric scores on 2 datasets\n",
        "train_scores = graph_conv.evaluate(train, [metric])\n",
        "valid_scores = graph_conv.evaluate(valid, [metric])"
      ],
      "execution_count": 27,
      "outputs": []
    },
    {
      "cell_type": "code",
      "metadata": {
        "id": "YqUc20cPWNDe",
        "colab": {
          "base_uri": "https://localhost:8080/"
        },
        "outputId": "5d665dd4-272b-4949-ae31-64bbb203ac7b"
      },
      "source": [
        "print(\"train_scores :\",train_scores) \n",
        "print(\"valid_scores :\",valid_scores) "
      ],
      "execution_count": 28,
      "outputs": [
        {
          "output_type": "stream",
          "name": "stdout",
          "text": [
            "train_scores : {'pearson_r2_score': 0.9913797174994095}\n",
            "valid_scores : {'pearson_r2_score': 0.8457298521005786}\n"
          ]
        }
      ]
    },
    {
      "cell_type": "code",
      "metadata": {
        "id": "QDlxrmm7l8pc",
        "colab": {
          "base_uri": "https://localhost:8080/",
          "height": 832
        },
        "outputId": "a03128bd-1766-4f82-c564-ebe46c0cccdb"
      },
      "source": [
        "display(test.to_dataframe())\n",
        "display(train.to_dataframe())"
      ],
      "execution_count": 29,
      "outputs": [
        {
          "output_type": "display_data",
          "data": {
            "text/html": [
              "<div>\n",
              "<style scoped>\n",
              "    .dataframe tbody tr th:only-of-type {\n",
              "        vertical-align: middle;\n",
              "    }\n",
              "\n",
              "    .dataframe tbody tr th {\n",
              "        vertical-align: top;\n",
              "    }\n",
              "\n",
              "    .dataframe thead th {\n",
              "        text-align: right;\n",
              "    }\n",
              "</style>\n",
              "<table border=\"1\" class=\"dataframe\">\n",
              "  <thead>\n",
              "    <tr style=\"text-align: right;\">\n",
              "      <th></th>\n",
              "      <th>X</th>\n",
              "      <th>y</th>\n",
              "      <th>w</th>\n",
              "      <th>ids</th>\n",
              "    </tr>\n",
              "  </thead>\n",
              "  <tbody>\n",
              "    <tr>\n",
              "      <th>0</th>\n",
              "      <td>&lt;deepchem.feat.mol_graphs.ConvMol object at 0x...</td>\n",
              "      <td>-5.168</td>\n",
              "      <td>1.0</td>\n",
              "      <td>Clc1cc(Cl)c(Cl)c(Cl)c1Cl</td>\n",
              "    </tr>\n",
              "    <tr>\n",
              "      <th>1</th>\n",
              "      <td>&lt;deepchem.feat.mol_graphs.ConvMol object at 0x...</td>\n",
              "      <td>-1.156</td>\n",
              "      <td>1.0</td>\n",
              "      <td>ClCCl</td>\n",
              "    </tr>\n",
              "    <tr>\n",
              "      <th>2</th>\n",
              "      <td>&lt;deepchem.feat.mol_graphs.ConvMol object at 0x...</td>\n",
              "      <td>-3.738</td>\n",
              "      <td>1.0</td>\n",
              "      <td>CCOC(=O)N(C)C(=O)CSP(=S)(OCC)OCC</td>\n",
              "    </tr>\n",
              "    <tr>\n",
              "      <th>3</th>\n",
              "      <td>&lt;deepchem.feat.mol_graphs.ConvMol object at 0x...</td>\n",
              "      <td>-1.446</td>\n",
              "      <td>1.0</td>\n",
              "      <td>CNC(=O)C(C)SCCSP(=O)(OC)(OC)</td>\n",
              "    </tr>\n",
              "    <tr>\n",
              "      <th>4</th>\n",
              "      <td>&lt;deepchem.feat.mol_graphs.ConvMol object at 0x...</td>\n",
              "      <td>-2.531</td>\n",
              "      <td>1.0</td>\n",
              "      <td>c1ccc2cnccc2c1</td>\n",
              "    </tr>\n",
              "    <tr>\n",
              "      <th>5</th>\n",
              "      <td>&lt;deepchem.feat.mol_graphs.ConvMol object at 0x...</td>\n",
              "      <td>-3.063</td>\n",
              "      <td>1.0</td>\n",
              "      <td>CCCC(C)C1(CC=C)C(=O)NC(=S)NC1=O</td>\n",
              "    </tr>\n",
              "    <tr>\n",
              "      <th>6</th>\n",
              "      <td>&lt;deepchem.feat.mol_graphs.ConvMol object at 0x...</td>\n",
              "      <td>-3.802</td>\n",
              "      <td>1.0</td>\n",
              "      <td>Cc1cccc2ccccc12</td>\n",
              "    </tr>\n",
              "    <tr>\n",
              "      <th>7</th>\n",
              "      <td>&lt;deepchem.feat.mol_graphs.ConvMol object at 0x...</td>\n",
              "      <td>0.123</td>\n",
              "      <td>1.0</td>\n",
              "      <td>CN(C)C(=O)C</td>\n",
              "    </tr>\n",
              "    <tr>\n",
              "      <th>8</th>\n",
              "      <td>&lt;deepchem.feat.mol_graphs.ConvMol object at 0x...</td>\n",
              "      <td>-4.417</td>\n",
              "      <td>1.0</td>\n",
              "      <td>CC(=O)OC3(CCC4C2C=C(C)C1=CC(=O)CCC1(C)C2CCC34C...</td>\n",
              "    </tr>\n",
              "    <tr>\n",
              "      <th>9</th>\n",
              "      <td>&lt;deepchem.feat.mol_graphs.ConvMol object at 0x...</td>\n",
              "      <td>-1.240</td>\n",
              "      <td>1.0</td>\n",
              "      <td>Cc2cnc1cncnc1n2</td>\n",
              "    </tr>\n",
              "    <tr>\n",
              "      <th>10</th>\n",
              "      <td>&lt;deepchem.feat.mol_graphs.ConvMol object at 0x...</td>\n",
              "      <td>-1.632</td>\n",
              "      <td>1.0</td>\n",
              "      <td>Nc1ccccc1</td>\n",
              "    </tr>\n",
              "    <tr>\n",
              "      <th>11</th>\n",
              "      <td>&lt;deepchem.feat.mol_graphs.ConvMol object at 0x...</td>\n",
              "      <td>-6.159</td>\n",
              "      <td>1.0</td>\n",
              "      <td>CCCCCCCCCCCCCCCC</td>\n",
              "    </tr>\n",
              "  </tbody>\n",
              "</table>\n",
              "</div>"
            ],
            "text/plain": [
              "                                                    X  ...                                                ids\n",
              "0   <deepchem.feat.mol_graphs.ConvMol object at 0x...  ...                           Clc1cc(Cl)c(Cl)c(Cl)c1Cl\n",
              "1   <deepchem.feat.mol_graphs.ConvMol object at 0x...  ...                                              ClCCl\n",
              "2   <deepchem.feat.mol_graphs.ConvMol object at 0x...  ...                   CCOC(=O)N(C)C(=O)CSP(=S)(OCC)OCC\n",
              "3   <deepchem.feat.mol_graphs.ConvMol object at 0x...  ...                       CNC(=O)C(C)SCCSP(=O)(OC)(OC)\n",
              "4   <deepchem.feat.mol_graphs.ConvMol object at 0x...  ...                                     c1ccc2cnccc2c1\n",
              "5   <deepchem.feat.mol_graphs.ConvMol object at 0x...  ...                   CCCC(C)C1(CC=C)C(=O)NC(=S)NC1=O \n",
              "6   <deepchem.feat.mol_graphs.ConvMol object at 0x...  ...                                    Cc1cccc2ccccc12\n",
              "7   <deepchem.feat.mol_graphs.ConvMol object at 0x...  ...                                        CN(C)C(=O)C\n",
              "8   <deepchem.feat.mol_graphs.ConvMol object at 0x...  ...  CC(=O)OC3(CCC4C2C=C(C)C1=CC(=O)CCC1(C)C2CCC34C...\n",
              "9   <deepchem.feat.mol_graphs.ConvMol object at 0x...  ...                                    Cc2cnc1cncnc1n2\n",
              "10  <deepchem.feat.mol_graphs.ConvMol object at 0x...  ...                                          Nc1ccccc1\n",
              "11  <deepchem.feat.mol_graphs.ConvMol object at 0x...  ...                                   CCCCCCCCCCCCCCCC\n",
              "\n",
              "[12 rows x 4 columns]"
            ]
          },
          "metadata": {}
        },
        {
          "output_type": "display_data",
          "data": {
            "text/html": [
              "<div>\n",
              "<style scoped>\n",
              "    .dataframe tbody tr th:only-of-type {\n",
              "        vertical-align: middle;\n",
              "    }\n",
              "\n",
              "    .dataframe tbody tr th {\n",
              "        vertical-align: top;\n",
              "    }\n",
              "\n",
              "    .dataframe thead th {\n",
              "        text-align: right;\n",
              "    }\n",
              "</style>\n",
              "<table border=\"1\" class=\"dataframe\">\n",
              "  <thead>\n",
              "    <tr style=\"text-align: right;\">\n",
              "      <th></th>\n",
              "      <th>X</th>\n",
              "      <th>y</th>\n",
              "      <th>w</th>\n",
              "      <th>ids</th>\n",
              "    </tr>\n",
              "  </thead>\n",
              "  <tbody>\n",
              "    <tr>\n",
              "      <th>0</th>\n",
              "      <td>&lt;deepchem.feat.mol_graphs.ConvMol object at 0x...</td>\n",
              "      <td>-2.553</td>\n",
              "      <td>1.0</td>\n",
              "      <td>Cc1c(cccc1N(=O)=O)N(=O)=O</td>\n",
              "    </tr>\n",
              "    <tr>\n",
              "      <th>1</th>\n",
              "      <td>&lt;deepchem.feat.mol_graphs.ConvMol object at 0x...</td>\n",
              "      <td>-2.490</td>\n",
              "      <td>1.0</td>\n",
              "      <td>CCNc1nc(Cl)nc(NC(C)(C)C#N)n1</td>\n",
              "    </tr>\n",
              "    <tr>\n",
              "      <th>2</th>\n",
              "      <td>&lt;deepchem.feat.mol_graphs.ConvMol object at 0x...</td>\n",
              "      <td>-1.463</td>\n",
              "      <td>1.0</td>\n",
              "      <td>CC(C)COC(=O)C</td>\n",
              "    </tr>\n",
              "    <tr>\n",
              "      <th>3</th>\n",
              "      <td>&lt;deepchem.feat.mol_graphs.ConvMol object at 0x...</td>\n",
              "      <td>-1.590</td>\n",
              "      <td>1.0</td>\n",
              "      <td>Oc1ccc(O)cc1</td>\n",
              "    </tr>\n",
              "    <tr>\n",
              "      <th>4</th>\n",
              "      <td>&lt;deepchem.feat.mol_graphs.ConvMol object at 0x...</td>\n",
              "      <td>-1.532</td>\n",
              "      <td>1.0</td>\n",
              "      <td>CC1CC(C)C(=O)C(C1)C(O)CC2CC(=O)NC(=O)C2</td>\n",
              "    </tr>\n",
              "    <tr>\n",
              "      <th>...</th>\n",
              "      <td>...</td>\n",
              "      <td>...</td>\n",
              "      <td>...</td>\n",
              "      <td>...</td>\n",
              "    </tr>\n",
              "    <tr>\n",
              "      <th>784</th>\n",
              "      <td>&lt;deepchem.feat.mol_graphs.ConvMol object at 0x...</td>\n",
              "      <td>-2.195</td>\n",
              "      <td>1.0</td>\n",
              "      <td>c2ccc1NCCc1c2</td>\n",
              "    </tr>\n",
              "    <tr>\n",
              "      <th>785</th>\n",
              "      <td>&lt;deepchem.feat.mol_graphs.ConvMol object at 0x...</td>\n",
              "      <td>-3.099</td>\n",
              "      <td>1.0</td>\n",
              "      <td>FC(F)(F)c1ccccc1</td>\n",
              "    </tr>\n",
              "    <tr>\n",
              "      <th>786</th>\n",
              "      <td>&lt;deepchem.feat.mol_graphs.ConvMol object at 0x...</td>\n",
              "      <td>-4.424</td>\n",
              "      <td>1.0</td>\n",
              "      <td>Cc1ccc(cc1)c2ccccc2</td>\n",
              "    </tr>\n",
              "    <tr>\n",
              "      <th>787</th>\n",
              "      <td>&lt;deepchem.feat.mol_graphs.ConvMol object at 0x...</td>\n",
              "      <td>-2.689</td>\n",
              "      <td>1.0</td>\n",
              "      <td>CSc1nc(nc(n1)N(C)C)N(C)C</td>\n",
              "    </tr>\n",
              "    <tr>\n",
              "      <th>788</th>\n",
              "      <td>&lt;deepchem.feat.mol_graphs.ConvMol object at 0x...</td>\n",
              "      <td>-1.397</td>\n",
              "      <td>1.0</td>\n",
              "      <td>CCCCCCO</td>\n",
              "    </tr>\n",
              "  </tbody>\n",
              "</table>\n",
              "<p>789 rows × 4 columns</p>\n",
              "</div>"
            ],
            "text/plain": [
              "                                                     X  ...                                       ids\n",
              "0    <deepchem.feat.mol_graphs.ConvMol object at 0x...  ...                 Cc1c(cccc1N(=O)=O)N(=O)=O\n",
              "1    <deepchem.feat.mol_graphs.ConvMol object at 0x...  ...              CCNc1nc(Cl)nc(NC(C)(C)C#N)n1\n",
              "2    <deepchem.feat.mol_graphs.ConvMol object at 0x...  ...                             CC(C)COC(=O)C\n",
              "3    <deepchem.feat.mol_graphs.ConvMol object at 0x...  ...                              Oc1ccc(O)cc1\n",
              "4    <deepchem.feat.mol_graphs.ConvMol object at 0x...  ...  CC1CC(C)C(=O)C(C1)C(O)CC2CC(=O)NC(=O)C2 \n",
              "..                                                 ...  ...                                       ...\n",
              "784  <deepchem.feat.mol_graphs.ConvMol object at 0x...  ...                            c2ccc1NCCc1c2 \n",
              "785  <deepchem.feat.mol_graphs.ConvMol object at 0x...  ...                          FC(F)(F)c1ccccc1\n",
              "786  <deepchem.feat.mol_graphs.ConvMol object at 0x...  ...                       Cc1ccc(cc1)c2ccccc2\n",
              "787  <deepchem.feat.mol_graphs.ConvMol object at 0x...  ...                  CSc1nc(nc(n1)N(C)C)N(C)C\n",
              "788  <deepchem.feat.mol_graphs.ConvMol object at 0x...  ...                                   CCCCCCO\n",
              "\n",
              "[789 rows x 4 columns]"
            ]
          },
          "metadata": {}
        }
      ]
    },
    {
      "cell_type": "code",
      "metadata": {
        "id": "SvNqMbcMtrR4",
        "colab": {
          "base_uri": "https://localhost:8080/",
          "height": 295
        },
        "outputId": "5c15587e-6f43-4bfa-8726-ecf0c127a9d1"
      },
      "source": [
        "task = \"measured log solubility in mols per litre\"\n",
        "predicted_test = graph_conv.predict(test)\n",
        "true_test = test.y\n",
        "plt.scatter(predicted_test, true_test)\n",
        "plt.xlabel('Predicted log-solubility in mols/liter')\n",
        "plt.ylabel('True log-solubility in mols/liter')\n",
        "plt.xlim(-5,5)\n",
        "plt.ylim(-5,5)\n",
        "plt.title(r'RF- predicted vs. true log-solubilities')\n",
        "plt.show()"
      ],
      "execution_count": 30,
      "outputs": [
        {
          "output_type": "display_data",
          "data": {
            "image/png": "[encoded data removed]",
            "text/plain": [
              "<Figure size 432x288 with 1 Axes>"
            ]
          },
          "metadata": {
            "needs_background": "light"
          }
        }
      ]
    },
    {
      "cell_type": "code",
      "metadata": {
        "id": "7W__oSzhqELv",
        "colab": {
          "base_uri": "https://localhost:8080/"
        },
        "outputId": "a35e602b-a5a8-4964-802f-ec45400bf25b"
      },
      "source": [
        "graph_conv.predict(test)"
      ],
      "execution_count": 31,
      "outputs": [
        {
          "output_type": "execute_result",
          "data": {
            "text/plain": [
              "array([[-5.8312225 ],\n",
              "       [-1.0409616 ],\n",
              "       [-3.5361855 ],\n",
              "       [-2.5529063 ],\n",
              "       [-2.8690119 ],\n",
              "       [-3.0076792 ],\n",
              "       [-4.1775684 ],\n",
              "       [-0.33072984],\n",
              "       [-5.1054235 ],\n",
              "       [-2.367306  ],\n",
              "       [-2.0623147 ],\n",
              "       [-6.741372  ]], dtype=float32)"
            ]
          },
          "metadata": {},
          "execution_count": 31
        }
      ]
    },
    {
      "cell_type": "code",
      "metadata": {
        "id": "YP_8UcFyx4m0",
        "colab": {
          "base_uri": "https://localhost:8080/",
          "height": 295
        },
        "outputId": "a1e4ad53-a5d2-48ff-beda-460526afbc13"
      },
      "source": [
        "task = \"measured log solubility in mols per litre\"\n",
        "predicted_test = graph_conv.predict(valid)\n",
        "true_test = valid.y\n",
        "plt.scatter(predicted_test, true_test)\n",
        "plt.xlim([-4,4])\n",
        "plt.ylim([-4,4])\n",
        "plt.xlabel('Predicted log-solubility in mols/liter')\n",
        "plt.ylabel('True log-solubility in mols/liter')\n",
        "plt.title(r'RF- predicted vs. true log-solubilities')\n",
        "plt.show()"
      ],
      "execution_count": 32,
      "outputs": [
        {
          "output_type": "display_data",
          "data": {
            "image/png": "[encoded data removed]",
            "text/plain": [
              "<Figure size 432x288 with 1 Axes>"
            ]
          },
          "metadata": {
            "needs_background": "light"
          }
        }
      ]
    },
    {
      "cell_type": "code",
      "metadata": {
        "id": "Idj2rxM8uv7X",
        "colab": {
          "base_uri": "https://localhost:8080/"
        },
        "outputId": "a9aefc26-972d-45bc-e2f3-74a9e13173f9"
      },
      "source": [
        "test_scores = graph_conv.evaluate(test, [metric],)\n",
        "\n",
        "print(\"test_scores:\", test_scores)"
      ],
      "execution_count": 34,
      "outputs": [
        {
          "output_type": "stream",
          "name": "stdout",
          "text": [
            "test_scores: {'pearson_r2_score': 0.9487778138392781}\n"
          ]
        }
      ]
    }
  ]
}