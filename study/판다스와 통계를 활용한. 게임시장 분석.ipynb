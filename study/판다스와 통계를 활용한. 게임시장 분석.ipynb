{
  "nbformat": 4,
  "nbformat_minor": 0,
  "metadata": {
    "colab": {
      "name": "AI_03_김용권_Section1.ipynb",
      "provenance": [],
      "collapsed_sections": [],
      "toc_visible": true
    },
    "kernelspec": {
      "name": "python3",
      "display_name": "Python 3"
    },
    "language_info": {
      "name": "python"
    }
  },
  "cells": [
    {
      "cell_type": "markdown",
      "metadata": {
        "id": "pmw-yzNEaEO_"
      },
      "source": [
        "제목"
      ]
    },
    {
      "cell_type": "code",
      "metadata": {
        "id": "3igwByylaDaD"
      },
      "source": [
        "# 필요환 라이브러리\n",
        "import pandas as pd \n",
        "import numpy as np\n",
        "import matplotlib.pyplot as plt\n",
        "plt.rc('font', family='NanumBarunGothic')\n",
        "import numpy as np\n",
        "import seaborn as sns\n",
        "import statsmodels.api as sm\n",
        "from statsmodels.formula.api import ols\n",
        "\n",
        "from scipy.stats import chi2_contingency\n",
        "from sklearn.preprocessing import StandardScaler, Normalizer\n",
        "from scipy import stats"
      ],
      "execution_count": null,
      "outputs": []
    },
    {
      "cell_type": "markdown",
      "metadata": {
        "id": "F6aNBsNbaX2l"
      },
      "source": [
        "데이터  불러오기"
      ]
    },
    {
      "cell_type": "code",
      "metadata": {
        "colab": {
          "base_uri": "https://localhost:8080/",
          "height": 891
        },
        "id": "zRx8QfqfaRdP",
        "outputId": "dd179817-5903-4e0e-8bd4-8f09dc147363"
      },
      "source": [
        "url = 'https://ds-lecture-data.s3.ap-northeast-2.amazonaws.com/datasets/vgames2.csv'\n",
        "data = pd.read_csv('https://ds-lecture-data.s3.ap-northeast-2.amazonaws.com/datasets/vgames2.csv')\n",
        "data"
      ],
      "execution_count": null,
      "outputs": [
        {
          "output_type": "execute_result",
          "data": {
            "text/html": [
              "<div>\n",
              "<style scoped>\n",
              "    .dataframe tbody tr th:only-of-type {\n",
              "        vertical-align: middle;\n",
              "    }\n",
              "\n",
              "    .dataframe tbody tr th {\n",
              "        vertical-align: top;\n",
              "    }\n",
              "\n",
              "    .dataframe thead th {\n",
              "        text-align: right;\n",
              "    }\n",
              "</style>\n",
              "<table border=\"1\" class=\"dataframe\">\n",
              "  <thead>\n",
              "    <tr style=\"text-align: right;\">\n",
              "      <th></th>\n",
              "      <th>Unnamed: 0</th>\n",
              "      <th>Name</th>\n",
              "      <th>Platform</th>\n",
              "      <th>Year</th>\n",
              "      <th>Genre</th>\n",
              "      <th>Publisher</th>\n",
              "      <th>NA_Sales</th>\n",
              "      <th>EU_Sales</th>\n",
              "      <th>JP_Sales</th>\n",
              "      <th>Other_Sales</th>\n",
              "    </tr>\n",
              "  </thead>\n",
              "  <tbody>\n",
              "    <tr>\n",
              "      <th>0</th>\n",
              "      <td>1</td>\n",
              "      <td>Candace Kane's Candy Factory</td>\n",
              "      <td>DS</td>\n",
              "      <td>2008.0</td>\n",
              "      <td>Action</td>\n",
              "      <td>Destineer</td>\n",
              "      <td>0.04</td>\n",
              "      <td>0</td>\n",
              "      <td>0</td>\n",
              "      <td>0</td>\n",
              "    </tr>\n",
              "    <tr>\n",
              "      <th>1</th>\n",
              "      <td>2</td>\n",
              "      <td>The Munchables</td>\n",
              "      <td>Wii</td>\n",
              "      <td>2009.0</td>\n",
              "      <td>Action</td>\n",
              "      <td>Namco Bandai Games</td>\n",
              "      <td>0.17</td>\n",
              "      <td>0</td>\n",
              "      <td>0</td>\n",
              "      <td>0.01</td>\n",
              "    </tr>\n",
              "    <tr>\n",
              "      <th>2</th>\n",
              "      <td>3</td>\n",
              "      <td>Otome wa Oanesama Boku ni Koi Shiteru Portable</td>\n",
              "      <td>PSP</td>\n",
              "      <td>2010.0</td>\n",
              "      <td>Adventure</td>\n",
              "      <td>Alchemist</td>\n",
              "      <td>0</td>\n",
              "      <td>0</td>\n",
              "      <td>0.02</td>\n",
              "      <td>0</td>\n",
              "    </tr>\n",
              "    <tr>\n",
              "      <th>3</th>\n",
              "      <td>4</td>\n",
              "      <td>Deal or No Deal: Special Edition</td>\n",
              "      <td>DS</td>\n",
              "      <td>2010.0</td>\n",
              "      <td>Misc</td>\n",
              "      <td>Zoo Games</td>\n",
              "      <td>0.04</td>\n",
              "      <td>0</td>\n",
              "      <td>0</td>\n",
              "      <td>0</td>\n",
              "    </tr>\n",
              "    <tr>\n",
              "      <th>4</th>\n",
              "      <td>5</td>\n",
              "      <td>Ben 10 Ultimate Alien: Cosmic Destruction</td>\n",
              "      <td>PS3</td>\n",
              "      <td>2010.0</td>\n",
              "      <td>Platform</td>\n",
              "      <td>D3Publisher</td>\n",
              "      <td>0.12</td>\n",
              "      <td>0.09</td>\n",
              "      <td>0</td>\n",
              "      <td>0.04</td>\n",
              "    </tr>\n",
              "    <tr>\n",
              "      <th>...</th>\n",
              "      <td>...</td>\n",
              "      <td>...</td>\n",
              "      <td>...</td>\n",
              "      <td>...</td>\n",
              "      <td>...</td>\n",
              "      <td>...</td>\n",
              "      <td>...</td>\n",
              "      <td>...</td>\n",
              "      <td>...</td>\n",
              "      <td>...</td>\n",
              "    </tr>\n",
              "    <tr>\n",
              "      <th>16593</th>\n",
              "      <td>16594</td>\n",
              "      <td>Ice Age 2: The Meltdown</td>\n",
              "      <td>GC</td>\n",
              "      <td>2006.0</td>\n",
              "      <td>Platform</td>\n",
              "      <td>Vivendi Games</td>\n",
              "      <td>0.15</td>\n",
              "      <td>0.04</td>\n",
              "      <td>0</td>\n",
              "      <td>0.01</td>\n",
              "    </tr>\n",
              "    <tr>\n",
              "      <th>16594</th>\n",
              "      <td>16595</td>\n",
              "      <td>Rainbow Islands: Revolution</td>\n",
              "      <td>PSP</td>\n",
              "      <td>2005.0</td>\n",
              "      <td>Action</td>\n",
              "      <td>Rising Star Games</td>\n",
              "      <td>0.01</td>\n",
              "      <td>0</td>\n",
              "      <td>0</td>\n",
              "      <td>0</td>\n",
              "    </tr>\n",
              "    <tr>\n",
              "      <th>16595</th>\n",
              "      <td>16596</td>\n",
              "      <td>NBA 2K16</td>\n",
              "      <td>PS3</td>\n",
              "      <td>2015.0</td>\n",
              "      <td>Sports</td>\n",
              "      <td>Take-Two Interactive</td>\n",
              "      <td>0.44</td>\n",
              "      <td>0.19</td>\n",
              "      <td>0.03</td>\n",
              "      <td>0.13</td>\n",
              "    </tr>\n",
              "    <tr>\n",
              "      <th>16596</th>\n",
              "      <td>16597</td>\n",
              "      <td>Toukiden: The Age of Demons</td>\n",
              "      <td>PSV</td>\n",
              "      <td>2013.0</td>\n",
              "      <td>Action</td>\n",
              "      <td>Tecmo Koei</td>\n",
              "      <td>0.05</td>\n",
              "      <td>0.05</td>\n",
              "      <td>0.25</td>\n",
              "      <td>0.03</td>\n",
              "    </tr>\n",
              "    <tr>\n",
              "      <th>16597</th>\n",
              "      <td>16598</td>\n",
              "      <td>The King of Fighters '95</td>\n",
              "      <td>PS</td>\n",
              "      <td>1996.0</td>\n",
              "      <td>Fighting</td>\n",
              "      <td>Sony Computer Entertainment</td>\n",
              "      <td>0</td>\n",
              "      <td>0</td>\n",
              "      <td>0.16</td>\n",
              "      <td>0.01</td>\n",
              "    </tr>\n",
              "  </tbody>\n",
              "</table>\n",
              "<p>16598 rows × 10 columns</p>\n",
              "</div>"
            ],
            "text/plain": [
              "       Unnamed: 0  ... Other_Sales\n",
              "0               1  ...           0\n",
              "1               2  ...        0.01\n",
              "2               3  ...           0\n",
              "3               4  ...           0\n",
              "4               5  ...        0.04\n",
              "...           ...  ...         ...\n",
              "16593       16594  ...        0.01\n",
              "16594       16595  ...           0\n",
              "16595       16596  ...        0.13\n",
              "16596       16597  ...        0.03\n",
              "16597       16598  ...        0.01\n",
              "\n",
              "[16598 rows x 10 columns]"
            ]
          },
          "metadata": {
            "tags": []
          },
          "execution_count": 4
        }
      ]
    },
    {
      "cell_type": "markdown",
      "metadata": {
        "id": "Q2a4tUU9aiG7"
      },
      "source": [
        "데이터 전처리"
      ]
    },
    {
      "cell_type": "code",
      "metadata": {
        "colab": {
          "base_uri": "https://localhost:8080/"
        },
        "id": "p0c8C4zgakjc",
        "outputId": "c610b39d-85e7-4fd3-9e9e-9681b4f4bdf5"
      },
      "source": [
        "# 결측치 확인 및 없애기\n",
        "print(data.isnull().sum())\n",
        "data.drop(['Unnamed: 0'], axis = 1, inplace = True)\n",
        "data.dropna(axis = 0, inplace =True)"
      ],
      "execution_count": null,
      "outputs": [
        {
          "output_type": "stream",
          "text": [
            "Unnamed: 0       0\n",
            "Name             0\n",
            "Platform         0\n",
            "Year           271\n",
            "Genre           50\n",
            "Publisher       58\n",
            "NA_Sales         0\n",
            "EU_Sales         0\n",
            "JP_Sales         0\n",
            "Other_Sales      0\n",
            "dtype: int64\n"
          ],
          "name": "stdout"
        }
      ]
    },
    {
      "cell_type": "code",
      "metadata": {
        "id": "3g9dzQzsannx"
      },
      "source": [
        "# 인덱스 번호 재설정하기\n",
        "data.reset_index(inplace = True)\n",
        "data.drop(['index'], axis =1, inplace = True)"
      ],
      "execution_count": null,
      "outputs": []
    },
    {
      "cell_type": "code",
      "metadata": {
        "id": "jfrz7ZjQavbS"
      },
      "source": [
        "# 출고량 컬럼들 숫자로 통일 되게 정리\n",
        "\n",
        "#M,K 떼고 숫자들로 바꾸기\n",
        "def MK(x):\n",
        "  if 'K' in x:\n",
        "    x = x[:len(x)-1]\n",
        "    x = float(x)*1000\n",
        "  elif 'M' in x:\n",
        "    x = x[:len(x)-1]\n",
        "    x = float(x)*1000000\n",
        "  else:\n",
        "    x = float(x)*1000000\n",
        "  return x   "
      ],
      "execution_count": null,
      "outputs": []
    },
    {
      "cell_type": "code",
      "metadata": {
        "id": "CbTid0FWRNp5"
      },
      "source": [
        "# 데이터 프레임에 함수 적용\n",
        "for column in ['NA_Sales', 'EU_Sales', 'JP_Sales', 'Other_Sales']:\n",
        "  data[column] = data[column].apply(MK)"
      ],
      "execution_count": null,
      "outputs": []
    },
    {
      "cell_type": "code",
      "metadata": {
        "colab": {
          "base_uri": "https://localhost:8080/",
          "height": 475
        },
        "id": "aJdQ_7vGQfS9",
        "outputId": "02c50157-0b5c-4ed1-e182-79ab17637543"
      },
      "source": [
        "# 데이터 시각화 하여 살펴보기 \n",
        "plt.figure(figsize = (25,13))\n",
        "\n",
        "for i, col in enumerate(['NA_Sales', 'EU_Sales', 'JP_Sales', 'Other_Sales','Platform', 'Genre', 'Year']):\n",
        "    plt.subplot(3,3,i+1)\n",
        "\n",
        "    plt.hist(data[col], density=True)\n",
        "\n",
        "    plt.title(col + ' histogram')\n",
        "    plt.xticks(rotation=45)\n",
        "    plt.grid(True, axis = 'y')\n",
        "plt.show()"
      ],
      "execution_count": null,
      "outputs": [
        {
          "output_type": "stream",
          "text": [
            "findfont: Font family ['NanumBarunGothic'] not found. Falling back to DejaVu Sans.\n",
            "findfont: Font family ['NanumBarunGothic'] not found. Falling back to DejaVu Sans.\n"
          ],
          "name": "stderr"
        },
        {
          "output_type": "display_data",
          "data": {
            "image/png": "[encoded data removed]",
            "text/plain": [
              "<Figure size 1800x936 with 7 Axes>"
            ]
          },
          "metadata": {
            "tags": [],
            "needs_background": "light"
          }
        }
      ]
    },
    {
      "cell_type": "code",
      "metadata": {
        "id": "0pnHq2cEQ4UA"
      },
      "source": [
        "# Year 연도의 그래프가 이상함을 감지, 연도가 250년 전이 표기 되어 있으며 x축이 일반적으로 아는 연도와 상이하다,"
      ],
      "execution_count": null,
      "outputs": []
    },
    {
      "cell_type": "code",
      "metadata": {
        "id": "49We3Cymazlo"
      },
      "source": [
        "# 출시연도 정수 형태로만 표현\n",
        "data['Year'] = data['Year'].astype(int)"
      ],
      "execution_count": null,
      "outputs": []
    },
    {
      "cell_type": "code",
      "metadata": {
        "id": "yAorZ9iia0R8"
      },
      "source": [
        "# Year 데이터 통일\n",
        "def year_Modify(x):\n",
        "  if (len(str(x))) == 2:\n",
        "    if x > 80:\n",
        "      x = x +1900\n",
        "    if x < 80:\n",
        "      x = x + 2000\n",
        "  elif (len(str(x))) == 1:  \n",
        "    x = x+2000\n",
        "  return x  \n",
        "\n",
        "# 함수를 데이터 프레임에 적용\n",
        "data['Year'] = data['Year'].apply(year_Modify)"
      ],
      "execution_count": null,
      "outputs": []
    },
    {
      "cell_type": "code",
      "metadata": {
        "id": "cvAEkdPNa_n6"
      },
      "source": [
        "# Total_Sales 컬럼 삽입하기\n",
        "data['Total_Sales'] = data['NA_Sales']+data['EU_Sales']+data['JP_Sales']+data['Other_Sales']"
      ],
      "execution_count": null,
      "outputs": []
    },
    {
      "cell_type": "code",
      "metadata": {
        "colab": {
          "base_uri": "https://localhost:8080/",
          "height": 422
        },
        "id": "Q7TOVM-YbBLn",
        "outputId": "caf9f211-205a-4f7d-e358-0d9f26aa389c"
      },
      "source": [
        "# 최종 데이터 프레임\n",
        "display(data)"
      ],
      "execution_count": null,
      "outputs": [
        {
          "output_type": "display_data",
          "data": {
            "text/html": [
              "<div>\n",
              "<style scoped>\n",
              "    .dataframe tbody tr th:only-of-type {\n",
              "        vertical-align: middle;\n",
              "    }\n",
              "\n",
              "    .dataframe tbody tr th {\n",
              "        vertical-align: top;\n",
              "    }\n",
              "\n",
              "    .dataframe thead th {\n",
              "        text-align: right;\n",
              "    }\n",
              "</style>\n",
              "<table border=\"1\" class=\"dataframe\">\n",
              "  <thead>\n",
              "    <tr style=\"text-align: right;\">\n",
              "      <th></th>\n",
              "      <th>Name</th>\n",
              "      <th>Platform</th>\n",
              "      <th>Year</th>\n",
              "      <th>Genre</th>\n",
              "      <th>Publisher</th>\n",
              "      <th>NA_Sales</th>\n",
              "      <th>EU_Sales</th>\n",
              "      <th>JP_Sales</th>\n",
              "      <th>Other_Sales</th>\n",
              "      <th>Total_Sales</th>\n",
              "    </tr>\n",
              "  </thead>\n",
              "  <tbody>\n",
              "    <tr>\n",
              "      <th>0</th>\n",
              "      <td>Candace Kane's Candy Factory</td>\n",
              "      <td>DS</td>\n",
              "      <td>2008</td>\n",
              "      <td>Action</td>\n",
              "      <td>Destineer</td>\n",
              "      <td>40000.0</td>\n",
              "      <td>0.0</td>\n",
              "      <td>0.0</td>\n",
              "      <td>0.0</td>\n",
              "      <td>40000.0</td>\n",
              "    </tr>\n",
              "    <tr>\n",
              "      <th>1</th>\n",
              "      <td>The Munchables</td>\n",
              "      <td>Wii</td>\n",
              "      <td>2009</td>\n",
              "      <td>Action</td>\n",
              "      <td>Namco Bandai Games</td>\n",
              "      <td>170000.0</td>\n",
              "      <td>0.0</td>\n",
              "      <td>0.0</td>\n",
              "      <td>10000.0</td>\n",
              "      <td>180000.0</td>\n",
              "    </tr>\n",
              "    <tr>\n",
              "      <th>2</th>\n",
              "      <td>Otome wa Oanesama Boku ni Koi Shiteru Portable</td>\n",
              "      <td>PSP</td>\n",
              "      <td>2010</td>\n",
              "      <td>Adventure</td>\n",
              "      <td>Alchemist</td>\n",
              "      <td>0.0</td>\n",
              "      <td>0.0</td>\n",
              "      <td>20000.0</td>\n",
              "      <td>0.0</td>\n",
              "      <td>20000.0</td>\n",
              "    </tr>\n",
              "    <tr>\n",
              "      <th>3</th>\n",
              "      <td>Deal or No Deal: Special Edition</td>\n",
              "      <td>DS</td>\n",
              "      <td>2010</td>\n",
              "      <td>Misc</td>\n",
              "      <td>Zoo Games</td>\n",
              "      <td>40000.0</td>\n",
              "      <td>0.0</td>\n",
              "      <td>0.0</td>\n",
              "      <td>0.0</td>\n",
              "      <td>40000.0</td>\n",
              "    </tr>\n",
              "    <tr>\n",
              "      <th>4</th>\n",
              "      <td>Ben 10 Ultimate Alien: Cosmic Destruction</td>\n",
              "      <td>PS3</td>\n",
              "      <td>2010</td>\n",
              "      <td>Platform</td>\n",
              "      <td>D3Publisher</td>\n",
              "      <td>120000.0</td>\n",
              "      <td>90000.0</td>\n",
              "      <td>0.0</td>\n",
              "      <td>40000.0</td>\n",
              "      <td>250000.0</td>\n",
              "    </tr>\n",
              "    <tr>\n",
              "      <th>...</th>\n",
              "      <td>...</td>\n",
              "      <td>...</td>\n",
              "      <td>...</td>\n",
              "      <td>...</td>\n",
              "      <td>...</td>\n",
              "      <td>...</td>\n",
              "      <td>...</td>\n",
              "      <td>...</td>\n",
              "      <td>...</td>\n",
              "      <td>...</td>\n",
              "    </tr>\n",
              "    <tr>\n",
              "      <th>16236</th>\n",
              "      <td>Ice Age 2: The Meltdown</td>\n",
              "      <td>GC</td>\n",
              "      <td>2006</td>\n",
              "      <td>Platform</td>\n",
              "      <td>Vivendi Games</td>\n",
              "      <td>150000.0</td>\n",
              "      <td>40000.0</td>\n",
              "      <td>0.0</td>\n",
              "      <td>10000.0</td>\n",
              "      <td>200000.0</td>\n",
              "    </tr>\n",
              "    <tr>\n",
              "      <th>16237</th>\n",
              "      <td>Rainbow Islands: Revolution</td>\n",
              "      <td>PSP</td>\n",
              "      <td>2005</td>\n",
              "      <td>Action</td>\n",
              "      <td>Rising Star Games</td>\n",
              "      <td>10000.0</td>\n",
              "      <td>0.0</td>\n",
              "      <td>0.0</td>\n",
              "      <td>0.0</td>\n",
              "      <td>10000.0</td>\n",
              "    </tr>\n",
              "    <tr>\n",
              "      <th>16238</th>\n",
              "      <td>NBA 2K16</td>\n",
              "      <td>PS3</td>\n",
              "      <td>2015</td>\n",
              "      <td>Sports</td>\n",
              "      <td>Take-Two Interactive</td>\n",
              "      <td>440000.0</td>\n",
              "      <td>190000.0</td>\n",
              "      <td>30000.0</td>\n",
              "      <td>130000.0</td>\n",
              "      <td>790000.0</td>\n",
              "    </tr>\n",
              "    <tr>\n",
              "      <th>16239</th>\n",
              "      <td>Toukiden: The Age of Demons</td>\n",
              "      <td>PSV</td>\n",
              "      <td>2013</td>\n",
              "      <td>Action</td>\n",
              "      <td>Tecmo Koei</td>\n",
              "      <td>50000.0</td>\n",
              "      <td>50000.0</td>\n",
              "      <td>250000.0</td>\n",
              "      <td>30000.0</td>\n",
              "      <td>380000.0</td>\n",
              "    </tr>\n",
              "    <tr>\n",
              "      <th>16240</th>\n",
              "      <td>The King of Fighters '95</td>\n",
              "      <td>PS</td>\n",
              "      <td>1996</td>\n",
              "      <td>Fighting</td>\n",
              "      <td>Sony Computer Entertainment</td>\n",
              "      <td>0.0</td>\n",
              "      <td>0.0</td>\n",
              "      <td>160000.0</td>\n",
              "      <td>10000.0</td>\n",
              "      <td>170000.0</td>\n",
              "    </tr>\n",
              "  </tbody>\n",
              "</table>\n",
              "<p>16241 rows × 10 columns</p>\n",
              "</div>"
            ],
            "text/plain": [
              "                                                 Name  ... Total_Sales\n",
              "0                        Candace Kane's Candy Factory  ...     40000.0\n",
              "1                                      The Munchables  ...    180000.0\n",
              "2      Otome wa Oanesama Boku ni Koi Shiteru Portable  ...     20000.0\n",
              "3                    Deal or No Deal: Special Edition  ...     40000.0\n",
              "4           Ben 10 Ultimate Alien: Cosmic Destruction  ...    250000.0\n",
              "...                                               ...  ...         ...\n",
              "16236                         Ice Age 2: The Meltdown  ...    200000.0\n",
              "16237                     Rainbow Islands: Revolution  ...     10000.0\n",
              "16238                                        NBA 2K16  ...    790000.0\n",
              "16239                     Toukiden: The Age of Demons  ...    380000.0\n",
              "16240                        The King of Fighters '95  ...    170000.0\n",
              "\n",
              "[16241 rows x 10 columns]"
            ]
          },
          "metadata": {
            "tags": []
          }
        }
      ]
    },
    {
      "cell_type": "markdown",
      "metadata": {
        "id": "1LycXpddbK7o"
      },
      "source": [
        "데이버 분석"
      ]
    },
    {
      "cell_type": "markdown",
      "metadata": {
        "id": "xuh44BKFLtet"
      },
      "source": [
        "# 1. 연도별 게임의 트렌드"
      ]
    },
    {
      "cell_type": "code",
      "metadata": {
        "colab": {
          "base_uri": "https://localhost:8080/",
          "height": 281
        },
        "id": "--hWcdrnSHgl",
        "outputId": "81c10996-3b51-4cb0-8575-7cd03ebd993f"
      },
      "source": [
        "plt.plot(data.groupby('Year')['Total_Sales'].sum())\n",
        "plt.title('Total_Sales of each year')\n",
        "plt.show()"
      ],
      "execution_count": null,
      "outputs": [
        {
          "output_type": "display_data",
          "data": {
            "image/png": "[encoded data removed]",
            "text/plain": [
              "<Figure size 432x288 with 1 Axes>"
            ]
          },
          "metadata": {
            "tags": [],
            "needs_background": "light"
          }
        }
      ]
    },
    {
      "cell_type": "code",
      "metadata": {
        "colab": {
          "base_uri": "https://localhost:8080/"
        },
        "id": "iNjoiQT0tnix",
        "outputId": "a13d5b32-be06-486f-c02a-2173071ff0ad"
      },
      "source": [
        "data[data['Year'] == 2010]['Total_Sales'].sum()"
      ],
      "execution_count": null,
      "outputs": [
        {
          "output_type": "execute_result",
          "data": {
            "text/plain": [
              "591150000.0"
            ]
          },
          "metadata": {
            "tags": []
          },
          "execution_count": 289
        }
      ]
    },
    {
      "cell_type": "code",
      "metadata": {
        "colab": {
          "base_uri": "https://localhost:8080/"
        },
        "id": "5zXMZdLYuib7",
        "outputId": "260f5506-52d3-433e-9bec-6c0d1c456d19"
      },
      "source": [
        "data[data['Year'] == 2009]['Total_Sales'].sum()"
      ],
      "execution_count": null,
      "outputs": [
        {
          "output_type": "execute_result",
          "data": {
            "text/plain": [
              "665840000.0"
            ]
          },
          "metadata": {
            "tags": []
          },
          "execution_count": 293
        }
      ]
    },
    {
      "cell_type": "code",
      "metadata": {
        "colab": {
          "base_uri": "https://localhost:8080/"
        },
        "id": "ByP-rNX-uXgI",
        "outputId": "dd676153-1a66-49f5-c7fe-132b8115d73c"
      },
      "source": [
        "data[data['Year'] == 2008]['Total_Sales'].sum()"
      ],
      "execution_count": null,
      "outputs": [
        {
          "output_type": "execute_result",
          "data": {
            "text/plain": [
              "676410000.0"
            ]
          },
          "metadata": {
            "tags": []
          },
          "execution_count": 290
        }
      ]
    },
    {
      "cell_type": "code",
      "metadata": {
        "colab": {
          "base_uri": "https://localhost:8080/"
        },
        "id": "rumEsEDyukuE",
        "outputId": "438b6a84-6aac-45ad-b84f-7df295b101d7"
      },
      "source": [
        "data[data['Year'] == 2012]['Total_Sales'].sum()"
      ],
      "execution_count": null,
      "outputs": [
        {
          "output_type": "execute_result",
          "data": {
            "text/plain": [
              "362060000.0"
            ]
          },
          "metadata": {
            "tags": []
          },
          "execution_count": 15
        }
      ]
    },
    {
      "cell_type": "code",
      "metadata": {
        "colab": {
          "base_uri": "https://localhost:8080/"
        },
        "id": "-rVkyUj9ub3z",
        "outputId": "743d73b1-23ec-4e76-f93b-242ab33ef6ac"
      },
      "source": [
        "data[data['Year'] == 2015]['Total_Sales'].sum()"
      ],
      "execution_count": null,
      "outputs": [
        {
          "output_type": "execute_result",
          "data": {
            "text/plain": [
              "261830000.0"
            ]
          },
          "metadata": {
            "tags": []
          },
          "execution_count": 16
        }
      ]
    },
    {
      "cell_type": "code",
      "metadata": {
        "colab": {
          "base_uri": "https://localhost:8080/"
        },
        "id": "flSHkUy_uemT",
        "outputId": "cf321338-444c-4b5b-9635-85bd16c75ea4"
      },
      "source": [
        "data[data['Year'] == 2015]['Total_Sales'].sum()"
      ],
      "execution_count": null,
      "outputs": [
        {
          "output_type": "execute_result",
          "data": {
            "text/plain": [
              "261830000.0"
            ]
          },
          "metadata": {
            "tags": []
          },
          "execution_count": 292
        }
      ]
    },
    {
      "cell_type": "code",
      "metadata": {
        "colab": {
          "base_uri": "https://localhost:8080/"
        },
        "id": "xMOvhgrvunLd",
        "outputId": "d20572e3-cfca-44da-cc1f-71e511b7ad9c"
      },
      "source": [
        "data[data['Year'] == 2017]['Total_Sales'].sum()"
      ],
      "execution_count": null,
      "outputs": [
        {
          "output_type": "execute_result",
          "data": {
            "text/plain": [
              "50000.0"
            ]
          },
          "metadata": {
            "tags": []
          },
          "execution_count": 296
        }
      ]
    },
    {
      "cell_type": "code",
      "metadata": {
        "colab": {
          "base_uri": "https://localhost:8080/"
        },
        "id": "Q6c0T_s8vOqk",
        "outputId": "62c63c4c-83ca-4a52-c463-5d1d1e5d8a06"
      },
      "source": [
        "data[data['Year'] == 2020]['Total_Sales'].sum()"
      ],
      "execution_count": null,
      "outputs": [
        {
          "output_type": "execute_result",
          "data": {
            "text/plain": [
              "290000.0"
            ]
          },
          "metadata": {
            "tags": []
          },
          "execution_count": 297
        }
      ]
    },
    {
      "cell_type": "code",
      "metadata": {
        "colab": {
          "base_uri": "https://localhost:8080/",
          "height": 422
        },
        "id": "MDx90J9oL0R7",
        "outputId": "a67f03f6-ac9e-4218-e7cb-1b812c6bb78f"
      },
      "source": [
        "# 연도별 가장 많은 장르 끼리 묶자.\n",
        "data_Y_G_T = data.groupby(['Year' , 'Genre'],as_index = False )['Total_Sales'].sum()\n",
        "data_Y_G_T  = pd.DataFrame(data_Y_G_T)\n",
        "data_Y_G_T"
      ],
      "execution_count": null,
      "outputs": [
        {
          "output_type": "execute_result",
          "data": {
            "text/html": [
              "<div>\n",
              "<style scoped>\n",
              "    .dataframe tbody tr th:only-of-type {\n",
              "        vertical-align: middle;\n",
              "    }\n",
              "\n",
              "    .dataframe tbody tr th {\n",
              "        vertical-align: top;\n",
              "    }\n",
              "\n",
              "    .dataframe thead th {\n",
              "        text-align: right;\n",
              "    }\n",
              "</style>\n",
              "<table border=\"1\" class=\"dataframe\">\n",
              "  <thead>\n",
              "    <tr style=\"text-align: right;\">\n",
              "      <th></th>\n",
              "      <th>Year</th>\n",
              "      <th>Genre</th>\n",
              "      <th>Total_Sales</th>\n",
              "    </tr>\n",
              "  </thead>\n",
              "  <tbody>\n",
              "    <tr>\n",
              "      <th>0</th>\n",
              "      <td>1980</td>\n",
              "      <td>Action</td>\n",
              "      <td>340000.0</td>\n",
              "    </tr>\n",
              "    <tr>\n",
              "      <th>1</th>\n",
              "      <td>1980</td>\n",
              "      <td>Fighting</td>\n",
              "      <td>770000.0</td>\n",
              "    </tr>\n",
              "    <tr>\n",
              "      <th>2</th>\n",
              "      <td>1980</td>\n",
              "      <td>Misc</td>\n",
              "      <td>2700000.0</td>\n",
              "    </tr>\n",
              "    <tr>\n",
              "      <th>3</th>\n",
              "      <td>1980</td>\n",
              "      <td>Shooter</td>\n",
              "      <td>7070000.0</td>\n",
              "    </tr>\n",
              "    <tr>\n",
              "      <th>4</th>\n",
              "      <td>1981</td>\n",
              "      <td>Action</td>\n",
              "      <td>14790000.0</td>\n",
              "    </tr>\n",
              "    <tr>\n",
              "      <th>...</th>\n",
              "      <td>...</td>\n",
              "      <td>...</td>\n",
              "      <td>...</td>\n",
              "    </tr>\n",
              "    <tr>\n",
              "      <th>383</th>\n",
              "      <td>2016</td>\n",
              "      <td>Sports</td>\n",
              "      <td>14630000.0</td>\n",
              "    </tr>\n",
              "    <tr>\n",
              "      <th>384</th>\n",
              "      <td>2016</td>\n",
              "      <td>Strategy</td>\n",
              "      <td>520000.0</td>\n",
              "    </tr>\n",
              "    <tr>\n",
              "      <th>385</th>\n",
              "      <td>2017</td>\n",
              "      <td>Action</td>\n",
              "      <td>10000.0</td>\n",
              "    </tr>\n",
              "    <tr>\n",
              "      <th>386</th>\n",
              "      <td>2017</td>\n",
              "      <td>Role-Playing</td>\n",
              "      <td>40000.0</td>\n",
              "    </tr>\n",
              "    <tr>\n",
              "      <th>387</th>\n",
              "      <td>2020</td>\n",
              "      <td>Simulation</td>\n",
              "      <td>290000.0</td>\n",
              "    </tr>\n",
              "  </tbody>\n",
              "</table>\n",
              "<p>388 rows × 3 columns</p>\n",
              "</div>"
            ],
            "text/plain": [
              "     Year         Genre  Total_Sales\n",
              "0    1980        Action     340000.0\n",
              "1    1980      Fighting     770000.0\n",
              "2    1980          Misc    2700000.0\n",
              "3    1980       Shooter    7070000.0\n",
              "4    1981        Action   14790000.0\n",
              "..    ...           ...          ...\n",
              "383  2016        Sports   14630000.0\n",
              "384  2016      Strategy     520000.0\n",
              "385  2017        Action      10000.0\n",
              "386  2017  Role-Playing      40000.0\n",
              "387  2020    Simulation     290000.0\n",
              "\n",
              "[388 rows x 3 columns]"
            ]
          },
          "metadata": {
            "tags": []
          },
          "execution_count": 18
        }
      ]
    },
    {
      "cell_type": "code",
      "metadata": {
        "colab": {
          "base_uri": "https://localhost:8080/"
        },
        "id": "v1OAa2yfMLmD",
        "outputId": "f8bdebe8-eab4-48d1-ec7e-c3fdfcf4ddeb"
      },
      "source": [
        "aa = []\n",
        "for i in range(1980, 2021): \n",
        "  aaa = (data_Y_G_T[(data_Y_G_T['Total_Sales'] == (data_Y_G_T[data_Y_G_T['Year'] == i]['Total_Sales'].max()))]['Genre'].tolist())\n",
        "  aa = aa + aaa\n",
        "print(aa)  \n",
        "\n",
        "bb = []\n",
        "for i in range(1980, 2021): \n",
        "  bbb = (data_Y_G_T[(data_Y_G_T['Total_Sales'] == (data_Y_G_T[data_Y_G_T['Year'] == i]['Total_Sales'].max()))]['Total_Sales'].tolist())\n",
        "  bb = bb + bbb\n",
        "print(bb)  \n",
        "len(bb)\n",
        "\n",
        "Year_list_0 = []\n",
        "for i in range(1980,2021):\n",
        "  Year_list_0.append(i)\n",
        "print(Year_list_0)\n",
        "len(Year_list_0)  "
      ],
      "execution_count": null,
      "outputs": [
        {
          "output_type": "stream",
          "text": [
            "['Shooter', 'Action', 'Puzzle', 'Platform', 'Shooter', 'Platform', 'Action', 'Fighting', 'Platform', 'Puzzle', 'Platform', 'Platform', 'Fighting', 'Platform', 'Platform', 'Platform', 'Role-Playing', 'Racing', 'Sports', 'Role-Playing', 'Sports', 'Action', 'Action', 'Action', 'Action', 'Action', 'Sports', 'Action', 'Action', 'Sports', 'Action', 'Action', 'Action', 'Action', 'Action', 'Action', 'Action', 'Simulation', 'Role-Playing', 'Simulation']\n",
            "[7070000.0, 14790000.0, 10040000.0, 6930000.0, 31100000.0, 43170000.0, 13740000.0, 5420000.0, 27730000.0, 37750000.0, 22980000.0, 7630000.0, 15230000.0, 18680000.0, 28760000.0, 16690000.0, 43990000.0, 31920000.0, 41750000.0, 47240000.0, 41240000.0, 56680000.0, 86650000.0, 67980000.0, 76150000.0, 85520000.0, 136120000.0, 105990000.0, 135460000.0, 138590000.0, 117500000.0, 119000000.0, 120780000.0, 125210000.0, 99010000.0, 68250000.0, 19840000.0, 40000.0, 40000.0, 290000.0]\n",
            "[1980, 1981, 1982, 1983, 1984, 1985, 1986, 1987, 1988, 1989, 1990, 1991, 1992, 1993, 1994, 1995, 1996, 1997, 1998, 1999, 2000, 2001, 2002, 2003, 2004, 2005, 2006, 2007, 2008, 2009, 2010, 2011, 2012, 2013, 2014, 2015, 2016, 2017, 2018, 2019, 2020]\n"
          ],
          "name": "stdout"
        },
        {
          "output_type": "execute_result",
          "data": {
            "text/plain": [
              "41"
            ]
          },
          "metadata": {
            "tags": []
          },
          "execution_count": 19
        }
      ]
    },
    {
      "cell_type": "code",
      "metadata": {
        "id": "nC9TqeOSMTRL"
      },
      "source": [
        "#2019 자료는 아예 없으므로 2019년도는 빼버리자\n",
        "del Year_list_0[39]\n",
        "Year_list_0"
      ],
      "execution_count": null,
      "outputs": []
    },
    {
      "cell_type": "code",
      "metadata": {
        "id": "T6EnVRTwMaSf"
      },
      "source": [
        "#데이터 프레임 새로 만들기\n",
        "Year_H_S = pd.DataFrame({'Highest_Sales': bb, 'Year': Year_list_0, 'Genre': aa})"
      ],
      "execution_count": null,
      "outputs": []
    },
    {
      "cell_type": "code",
      "metadata": {
        "id": "A34wAkfhMiIV"
      },
      "source": [
        "# 장르별 색깔 정하기\n",
        "g_c = []\n",
        "for genre in Year_H_S['Genre']:\n",
        "  if genre == 'Shooter':\n",
        "    g_c.append('green')\n",
        "  elif genre == 'Action':\n",
        "    g_c.append('red') \n",
        "  elif genre == 'Puzzle':\n",
        "    g_c.append('gold') \n",
        "  elif genre == 'Platform':\n",
        "    g_c.append('skyblue') \n",
        "  elif genre == 'Fighting':\n",
        "    g_c.append('darkslategray') \n",
        "  elif genre == 'Role-Playing':\n",
        "    g_c.append('lightgray')\n",
        "  elif genre == 'Racing':   \n",
        "    g_c.append('black')      \n",
        "  elif genre == 'Sports':   \n",
        "    g_c.append('olive')\n",
        "  elif genre == 'Simulation':   \n",
        "    g_c.append('peru') \n"
      ],
      "execution_count": null,
      "outputs": []
    },
    {
      "cell_type": "code",
      "metadata": {
        "colab": {
          "base_uri": "https://localhost:8080/",
          "height": 325
        },
        "id": "74uASRRiMwrY",
        "outputId": "505eb0af-288e-422d-ff56-a9927a21bbd5"
      },
      "source": [
        "Year_H_S.plot.bar(x = 'Year', y = 'Highest_Sales' ,color=g_c)\n",
        "plt.legend()"
      ],
      "execution_count": null,
      "outputs": [
        {
          "output_type": "execute_result",
          "data": {
            "text/plain": [
              "<matplotlib.legend.Legend at 0x7f90ca096150>"
            ]
          },
          "metadata": {
            "tags": []
          },
          "execution_count": 25
        },
        {
          "output_type": "display_data",
          "data": {
            "image/png": "[encoded data removed]",
            "text/plain": [
              "<Figure size 432x288 with 1 Axes>"
            ]
          },
          "metadata": {
            "tags": [],
            "needs_background": "light"
          }
        }
      ]
    },
    {
      "cell_type": "code",
      "metadata": {
        "colab": {
          "base_uri": "https://localhost:8080/"
        },
        "id": "8OlF2cskmio3",
        "outputId": "230563f5-a64c-445f-9288-c621faca8449"
      },
      "source": [
        "data.groupby(['Year','Genre'])['Total_Sales'].sum()"
      ],
      "execution_count": null,
      "outputs": [
        {
          "output_type": "execute_result",
          "data": {
            "text/plain": [
              "Year  Genre       \n",
              "1980  Action            340000.0\n",
              "      Fighting          770000.0\n",
              "      Misc             2700000.0\n",
              "      Shooter          7070000.0\n",
              "1981  Action          14790000.0\n",
              "                         ...    \n",
              "2016  Sports          14630000.0\n",
              "      Strategy          520000.0\n",
              "2017  Action             10000.0\n",
              "      Role-Playing       40000.0\n",
              "2020  Simulation        290000.0\n",
              "Name: Total_Sales, Length: 388, dtype: float64"
            ]
          },
          "metadata": {
            "tags": []
          },
          "execution_count": 26
        }
      ]
    },
    {
      "cell_type": "code",
      "metadata": {
        "id": "qJdGQ3oiM3br"
      },
      "source": [
        "# 연도 별 가장 많은 매출을 기록한 장르들의 빈도 수를 나타내는 그래프\n",
        "\n",
        "\"\"\"\n",
        "2000년도 전에는 shooter 장르의 게임이 많이 분포함을 알 수 있다.\n",
        "2000년도에 들어 action 게임이 가장 많은 매출들을 장기간 이룬 것을 볼 수 있다. --> action 게임이 2000년대 이후로 트렌드임을 알 수 있다.\n",
        "\"\"\""
      ],
      "execution_count": null,
      "outputs": []
    },
    {
      "cell_type": "code",
      "metadata": {
        "id": "qdx3OLVdnHEv"
      },
      "source": [
        "# 연도별 장르마다의 매출을 더해서 그중 최"
      ],
      "execution_count": null,
      "outputs": []
    },
    {
      "cell_type": "code",
      "metadata": {
        "id": "NZqbKisjNATW"
      },
      "source": [
        "\"\"\"\n",
        "# 연도 별 가장 많은 장르의 게임 개수\n",
        "\n",
        "# 데이터 프레임 새로 만들기\n",
        "YG_df = pd.DataFrame({'Year' : data['Year'], 'Genre' : data['Genre'], 'num': 1})\n",
        "YG_df\n",
        "YG_df.groupby(['Year' , 'Genre'])['num'].sum()\n",
        "\"\"\""
      ],
      "execution_count": null,
      "outputs": []
    },
    {
      "cell_type": "markdown",
      "metadata": {
        "id": "C2Gm44EGbRby"
      },
      "source": [
        "# 2. 지역에 따라 선호하는 게임 장르가 다를까"
      ]
    },
    {
      "cell_type": "markdown",
      "metadata": {
        "id": "tDikAlAAbUW1"
      },
      "source": [
        ""
      ]
    },
    {
      "cell_type": "code",
      "metadata": {
        "id": "BZV3u9FgbNTc"
      },
      "source": [
        "\"\"\"\n",
        "귀무 : 지역과 장르에 따른 판매수는 서로 독립적이다. (관계가 없다)\n",
        "대안 : 지역과 장르에 따른 판매수는 서로 독립적이지 않다. (관계가 있다.) \n",
        "\"\"\""
      ],
      "execution_count": null,
      "outputs": []
    },
    {
      "cell_type": "code",
      "metadata": {
        "colab": {
          "base_uri": "https://localhost:8080/"
        },
        "id": "qddP9rfFbWWS",
        "outputId": "3de7858c-d94a-4da0-a082-5412c997d1db"
      },
      "source": [
        "# 지역별 장르의 판매수 합을 나타내는 데이터 프레임 만들기\n",
        "data_G_S = data.groupby('Genre')['NA_Sales', 'EU_Sales',\t'JP_Sales',\t'Other_Sales'].sum()"
      ],
      "execution_count": null,
      "outputs": [
        {
          "output_type": "stream",
          "text": [
            "/usr/local/lib/python3.7/dist-packages/ipykernel_launcher.py:2: FutureWarning: Indexing with multiple keys (implicitly converted to a tuple of keys) will be deprecated, use a list instead.\n",
            "  \n"
          ],
          "name": "stderr"
        }
      ]
    },
    {
      "cell_type": "code",
      "metadata": {
        "colab": {
          "base_uri": "https://localhost:8080/"
        },
        "id": "x5A5kVnbbaWV",
        "outputId": "0d07ff23-d62c-4fe2-eb5d-944037d0e008"
      },
      "source": [
        "data_category = data_G_S[['NA_Sales','EU_Sales','JP_Sales','Other_Sales']].astype('category')\n",
        "chi_2 = chi2_contingency(data_category)\n",
        "chi_2"
      ],
      "execution_count": null,
      "outputs": [
        {
          "output_type": "execute_result",
          "data": {
            "text/plain": [
              "(684336340.5169278,\n",
              " 0.0,\n",
              " 33,\n",
              " array([[8.42668371e+08, 4.68299745e+08, 2.48746271e+08, 1.53265612e+08],\n",
              "        [1.15121748e+08, 6.39771079e+07, 3.39826515e+07, 2.09384923e+07],\n",
              "        [2.18191181e+08, 1.21256330e+08, 6.44075945e+07, 3.96848939e+07],\n",
              "        [3.83558786e+08, 2.13156786e+08, 1.13222261e+08, 6.97621676e+07],\n",
              "        [4.07314145e+08, 2.26358455e+08, 1.20234577e+08, 7.40828230e+07],\n",
              "        [1.18422607e+08, 6.58115084e+07, 3.49570281e+07, 2.15388567e+07],\n",
              "        [3.55444916e+08, 1.97532943e+08, 1.04923361e+08, 6.46487805e+07],\n",
              "        [4.43480930e+08, 2.46457579e+08, 1.30910607e+08, 8.06608845e+07],\n",
              "        [5.04106536e+08, 2.80149309e+08, 1.48806607e+08, 9.16875480e+07],\n",
              "        [1.91498992e+08, 1.06422565e+08, 5.65283591e+07, 3.48300841e+07],\n",
              "        [6.42137522e+08, 3.56857867e+08, 1.89551809e+08, 1.16792802e+08],\n",
              "        [8.50942655e+07, 4.72898048e+07, 2.51188747e+07, 1.54770550e+07]]))"
            ]
          },
          "metadata": {
            "tags": []
          },
          "execution_count": 28
        }
      ]
    },
    {
      "cell_type": "code",
      "metadata": {
        "id": "4L0VVKsCbcff"
      },
      "source": [
        "\"\"\"\n",
        "지역과 장르에 따른 판매수는 서로 독립적이지 않다. 즉 지역에 따라 선호하는 장르가 있음이 통계적으로 유의미한 판단을 할 수 있음을 알 수 있다.\n",
        "\"\"\""
      ],
      "execution_count": null,
      "outputs": []
    },
    {
      "cell_type": "markdown",
      "metadata": {
        "id": "0QnQRY8KbgQY"
      },
      "source": [
        "1-1 그렇다면 지역마다 어떤 장르의 게임 선호하는지 알아보자"
      ]
    },
    {
      "cell_type": "code",
      "metadata": {
        "id": "KjaoeyvQciFy"
      },
      "source": [
        "data_G_S_stand = (data_G_S  - data_G_S .mean(axis = 0))/(np.std(data_G_S , axis=0))"
      ],
      "execution_count": null,
      "outputs": []
    },
    {
      "cell_type": "code",
      "metadata": {
        "colab": {
          "base_uri": "https://localhost:8080/",
          "height": 608
        },
        "id": "MnC9OTf0blI5",
        "outputId": "44794b49-6e64-4ce4-f6bd-77638d2094f4"
      },
      "source": [
        "plt.figure(figsize=(15, 10))\n",
        "sns.heatmap(data_G_S_stand,annot=True, fmt='.2f')\n",
        "plt.title(\"Game genre preferred by country\")\n",
        "plt.show();"
      ],
      "execution_count": null,
      "outputs": [
        {
          "output_type": "display_data",
          "data": {
            "image/png": "[encoded data removed]",
            "text/plain": [
              "<Figure size 1080x720 with 2 Axes>"
            ]
          },
          "metadata": {
            "tags": [],
            "needs_background": "light"
          }
        }
      ]
    },
    {
      "cell_type": "code",
      "metadata": {
        "colab": {
          "base_uri": "https://localhost:8080/",
          "height": 175
        },
        "id": "Xk3oLuEuL_TA",
        "outputId": "ff40de3b-59c6-4e2e-a3a1-c86827d3d78f"
      },
      "source": [
        "data_G_S_stand.iloc[[0,8,10]]\n"
      ],
      "execution_count": null,
      "outputs": [
        {
          "output_type": "execute_result",
          "data": {
            "text/html": [
              "<div>\n",
              "<style scoped>\n",
              "    .dataframe tbody tr th:only-of-type {\n",
              "        vertical-align: middle;\n",
              "    }\n",
              "\n",
              "    .dataframe tbody tr th {\n",
              "        vertical-align: top;\n",
              "    }\n",
              "\n",
              "    .dataframe thead th {\n",
              "        text-align: right;\n",
              "    }\n",
              "</style>\n",
              "<table border=\"1\" class=\"dataframe\">\n",
              "  <thead>\n",
              "    <tr style=\"text-align: right;\">\n",
              "      <th></th>\n",
              "      <th>NA_Sales</th>\n",
              "      <th>EU_Sales</th>\n",
              "      <th>Other_Sales</th>\n",
              "    </tr>\n",
              "    <tr>\n",
              "      <th>Genre</th>\n",
              "      <th></th>\n",
              "      <th></th>\n",
              "      <th></th>\n",
              "    </tr>\n",
              "  </thead>\n",
              "  <tbody>\n",
              "    <tr>\n",
              "      <th>Action</th>\n",
              "      <td>2.131861</td>\n",
              "      <td>2.299806</td>\n",
              "      <td>2.356632</td>\n",
              "    </tr>\n",
              "    <tr>\n",
              "      <th>Shooter</th>\n",
              "      <td>0.919400</td>\n",
              "      <td>0.810820</td>\n",
              "      <td>0.726175</td>\n",
              "    </tr>\n",
              "    <tr>\n",
              "      <th>Sports</th>\n",
              "      <td>1.315123</td>\n",
              "      <td>1.255444</td>\n",
              "      <td>1.331467</td>\n",
              "    </tr>\n",
              "  </tbody>\n",
              "</table>\n",
              "</div>"
            ],
            "text/plain": [
              "         NA_Sales  EU_Sales  Other_Sales\n",
              "Genre                                   \n",
              "Action   2.131861  2.299806     2.356632\n",
              "Shooter  0.919400  0.810820     0.726175\n",
              "Sports   1.315123  1.255444     1.331467"
            ]
          },
          "metadata": {
            "tags": []
          },
          "execution_count": 107
        }
      ]
    },
    {
      "cell_type": "code",
      "metadata": {
        "colab": {
          "base_uri": "https://localhost:8080/",
          "height": 206
        },
        "id": "Ff0QF3DgMPPQ",
        "outputId": "888dd510-f3d3-44b1-87df-6a6907b6705d"
      },
      "source": [
        "plt.figure(figsize=(4, 2))\n",
        "sns.heatmap(data_G_S_stand.iloc[[0,8,10]],annot=True, fmt='.2f')\n",
        "plt.show();"
      ],
      "execution_count": null,
      "outputs": [
        {
          "output_type": "display_data",
          "data": {
            "image/png": "[encoded data removed]",
            "text/plain": [
              "<Figure size 288x144 with 2 Axes>"
            ]
          },
          "metadata": {
            "tags": [],
            "needs_background": "light"
          }
        }
      ]
    },
    {
      "cell_type": "code",
      "metadata": {
        "id": "L2wQpNkDc9FC"
      },
      "source": [
        "\"\"\"\n",
        "위의 그래프는 장르와 지역별의 매출을 나타낸 데이터 프레임을 정규화를 통해 지역별 매출에 비례한 것을 나타낸 것이다.\n",
        "\n",
        "상대적 선호도\n",
        "Action부문에서  일본을 제외한 모든 지역에서 선호도가 2를 넘기는 모습을 볼 수 있다. 또한 일본을 제외한 모든 지역에서 sports, shooter 순으로 인기가 많음을 알 수 있다.\n",
        "반면에 일본은 Role-Playing 장르가 2.94로 월등히 선호도가 높음을 알 수 있다.\n",
        "\"\"\""
      ],
      "execution_count": null,
      "outputs": []
    },
    {
      "cell_type": "code",
      "metadata": {
        "colab": {
          "base_uri": "https://localhost:8080/",
          "height": 248
        },
        "id": "UcH8wN8IgtYO",
        "outputId": "22e818ff-4a4f-450d-a9bb-9d592af532ab"
      },
      "source": [
        "#1980 ~ 2020 가장 높은 매출을 기록한 게임의 장르\n",
        "Genre_list = ['Action', 'Adventure', 'Fight', 'Misc', 'Platform ', 'Puzzle',\n",
        "       'Racing', 'Role-Playing', 'Shooter', 'Simulation', 'Sports',\n",
        "       'Strategy']\n",
        "G_S_list = [1.712980e+09 , 2.340200e+08 , 4.435400e+08 , 7.797000e+08 , 8.279900e+08 , 2.407300e+08 , 7.225500e+08 , 9.015100e+08 , 1.024750e+09 , 3.892800e+08 , 1.305340e+09 , 1.729800e+08]\n",
        "\n",
        "plt.pie(G_S_list, labels = Genre_list, autopct = '%.1f%%')\n",
        "\n",
        "plt.show()"
      ],
      "execution_count": null,
      "outputs": [
        {
          "output_type": "display_data",
          "data": {
            "image/png": "[encoded data removed]",
            "text/plain": [
              "<Figure size 432x288 with 1 Axes>"
            ]
          },
          "metadata": {
            "tags": []
          }
        }
      ]
    },
    {
      "cell_type": "code",
      "metadata": {
        "colab": {
          "base_uri": "https://localhost:8080/",
          "height": 248
        },
        "id": "gpWIUAGzh3Rc",
        "outputId": "8e62ee5f-e53d-4059-dfa2-0b8e6c151dc8"
      },
      "source": [
        "Country_list = ['North America','EU','Japan','Other']\n",
        "Sales_Sum = [ 4.307040e+09,  2.393570e+09,1.271390e+09, 7.833700e+08]\n",
        "plt.pie(Sales_Sum, labels = Country_list, autopct = '%.1f%%')\n",
        "plt.show()"
      ],
      "execution_count": null,
      "outputs": [
        {
          "output_type": "display_data",
          "data": {
            "image/png": "[encoded data removed]",
            "text/plain": [
              "<Figure size 432x288 with 1 Axes>"
            ]
          },
          "metadata": {
            "tags": []
          }
        }
      ]
    },
    {
      "cell_type": "code",
      "metadata": {
        "id": "v8_Su_BNg-ep"
      },
      "source": [
        "\"\"\"\n",
        "상대적인 선호도에 따라 Action, Sports, Shooter, Role-Playing 게임이 높은 매출을 보이는 것을 알 수 있다.\n",
        "\n",
        "특히 흥미로운 점은 상대적 선호도가 일본(시장 규모 또한 4지역중 3위임에도 불구하고) 에만 높은 Role-Playing 게임의 매출이 상당히 높은 것을 알 수 있다.\n",
        "\"\"\""
      ],
      "execution_count": null,
      "outputs": []
    },
    {
      "cell_type": "code",
      "metadata": {
        "colab": {
          "base_uri": "https://localhost:8080/"
        },
        "id": "iZPtm3uhn8Gb",
        "outputId": "ebde0a67-2bae-4952-c9c0-aad47dd054e2"
      },
      "source": [
        "print(np.corrcoef(data_G_S_stand['NA_Sales'],data_G_S_stand['EU_Sales']))\n",
        "print(np.corrcoef(data_G_S_stand['NA_Sales'],data_G_S_stand['Other_Sales']))\n",
        "print(np.corrcoef(data_G_S_stand['NA_Sales'],data_G_S_stand['JP_Sales']))\n",
        "print(np.corrcoef(data_G_S_stand['EU_Sales'],data_G_S_stand['JP_Sales']))\n",
        "print(np.corrcoef(data_G_S_stand['Other_Sales'],data_G_S_stand['JP_Sales']))"
      ],
      "execution_count": null,
      "outputs": [
        {
          "output_type": "stream",
          "text": [
            "[[1.         0.98648383]\n",
            " [0.98648383 1.        ]]\n",
            "[[1.         0.97440146]\n",
            " [0.97440146 1.        ]]\n",
            "[[1.         0.28537653]\n",
            " [0.28537653 1.        ]]\n",
            "[[1.         0.27842787]\n",
            " [0.27842787 1.        ]]\n",
            "[[1.        0.2635619]\n",
            " [0.2635619 1.       ]]\n"
          ],
          "name": "stdout"
        }
      ]
    },
    {
      "cell_type": "code",
      "metadata": {
        "colab": {
          "base_uri": "https://localhost:8080/",
          "height": 72
        },
        "id": "9JhGWqGOpRhe",
        "outputId": "956a5721-59c3-4b12-c53b-a51df360e127"
      },
      "source": [
        "\"\"\"\n",
        "해석\n",
        "일본을 제외한 나머지 나라에서 장르별 선호도의 상관계수가 1과 가깝게 나왔다. \n",
        "이는 NA,EU,Other_Sales에 대한 산점도를 그렸을 떄 유사한 방향으로 그래프가 그려진다는 것을 의미한다. \n",
        "즉, 3지역의 선호도는 유사하며, 지역별 선호도의 차이가 없음을 의미한다.\n",
        "\n",
        "반면에 일본은 상관계수가 약 0.3정도 다른 값에 비해 작게 나온 것을 볼 수 있다. \n",
        "일본은 다른 지역과 장르별 선호도가 유사하지 않고 선호 장르가 독특함을 의미합니다.\n",
        "\"\"\""
      ],
      "execution_count": null,
      "outputs": [
        {
          "output_type": "execute_result",
          "data": {
            "application/vnd.google.colaboratory.intrinsic+json": {
              "type": "string"
            },
            "text/plain": [
              "'\\n해석\\n일본을 제외한 나머지 나라에서 장르별 선호도의 상관계수가 1과 가깝게 나왔다. \\n이는 NA,EU,Other_Sales에 대한 산점도를 그렸을 떄 유사한 방향으로 그래프가 그려진다는 것을 의미한다. \\n즉, 3지역의 선호도는 유사하며, 지역별 선호도의 차이가 없음을 의미한다.\\n\\n반면에 일본은 상관계수가 약 0.3정도 다른 값에 비해 작게 나온 것을 볼 수 있다. \\n일본은 다른 지역과 장르별 선호도가 유사하지 않고 선호 장르가 독특함을 의미합니다.\\n'"
            ]
          },
          "metadata": {
            "tags": []
          },
          "execution_count": 34
        }
      ]
    },
    {
      "cell_type": "markdown",
      "metadata": {
        "id": "Z4oxl2LViVMR"
      },
      "source": [
        "# 일본에서의 Role_Playing 게임에 대한 높은 선호도에 대해서 알아보자"
      ]
    },
    {
      "cell_type": "code",
      "metadata": {
        "id": "jwSJ9BdTiUo_"
      },
      "source": [
        "data_G_R = data[data['Genre'] == 'Role-Playing']\n"
      ],
      "execution_count": null,
      "outputs": []
    },
    {
      "cell_type": "code",
      "metadata": {
        "id": "cK9W_2CPmzjy"
      },
      "source": [
        "data_G_R[data_G_R['JP_Sales'] > 0]['Name']\n",
        "data_G_R[data_G_R['JP_Sales'] > 0]['JP_Sales']\n",
        "data_G_R[data_G_R['JP_Sales'] > 0]['Year']\n",
        "data_G_R[data_G_R['JP_Sales'] > 0]['Platform']\n",
        "\n",
        "Japan_sales_R = pd.DataFrame({'Name' : data_G_R[data_G_R['JP_Sales'] > 0]['Name'],\n",
        "             'Platform' : data_G_R[data_G_R['JP_Sales'] > 0]['Platform'],\n",
        "             'Year' : data_G_R[data_G_R['JP_Sales'] > 0]['Year'],\n",
        "             'JP_Sales' : data_G_R[data_G_R['JP_Sales'] > 0]['JP_Sales']})\n",
        "Japan_sales_R['JP_Sales'] = Japan_sales_R['JP_Sales']"
      ],
      "execution_count": null,
      "outputs": []
    },
    {
      "cell_type": "code",
      "metadata": {
        "colab": {
          "base_uri": "https://localhost:8080/",
          "height": 112
        },
        "id": "WFJ0Vc2Fp1FH",
        "outputId": "699026a0-1643-4878-ace4-33fba1a39a3c"
      },
      "source": [
        "Japan_sales_R[Japan_sales_R['Year'] == 2017]"
      ],
      "execution_count": null,
      "outputs": [
        {
          "output_type": "execute_result",
          "data": {
            "text/html": [
              "<div>\n",
              "<style scoped>\n",
              "    .dataframe tbody tr th:only-of-type {\n",
              "        vertical-align: middle;\n",
              "    }\n",
              "\n",
              "    .dataframe tbody tr th {\n",
              "        vertical-align: top;\n",
              "    }\n",
              "\n",
              "    .dataframe thead th {\n",
              "        text-align: right;\n",
              "    }\n",
              "</style>\n",
              "<table border=\"1\" class=\"dataframe\">\n",
              "  <thead>\n",
              "    <tr style=\"text-align: right;\">\n",
              "      <th></th>\n",
              "      <th>Name</th>\n",
              "      <th>Platform</th>\n",
              "      <th>Year</th>\n",
              "      <th>JP_Sales</th>\n",
              "    </tr>\n",
              "  </thead>\n",
              "  <tbody>\n",
              "    <tr>\n",
              "      <th>9911</th>\n",
              "      <td>Phantasy Star Online 2 Episode 4: Deluxe Package</td>\n",
              "      <td>PS4</td>\n",
              "      <td>2017</td>\n",
              "      <td>30000.0</td>\n",
              "    </tr>\n",
              "    <tr>\n",
              "      <th>14903</th>\n",
              "      <td>Phantasy Star Online 2 Episode 4: Deluxe Package</td>\n",
              "      <td>PSV</td>\n",
              "      <td>2017</td>\n",
              "      <td>10000.0</td>\n",
              "    </tr>\n",
              "  </tbody>\n",
              "</table>\n",
              "</div>"
            ],
            "text/plain": [
              "                                                   Name  ... JP_Sales\n",
              "9911   Phantasy Star Online 2 Episode 4: Deluxe Package  ...  30000.0\n",
              "14903  Phantasy Star Online 2 Episode 4: Deluxe Package  ...  10000.0\n",
              "\n",
              "[2 rows x 4 columns]"
            ]
          },
          "metadata": {
            "tags": []
          },
          "execution_count": 37
        }
      ]
    },
    {
      "cell_type": "code",
      "metadata": {
        "colab": {
          "base_uri": "https://localhost:8080/",
          "height": 325
        },
        "id": "iahaKSOZozOX",
        "outputId": "b0ea927e-2540-456c-a4b9-e20c2ef091fe"
      },
      "source": [
        "Japan_sales_R.groupby('Year')['JP_Sales'].sum().plot.bar(x ='Year', y ='JP_Sales')"
      ],
      "execution_count": null,
      "outputs": [
        {
          "output_type": "execute_result",
          "data": {
            "text/plain": [
              "<matplotlib.axes._subplots.AxesSubplot at 0x7f90bf6f4610>"
            ]
          },
          "metadata": {
            "tags": []
          },
          "execution_count": 38
        },
        {
          "output_type": "display_data",
          "data": {
            "image/png": "[encoded data removed]",
            "text/plain": [
              "<Figure size 432x288 with 1 Axes>"
            ]
          },
          "metadata": {
            "tags": [],
            "needs_background": "light"
          }
        }
      ]
    },
    {
      "cell_type": "code",
      "metadata": {
        "id": "m9EAkrL3qIaI"
      },
      "source": [
        "\"\"\"\n",
        "일본에 Role-Playing 게임에 대한 상대적인 선호도가 높을지라도 2016년 이후로는 매출이 급감한 것을 볼 수 있다.\n",
        "\"\"\"\n",
        "# 그렇다면 일본 2016년이 후로 Role-playing game 에 따른 상대적 선호도가 낮아 져서 그런지, 아니면 게임 자체의 매출이 줄어 들었기 때문인지,"
      ],
      "execution_count": null,
      "outputs": []
    },
    {
      "cell_type": "code",
      "metadata": {
        "id": "GeNCPPkI-Ty8"
      },
      "source": [
        "data_T_J = pd.DataFrame({'Total_Sales' : data.groupby('Year')['Total_Sales'].sum(),\n",
        "              'JP_Sales' : Japan_sales_R.groupby('Year')['JP_Sales'].sum()})\n",
        "data_T_J.fillna(0)"
      ],
      "execution_count": null,
      "outputs": []
    },
    {
      "cell_type": "code",
      "metadata": {
        "id": "2cww-Xp_E4uJ"
      },
      "source": [
        "# 최대-최소 값으로 정규화\n",
        "data_T_J_stand = ((data_T_J-data_T_J.min())/ (data_T_J.max()-data_T_J.min()))\n",
        "data_T_J_stand = data_T_J_stand.fillna(data_T_J_stand.mean())\n",
        "data_T_J_stand = data_T_J_stand.drop([data_T_J_stand.index[37]])"
      ],
      "execution_count": null,
      "outputs": []
    },
    {
      "cell_type": "code",
      "metadata": {
        "colab": {
          "base_uri": "https://localhost:8080/"
        },
        "id": "fXKnvJgK9M03",
        "outputId": "8d742d8b-5556-4c5a-a50e-12edd8c49b86"
      },
      "source": [
        "# 연도 별 게임 판매수와 일본에서 판매된 Role-Playing 게임이 서로 관계 있는지 알아보자.\n",
        "data_T_J_category = data_T_J_stand[['Total_Sales','JP_Sales']].astype('category')\n",
        "chi_0 = chi2_contingency(data_T_J_category, correction = False)\n",
        "chi_0"
      ],
      "execution_count": null,
      "outputs": [
        {
          "output_type": "execute_result",
          "data": {
            "text/plain": [
              "(3.521547303709203, 0.9999999999997607, 37, array([[0.19810516, 0.26972939],\n",
              "        [0.21363179, 0.29086962],\n",
              "        [0.20937449, 0.28507311],\n",
              "        [0.20181152, 0.27477577],\n",
              "        [0.2228163 , 0.30337475],\n",
              "        [0.22507016, 0.30644349],\n",
              "        [0.03178515, 0.04327696],\n",
              "        [0.0877436 , 0.11946699],\n",
              "        [0.13238686, 0.18025087],\n",
              "        [0.08466118, 0.11527013],\n",
              "        [0.10936788, 0.14890946],\n",
              "        [0.06978566, 0.09501642],\n",
              "        [0.16931526, 0.2305306 ],\n",
              "        [0.12212541, 0.16627943],\n",
              "        [0.16049152, 0.21851667],\n",
              "        [0.28898902, 0.39347199],\n",
              "        [0.46021053, 0.62659803],\n",
              "        [0.33229261, 0.45243185],\n",
              "        [0.36204159, 0.49293646],\n",
              "        [0.47798498, 0.65079877],\n",
              "        [0.40856798, 0.5562843 ],\n",
              "        [0.37612273, 0.51210859],\n",
              "        [0.49039862, 0.66770053],\n",
              "        [0.39526796, 0.53817571],\n",
              "        [0.49695146, 0.67662253],\n",
              "        [0.45066586, 0.61360252],\n",
              "        [0.63496818, 0.86453871],\n",
              "        [0.60302696, 0.82104925],\n",
              "        [0.736515  , 1.00279943],\n",
              "        [0.72201257, 0.98305369],\n",
              "        [0.79352359, 1.08041928],\n",
              "        [0.58017268, 0.78993209],\n",
              "        [0.48379805, 0.65871355],\n",
              "        [0.49876993, 0.67909846],\n",
              "        [0.52765337, 0.7184246 ],\n",
              "        [0.28342051, 0.3858902 ],\n",
              "        [0.10865283, 0.14793588],\n",
              "        [0.19147504, 0.26070217]]))"
            ]
          },
          "metadata": {
            "tags": []
          },
          "execution_count": 41
        }
      ]
    },
    {
      "cell_type": "code",
      "metadata": {
        "id": "J3FeoSD5HinQ"
      },
      "source": [
        "\"\"\"\n",
        "\n",
        "pvalue 값이 거의 1에 가깝다. 이는 연도별 게임의 판매수와, 일본 내에서 판매되는 Role-Playing의 게임은 관련이 없음을 나타낸다.\n",
        "최근 일본내에서 Role-Playing 에 대한 선호도가 그래프대로 감소한 것을 알 수 있다.\n",
        "\n",
        "\"\"\""
      ],
      "execution_count": null,
      "outputs": []
    },
    {
      "cell_type": "markdown",
      "metadata": {
        "id": "bLr-8MwgKUPe"
      },
      "source": [
        "# 3. 출고량이 높은 게임에 대한 분석 및 시각화 프로세스가 포함되어야 합니다.\n",
        "\n"
      ]
    },
    {
      "cell_type": "code",
      "metadata": {
        "colab": {
          "base_uri": "https://localhost:8080/",
          "height": 422
        },
        "id": "O6AhVBCBfs5N",
        "outputId": "ef880863-2455-497e-e305-aa94f8521e75"
      },
      "source": [
        "data[data['Total_Sales'] > 1000000.0].mean()\n",
        "data[data['Total_Sales'] > 2.770000e+06]"
      ],
      "execution_count": null,
      "outputs": [
        {
          "output_type": "execute_result",
          "data": {
            "text/html": [
              "<div>\n",
              "<style scoped>\n",
              "    .dataframe tbody tr th:only-of-type {\n",
              "        vertical-align: middle;\n",
              "    }\n",
              "\n",
              "    .dataframe tbody tr th {\n",
              "        vertical-align: top;\n",
              "    }\n",
              "\n",
              "    .dataframe thead th {\n",
              "        text-align: right;\n",
              "    }\n",
              "</style>\n",
              "<table border=\"1\" class=\"dataframe\">\n",
              "  <thead>\n",
              "    <tr style=\"text-align: right;\">\n",
              "      <th></th>\n",
              "      <th>Name</th>\n",
              "      <th>Platform</th>\n",
              "      <th>Year</th>\n",
              "      <th>Genre</th>\n",
              "      <th>Publisher</th>\n",
              "      <th>NA_Sales</th>\n",
              "      <th>EU_Sales</th>\n",
              "      <th>JP_Sales</th>\n",
              "      <th>Other_Sales</th>\n",
              "      <th>Total_Sales</th>\n",
              "    </tr>\n",
              "  </thead>\n",
              "  <tbody>\n",
              "    <tr>\n",
              "      <th>119</th>\n",
              "      <td>Call of Duty 4: Modern Warfare</td>\n",
              "      <td>X360</td>\n",
              "      <td>2007</td>\n",
              "      <td>Shooter</td>\n",
              "      <td>Activision</td>\n",
              "      <td>5910000.0</td>\n",
              "      <td>2380000.0</td>\n",
              "      <td>130000.0</td>\n",
              "      <td>900000.0</td>\n",
              "      <td>9320000.0</td>\n",
              "    </tr>\n",
              "    <tr>\n",
              "      <th>123</th>\n",
              "      <td>Mortal Kombat</td>\n",
              "      <td>PS3</td>\n",
              "      <td>2011</td>\n",
              "      <td>Fighting</td>\n",
              "      <td>Warner Bros. Interactive Entertainment</td>\n",
              "      <td>1980000.0</td>\n",
              "      <td>550000.0</td>\n",
              "      <td>0.0</td>\n",
              "      <td>320000.0</td>\n",
              "      <td>2850000.0</td>\n",
              "    </tr>\n",
              "    <tr>\n",
              "      <th>160</th>\n",
              "      <td>Dragon Quest VII: Warriors of Eden</td>\n",
              "      <td>PS</td>\n",
              "      <td>2000</td>\n",
              "      <td>Role-Playing</td>\n",
              "      <td>Enix Corporation</td>\n",
              "      <td>200000.0</td>\n",
              "      <td>140000.0</td>\n",
              "      <td>4100000.0</td>\n",
              "      <td>20000.0</td>\n",
              "      <td>4460000.0</td>\n",
              "    </tr>\n",
              "    <tr>\n",
              "      <th>189</th>\n",
              "      <td>Left 4 Dead 2</td>\n",
              "      <td>X360</td>\n",
              "      <td>2009</td>\n",
              "      <td>Shooter</td>\n",
              "      <td>Electronic Arts</td>\n",
              "      <td>2670000.0</td>\n",
              "      <td>890000.0</td>\n",
              "      <td>50000.0</td>\n",
              "      <td>370000.0</td>\n",
              "      <td>3980000.0</td>\n",
              "    </tr>\n",
              "    <tr>\n",
              "      <th>220</th>\n",
              "      <td>Just Dance 3</td>\n",
              "      <td>Wii</td>\n",
              "      <td>2011</td>\n",
              "      <td>Misc</td>\n",
              "      <td>Ubisoft</td>\n",
              "      <td>6050000.0</td>\n",
              "      <td>3150000.0</td>\n",
              "      <td>0.0</td>\n",
              "      <td>1070000.0</td>\n",
              "      <td>10270000.0</td>\n",
              "    </tr>\n",
              "    <tr>\n",
              "      <th>...</th>\n",
              "      <td>...</td>\n",
              "      <td>...</td>\n",
              "      <td>...</td>\n",
              "      <td>...</td>\n",
              "      <td>...</td>\n",
              "      <td>...</td>\n",
              "      <td>...</td>\n",
              "      <td>...</td>\n",
              "      <td>...</td>\n",
              "      <td>...</td>\n",
              "    </tr>\n",
              "    <tr>\n",
              "      <th>16160</th>\n",
              "      <td>Super Mario Galaxy 2</td>\n",
              "      <td>Wii</td>\n",
              "      <td>2010</td>\n",
              "      <td>Platform</td>\n",
              "      <td>Nintendo</td>\n",
              "      <td>3660000.0</td>\n",
              "      <td>2420000.0</td>\n",
              "      <td>980000.0</td>\n",
              "      <td>640000.0</td>\n",
              "      <td>7700000.0</td>\n",
              "    </tr>\n",
              "    <tr>\n",
              "      <th>16176</th>\n",
              "      <td>New Super Mario Bros. Wii</td>\n",
              "      <td>Wii</td>\n",
              "      <td>2009</td>\n",
              "      <td>Platform</td>\n",
              "      <td>Nintendo</td>\n",
              "      <td>14590000.0</td>\n",
              "      <td>7060000.0</td>\n",
              "      <td>4700000.0</td>\n",
              "      <td>2260000.0</td>\n",
              "      <td>28610000.0</td>\n",
              "    </tr>\n",
              "    <tr>\n",
              "      <th>16189</th>\n",
              "      <td>Spider-Man 2</td>\n",
              "      <td>PS2</td>\n",
              "      <td>2004</td>\n",
              "      <td>Action</td>\n",
              "      <td>Activision</td>\n",
              "      <td>1750000.0</td>\n",
              "      <td>1200000.0</td>\n",
              "      <td>20000.0</td>\n",
              "      <td>430000.0</td>\n",
              "      <td>3400000.0</td>\n",
              "    </tr>\n",
              "    <tr>\n",
              "      <th>16197</th>\n",
              "      <td>Left 4 Dead</td>\n",
              "      <td>X360</td>\n",
              "      <td>2008</td>\n",
              "      <td>Shooter</td>\n",
              "      <td>Electronic Arts</td>\n",
              "      <td>2660000.0</td>\n",
              "      <td>500000.0</td>\n",
              "      <td>50000.0</td>\n",
              "      <td>300000.0</td>\n",
              "      <td>3510000.0</td>\n",
              "    </tr>\n",
              "    <tr>\n",
              "      <th>16234</th>\n",
              "      <td>Madden NFL 2005</td>\n",
              "      <td>PS2</td>\n",
              "      <td>2004</td>\n",
              "      <td>Sports</td>\n",
              "      <td>Electronic Arts</td>\n",
              "      <td>4180000.0</td>\n",
              "      <td>260000.0</td>\n",
              "      <td>10000.0</td>\n",
              "      <td>80000.0</td>\n",
              "      <td>4530000.0</td>\n",
              "    </tr>\n",
              "  </tbody>\n",
              "</table>\n",
              "<p>535 rows × 10 columns</p>\n",
              "</div>"
            ],
            "text/plain": [
              "                                     Name Platform  ...  Other_Sales Total_Sales\n",
              "119        Call of Duty 4: Modern Warfare     X360  ...     900000.0   9320000.0\n",
              "123                         Mortal Kombat      PS3  ...     320000.0   2850000.0\n",
              "160    Dragon Quest VII: Warriors of Eden       PS  ...      20000.0   4460000.0\n",
              "189                         Left 4 Dead 2     X360  ...     370000.0   3980000.0\n",
              "220                          Just Dance 3      Wii  ...    1070000.0  10270000.0\n",
              "...                                   ...      ...  ...          ...         ...\n",
              "16160                Super Mario Galaxy 2      Wii  ...     640000.0   7700000.0\n",
              "16176           New Super Mario Bros. Wii      Wii  ...    2260000.0  28610000.0\n",
              "16189                        Spider-Man 2      PS2  ...     430000.0   3400000.0\n",
              "16197                         Left 4 Dead     X360  ...     300000.0   3510000.0\n",
              "16234                     Madden NFL 2005      PS2  ...      80000.0   4530000.0\n",
              "\n",
              "[535 rows x 10 columns]"
            ]
          },
          "metadata": {
            "tags": []
          },
          "execution_count": 42
        }
      ]
    },
    {
      "cell_type": "code",
      "metadata": {
        "colab": {
          "base_uri": "https://localhost:8080/",
          "height": 422
        },
        "id": "bwN3LD5yhpxL",
        "outputId": "04c988ba-42c6-47c4-9211-03638f6a675b"
      },
      "source": [
        "data_M = data[data['Total_Sales'] > 10000000.0]\n",
        "data_M "
      ],
      "execution_count": null,
      "outputs": [
        {
          "output_type": "execute_result",
          "data": {
            "text/html": [
              "<div>\n",
              "<style scoped>\n",
              "    .dataframe tbody tr th:only-of-type {\n",
              "        vertical-align: middle;\n",
              "    }\n",
              "\n",
              "    .dataframe tbody tr th {\n",
              "        vertical-align: top;\n",
              "    }\n",
              "\n",
              "    .dataframe thead th {\n",
              "        text-align: right;\n",
              "    }\n",
              "</style>\n",
              "<table border=\"1\" class=\"dataframe\">\n",
              "  <thead>\n",
              "    <tr style=\"text-align: right;\">\n",
              "      <th></th>\n",
              "      <th>Name</th>\n",
              "      <th>Platform</th>\n",
              "      <th>Year</th>\n",
              "      <th>Genre</th>\n",
              "      <th>Publisher</th>\n",
              "      <th>NA_Sales</th>\n",
              "      <th>EU_Sales</th>\n",
              "      <th>JP_Sales</th>\n",
              "      <th>Other_Sales</th>\n",
              "      <th>Total_Sales</th>\n",
              "    </tr>\n",
              "  </thead>\n",
              "  <tbody>\n",
              "    <tr>\n",
              "      <th>220</th>\n",
              "      <td>Just Dance 3</td>\n",
              "      <td>Wii</td>\n",
              "      <td>2011</td>\n",
              "      <td>Misc</td>\n",
              "      <td>Ubisoft</td>\n",
              "      <td>6050000.0</td>\n",
              "      <td>3150000.0</td>\n",
              "      <td>0.0</td>\n",
              "      <td>1070000.0</td>\n",
              "      <td>10270000.0</td>\n",
              "    </tr>\n",
              "    <tr>\n",
              "      <th>503</th>\n",
              "      <td>Brain Age 2: More Training in Minutes a Day</td>\n",
              "      <td>DS</td>\n",
              "      <td>2005</td>\n",
              "      <td>Puzzle</td>\n",
              "      <td>Nintendo</td>\n",
              "      <td>3440000.0</td>\n",
              "      <td>5360000.0</td>\n",
              "      <td>5320000.0</td>\n",
              "      <td>1180000.0</td>\n",
              "      <td>15300000.0</td>\n",
              "    </tr>\n",
              "    <tr>\n",
              "      <th>992</th>\n",
              "      <td>Gran Turismo 3: A-Spec</td>\n",
              "      <td>PS2</td>\n",
              "      <td>2001</td>\n",
              "      <td>Racing</td>\n",
              "      <td>Sony Computer Entertainment</td>\n",
              "      <td>6850000.0</td>\n",
              "      <td>5090000.0</td>\n",
              "      <td>1870000.0</td>\n",
              "      <td>1160000.0</td>\n",
              "      <td>14970000.0</td>\n",
              "    </tr>\n",
              "    <tr>\n",
              "      <th>1187</th>\n",
              "      <td>Tetris</td>\n",
              "      <td>GB</td>\n",
              "      <td>1989</td>\n",
              "      <td>Puzzle</td>\n",
              "      <td>Nintendo</td>\n",
              "      <td>23200000.0</td>\n",
              "      <td>2260000.0</td>\n",
              "      <td>4220000.0</td>\n",
              "      <td>580000.0</td>\n",
              "      <td>30260000.0</td>\n",
              "    </tr>\n",
              "    <tr>\n",
              "      <th>1780</th>\n",
              "      <td>Pokemon FireRed/Pokemon LeafGreen</td>\n",
              "      <td>GBA</td>\n",
              "      <td>2004</td>\n",
              "      <td>Role-Playing</td>\n",
              "      <td>Nintendo</td>\n",
              "      <td>4340000.0</td>\n",
              "      <td>2650000.0</td>\n",
              "      <td>3150000.0</td>\n",
              "      <td>350000.0</td>\n",
              "      <td>10490000.0</td>\n",
              "    </tr>\n",
              "    <tr>\n",
              "      <th>...</th>\n",
              "      <td>...</td>\n",
              "      <td>...</td>\n",
              "      <td>...</td>\n",
              "      <td>...</td>\n",
              "      <td>...</td>\n",
              "      <td>...</td>\n",
              "      <td>...</td>\n",
              "      <td>...</td>\n",
              "      <td>...</td>\n",
              "      <td>...</td>\n",
              "    </tr>\n",
              "    <tr>\n",
              "      <th>14355</th>\n",
              "      <td>Grand Theft Auto: San Andreas</td>\n",
              "      <td>PS2</td>\n",
              "      <td>2004</td>\n",
              "      <td>Action</td>\n",
              "      <td>Take-Two Interactive</td>\n",
              "      <td>9430000.0</td>\n",
              "      <td>400000.0</td>\n",
              "      <td>410000.0</td>\n",
              "      <td>10570000.0</td>\n",
              "      <td>20810000.0</td>\n",
              "    </tr>\n",
              "    <tr>\n",
              "      <th>14540</th>\n",
              "      <td>Super Mario Bros. 3</td>\n",
              "      <td>NES</td>\n",
              "      <td>1988</td>\n",
              "      <td>Platform</td>\n",
              "      <td>Nintendo</td>\n",
              "      <td>9540000.0</td>\n",
              "      <td>3440000.0</td>\n",
              "      <td>3840000.0</td>\n",
              "      <td>460000.0</td>\n",
              "      <td>17280000.0</td>\n",
              "    </tr>\n",
              "    <tr>\n",
              "      <th>14586</th>\n",
              "      <td>Super Smash Bros. Brawl</td>\n",
              "      <td>Wii</td>\n",
              "      <td>2008</td>\n",
              "      <td>Fighting</td>\n",
              "      <td>Nintendo</td>\n",
              "      <td>6750000.0</td>\n",
              "      <td>2610000.0</td>\n",
              "      <td>2660000.0</td>\n",
              "      <td>1020000.0</td>\n",
              "      <td>13040000.0</td>\n",
              "    </tr>\n",
              "    <tr>\n",
              "      <th>16120</th>\n",
              "      <td>Grand Theft Auto IV</td>\n",
              "      <td>PS3</td>\n",
              "      <td>2008</td>\n",
              "      <td>Action</td>\n",
              "      <td>Take-Two Interactive</td>\n",
              "      <td>4760000.0</td>\n",
              "      <td>3760000.0</td>\n",
              "      <td>440000.0</td>\n",
              "      <td>1620000.0</td>\n",
              "      <td>10580000.0</td>\n",
              "    </tr>\n",
              "    <tr>\n",
              "      <th>16176</th>\n",
              "      <td>New Super Mario Bros. Wii</td>\n",
              "      <td>Wii</td>\n",
              "      <td>2009</td>\n",
              "      <td>Platform</td>\n",
              "      <td>Nintendo</td>\n",
              "      <td>14590000.0</td>\n",
              "      <td>7060000.0</td>\n",
              "      <td>4700000.0</td>\n",
              "      <td>2260000.0</td>\n",
              "      <td>28610000.0</td>\n",
              "    </tr>\n",
              "  </tbody>\n",
              "</table>\n",
              "<p>61 rows × 10 columns</p>\n",
              "</div>"
            ],
            "text/plain": [
              "                                              Name  ... Total_Sales\n",
              "220                                   Just Dance 3  ...  10270000.0\n",
              "503    Brain Age 2: More Training in Minutes a Day  ...  15300000.0\n",
              "992                         Gran Turismo 3: A-Spec  ...  14970000.0\n",
              "1187                                        Tetris  ...  30260000.0\n",
              "1780             Pokemon FireRed/Pokemon LeafGreen  ...  10490000.0\n",
              "...                                            ...  ...         ...\n",
              "14355                Grand Theft Auto: San Andreas  ...  20810000.0\n",
              "14540                          Super Mario Bros. 3  ...  17280000.0\n",
              "14586                      Super Smash Bros. Brawl  ...  13040000.0\n",
              "16120                          Grand Theft Auto IV  ...  10580000.0\n",
              "16176                    New Super Mario Bros. Wii  ...  28610000.0\n",
              "\n",
              "[61 rows x 10 columns]"
            ]
          },
          "metadata": {
            "tags": []
          },
          "execution_count": 43
        }
      ]
    },
    {
      "cell_type": "code",
      "metadata": {
        "colab": {
          "base_uri": "https://localhost:8080/"
        },
        "id": "tlu8bZd2ViHx",
        "outputId": "5d002b2c-a459-415c-e34d-c583da823aea"
      },
      "source": [
        "data_M['num'] = 1"
      ],
      "execution_count": null,
      "outputs": [
        {
          "output_type": "stream",
          "text": [
            "/usr/local/lib/python3.7/dist-packages/ipykernel_launcher.py:1: SettingWithCopyWarning: \n",
            "A value is trying to be set on a copy of a slice from a DataFrame.\n",
            "Try using .loc[row_indexer,col_indexer] = value instead\n",
            "\n",
            "See the caveats in the documentation: https://pandas.pydata.org/pandas-docs/stable/user_guide/indexing.html#returning-a-view-versus-a-copy\n",
            "  \"\"\"Entry point for launching an IPython kernel.\n"
          ],
          "name": "stderr"
        }
      ]
    },
    {
      "cell_type": "code",
      "metadata": {
        "colab": {
          "base_uri": "https://localhost:8080/"
        },
        "id": "e1DxGCE85y3V",
        "outputId": "4dbe7d91-fbee-4d49-d1cc-05d62bbbe60b"
      },
      "source": [
        "data_M['Genre'].unique()\n"
      ],
      "execution_count": null,
      "outputs": [
        {
          "output_type": "execute_result",
          "data": {
            "text/plain": [
              "array(['Misc', 'Puzzle', 'Racing', 'Role-Playing', 'Action', 'Shooter',\n",
              "       'Sports', 'Platform', 'Simulation', 'Adventure', 'Fighting'],\n",
              "      dtype=object)"
            ]
          },
          "metadata": {
            "tags": []
          },
          "execution_count": 45
        }
      ]
    },
    {
      "cell_type": "code",
      "metadata": {
        "colab": {
          "base_uri": "https://localhost:8080/"
        },
        "id": "R5YAf2o0hERr",
        "outputId": "0444503d-4273-45a1-e264-73d990f1e902"
      },
      "source": [
        "# 평균 판매 : 약 50만\n",
        "data['Total_Sales'].mean()"
      ],
      "execution_count": null,
      "outputs": [
        {
          "output_type": "execute_result",
          "data": {
            "text/plain": [
              "539090.573240564"
            ]
          },
          "metadata": {
            "tags": []
          },
          "execution_count": 46
        }
      ]
    },
    {
      "cell_type": "code",
      "metadata": {
        "colab": {
          "base_uri": "https://localhost:8080/",
          "height": 313
        },
        "id": "SVbhMsU8Hfvp",
        "outputId": "194b63c6-ad7a-47cc-dee9-0288a37249bc"
      },
      "source": [
        "#천만 이상 매출을 기록한 게임들 중 연도 분포\n",
        "data_M.groupby(['Year'])['num'].sum().plot.bar()"
      ],
      "execution_count": null,
      "outputs": [
        {
          "output_type": "execute_result",
          "data": {
            "text/plain": [
              "<matplotlib.axes._subplots.AxesSubplot at 0x7f90c9ffeb90>"
            ]
          },
          "metadata": {
            "tags": []
          },
          "execution_count": 47
        },
        {
          "output_type": "display_data",
          "data": {
            "image/png": "[encoded data removed]",
            "text/plain": [
              "<Figure size 432x288 with 1 Axes>"
            ]
          },
          "metadata": {
            "tags": [],
            "needs_background": "light"
          }
        }
      ]
    },
    {
      "cell_type": "code",
      "metadata": {
        "colab": {
          "base_uri": "https://localhost:8080/"
        },
        "id": "4rMxluySIAxE",
        "outputId": "eaeeff4e-d150-44f8-b615-77af3af48de2"
      },
      "source": [
        "# 2010년 이후로 게임시장의 전체적인 매출이 감소함에도 1000만 판매량을 넘긴 게임들을 살펴보자\n",
        "data_M[data_M['Year']>2010]['Name']"
      ],
      "execution_count": null,
      "outputs": [
        {
          "output_type": "execute_result",
          "data": {
            "text/plain": [
              "220                                   Just Dance 3\n",
              "1973                            Grand Theft Auto V\n",
              "2757                Call of Duty: Modern Warfare 3\n",
              "3414                            Grand Theft Auto V\n",
              "4152                    Call of Duty: Black Ops II\n",
              "4163     Pokemon Omega Ruby/Pokemon Alpha Sapphire\n",
              "5489                          Call of Duty: Ghosts\n",
              "6257                    Call of Duty: Black Ops II\n",
              "8892                     Call of Duty: Black Ops 3\n",
              "10695                           Grand Theft Auto V\n",
              "10901                                 Mario Kart 7\n",
              "12359                          Super Mario 3D Land\n",
              "13814               Call of Duty: Modern Warfare 3\n",
              "Name: Name, dtype: object"
            ]
          },
          "metadata": {
            "tags": []
          },
          "execution_count": 48
        }
      ]
    },
    {
      "cell_type": "code",
      "metadata": {
        "colab": {
          "base_uri": "https://localhost:8080/"
        },
        "id": "7QFnvOYEIj7h",
        "outputId": "fb9b3504-d49e-494f-89cd-050f7f3f8807"
      },
      "source": [
        "data_M[data_M['Year']>2010]['Genre']"
      ],
      "execution_count": null,
      "outputs": [
        {
          "output_type": "execute_result",
          "data": {
            "text/plain": [
              "220              Misc\n",
              "1973           Action\n",
              "2757          Shooter\n",
              "3414           Action\n",
              "4152          Shooter\n",
              "4163     Role-Playing\n",
              "5489          Shooter\n",
              "6257          Shooter\n",
              "8892          Shooter\n",
              "10695          Action\n",
              "10901          Racing\n",
              "12359        Platform\n",
              "13814         Shooter\n",
              "Name: Genre, dtype: object"
            ]
          },
          "metadata": {
            "tags": []
          },
          "execution_count": 49
        }
      ]
    },
    {
      "cell_type": "code",
      "metadata": {
        "colab": {
          "base_uri": "https://localhost:8080/",
          "height": 349
        },
        "id": "9dC4pTwqku_N",
        "outputId": "abd0ca8c-7852-47e3-c0e5-d771cf5a8fcc"
      },
      "source": [
        "# 천만 이상 매출을 기록한 게임들중 장르 분포도\n",
        "data_M.groupby(['Genre'])['num'].sum().plot.bar()"
      ],
      "execution_count": null,
      "outputs": [
        {
          "output_type": "execute_result",
          "data": {
            "text/plain": [
              "<matplotlib.axes._subplots.AxesSubplot at 0x7f90bf7887d0>"
            ]
          },
          "metadata": {
            "tags": []
          },
          "execution_count": 50
        },
        {
          "output_type": "display_data",
          "data": {
            "image/png": "[encoded data removed]",
            "text/plain": [
              "<Figure size 432x288 with 1 Axes>"
            ]
          },
          "metadata": {
            "tags": [],
            "needs_background": "light"
          }
        }
      ]
    },
    {
      "cell_type": "code",
      "metadata": {
        "colab": {
          "base_uri": "https://localhost:8080/"
        },
        "id": "IWbhLjGc46ZU",
        "outputId": "410dca7e-79fb-4f1f-99f2-93d5f4f78993"
      },
      "source": [
        "data_M.groupby(['Genre'])['num'].sum()"
      ],
      "execution_count": null,
      "outputs": [
        {
          "output_type": "execute_result",
          "data": {
            "text/plain": [
              "Genre\n",
              "Action           9\n",
              "Adventure        1\n",
              "Fighting         1\n",
              "Misc             4\n",
              "Platform        11\n",
              "Puzzle           2\n",
              "Racing           7\n",
              "Role-Playing     8\n",
              "Shooter         12\n",
              "Simulation       2\n",
              "Sports           4\n",
              "Name: num, dtype: int64"
            ]
          },
          "metadata": {
            "tags": []
          },
          "execution_count": 51
        }
      ]
    },
    {
      "cell_type": "code",
      "metadata": {
        "colab": {
          "base_uri": "https://localhost:8080/",
          "height": 360
        },
        "id": "BYUW9iHZTGRi",
        "outputId": "961d4f10-5e6a-4217-acae-fc66de7015fd"
      },
      "source": [
        "# 천만 이상 매출을 기록한 게임들중 장르 별 판매 수\n",
        "data_M.groupby(['Genre'])['Total_Sales'].sum().plot.bar()"
      ],
      "execution_count": null,
      "outputs": [
        {
          "output_type": "execute_result",
          "data": {
            "text/plain": [
              "<matplotlib.axes._subplots.AxesSubplot at 0x7f90c990c6d0>"
            ]
          },
          "metadata": {
            "tags": []
          },
          "execution_count": 52
        },
        {
          "output_type": "display_data",
          "data": {
            "image/png": "[encoded data removed]",
            "text/plain": [
              "<Figure size 432x288 with 1 Axes>"
            ]
          },
          "metadata": {
            "tags": [],
            "needs_background": "light"
          }
        }
      ]
    },
    {
      "cell_type": "code",
      "metadata": {
        "id": "IN2C9ilgiHlh"
      },
      "source": [
        "# 장르 때문에 게임이 인기가 있는지, 아니면 게임자체가 재미 있어서 인기가 있는건지\n",
        "\"\"\"\n",
        "귀무 : 1000만 이상의 매출을 기록한 게임은 장르와 관련이 있다.\n",
        "대안 : 1000만 이상의 매출을 기록한 게임은 장르와 관련이 없다. --> 게임 자체가 재미있는 것이다.\n",
        "\"\"\"\n",
        "# 1000만 이상의 매출을 기록한 장르의 매출과 random으로 뽑은(수는 같게) \n",
        "# 1000이상의 매출을 기록한 게임을 제외하고 나머지에서의 매출과 비교"
      ],
      "execution_count": null,
      "outputs": []
    },
    {
      "cell_type": "code",
      "metadata": {
        "colab": {
          "base_uri": "https://localhost:8080/"
        },
        "id": "wDepql8lkHVT",
        "outputId": "4139299d-7b3b-41c5-914c-9fe985ed6086"
      },
      "source": [
        "# 1000만 이상 달성한  장르가 action인 게임들의 매출\n",
        "data_M[data_M['Genre'] == 'Action']['Total_Sales']"
      ],
      "execution_count": null,
      "outputs": [
        {
          "output_type": "execute_result",
          "data": {
            "text/plain": [
              "1973     11990000.0\n",
              "3414     21390000.0\n",
              "4704     11900000.0\n",
              "5226     16150000.0\n",
              "9597     13100000.0\n",
              "10695    16380000.0\n",
              "13626    11030000.0\n",
              "14355    20810000.0\n",
              "16120    10580000.0\n",
              "Name: Total_Sales, dtype: float64"
            ]
          },
          "metadata": {
            "tags": []
          },
          "execution_count": 53
        }
      ]
    },
    {
      "cell_type": "code",
      "metadata": {
        "colab": {
          "base_uri": "https://localhost:8080/"
        },
        "id": "WSWdlZHjyXfI",
        "outputId": "404300b4-dfd6-42ed-fc40-f40e490d1d11"
      },
      "source": [
        "data[data['Genre']=='Action']['Total_Sales']"
      ],
      "execution_count": null,
      "outputs": [
        {
          "output_type": "execute_result",
          "data": {
            "text/plain": [
              "0          40000.0\n",
              "1         180000.0\n",
              "7         190000.0\n",
              "9          80000.0\n",
              "15        360000.0\n",
              "           ...    \n",
              "16219    1080000.0\n",
              "16225     270000.0\n",
              "16227    1430000.0\n",
              "16237      10000.0\n",
              "16239     380000.0\n",
              "Name: Total_Sales, Length: 3240, dtype: float64"
            ]
          },
          "metadata": {
            "tags": []
          },
          "execution_count": 54
        }
      ]
    },
    {
      "cell_type": "code",
      "metadata": {
        "colab": {
          "base_uri": "https://localhost:8080/"
        },
        "id": "0_jhYNEFmb2B",
        "outputId": "fa258962-030f-492f-aa3d-9d449788c877"
      },
      "source": [
        "np.random.seed(123)\n",
        "\n",
        "rand_sample = np.random.choice(data[data['Genre']=='Action']['Total_Sales'], size = 9, replace =False)\n",
        "rand_sample "
      ],
      "execution_count": null,
      "outputs": [
        {
          "output_type": "execute_result",
          "data": {
            "text/plain": [
              "array([ 480000.,  130000.,   60000.,  310000.,  130000.,   20000.,\n",
              "       1310000.,  160000.,  140000.])"
            ]
          },
          "metadata": {
            "tags": []
          },
          "execution_count": 55
        }
      ]
    },
    {
      "cell_type": "code",
      "metadata": {
        "id": "1o2MAdqwoDm7"
      },
      "source": [
        "rsdm_data = pd.DataFrame({'r_s' : rand_sample, 'd_m' : data_M[data_M['Genre'] == 'Action']['Total_Sales']})"
      ],
      "execution_count": null,
      "outputs": []
    },
    {
      "cell_type": "code",
      "metadata": {
        "colab": {
          "base_uri": "https://localhost:8080/",
          "height": 331
        },
        "id": "vIIBrMRqoWVP",
        "outputId": "3a88d705-a667-4d2a-bc7f-90a3fc518fa4"
      },
      "source": [
        "rsdm_data_stand = (rsdm_data - rsdm_data.mean(axis = 0))/(np.std(rsdm_data , axis=0))\n",
        "rsdm_data_stand"
      ],
      "execution_count": null,
      "outputs": [
        {
          "output_type": "execute_result",
          "data": {
            "text/html": [
              "<div>\n",
              "<style scoped>\n",
              "    .dataframe tbody tr th:only-of-type {\n",
              "        vertical-align: middle;\n",
              "    }\n",
              "\n",
              "    .dataframe tbody tr th {\n",
              "        vertical-align: top;\n",
              "    }\n",
              "\n",
              "    .dataframe thead th {\n",
              "        text-align: right;\n",
              "    }\n",
              "</style>\n",
              "<table border=\"1\" class=\"dataframe\">\n",
              "  <thead>\n",
              "    <tr style=\"text-align: right;\">\n",
              "      <th></th>\n",
              "      <th>r_s</th>\n",
              "      <th>d_m</th>\n",
              "    </tr>\n",
              "  </thead>\n",
              "  <tbody>\n",
              "    <tr>\n",
              "      <th>1973</th>\n",
              "      <td>0.463449</td>\n",
              "      <td>-0.729045</td>\n",
              "    </tr>\n",
              "    <tr>\n",
              "      <th>3414</th>\n",
              "      <td>-0.460516</td>\n",
              "      <td>1.697282</td>\n",
              "    </tr>\n",
              "    <tr>\n",
              "      <th>4704</th>\n",
              "      <td>-0.645308</td>\n",
              "      <td>-0.752276</td>\n",
              "    </tr>\n",
              "    <tr>\n",
              "      <th>5226</th>\n",
              "      <td>0.014666</td>\n",
              "      <td>0.344733</td>\n",
              "    </tr>\n",
              "    <tr>\n",
              "      <th>9597</th>\n",
              "      <td>-0.460516</td>\n",
              "      <td>-0.442532</td>\n",
              "    </tr>\n",
              "    <tr>\n",
              "      <th>10695</th>\n",
              "      <td>-0.750904</td>\n",
              "      <td>0.404101</td>\n",
              "    </tr>\n",
              "    <tr>\n",
              "      <th>13626</th>\n",
              "      <td>2.654564</td>\n",
              "      <td>-0.976840</td>\n",
              "    </tr>\n",
              "    <tr>\n",
              "      <th>14355</th>\n",
              "      <td>-0.381319</td>\n",
              "      <td>1.547572</td>\n",
              "    </tr>\n",
              "    <tr>\n",
              "      <th>16120</th>\n",
              "      <td>-0.434117</td>\n",
              "      <td>-1.092994</td>\n",
              "    </tr>\n",
              "  </tbody>\n",
              "</table>\n",
              "</div>"
            ],
            "text/plain": [
              "            r_s       d_m\n",
              "1973   0.463449 -0.729045\n",
              "3414  -0.460516  1.697282\n",
              "4704  -0.645308 -0.752276\n",
              "5226   0.014666  0.344733\n",
              "9597  -0.460516 -0.442532\n",
              "10695 -0.750904  0.404101\n",
              "13626  2.654564 -0.976840\n",
              "14355 -0.381319  1.547572\n",
              "16120 -0.434117 -1.092994"
            ]
          },
          "metadata": {
            "tags": []
          },
          "execution_count": 57
        }
      ]
    },
    {
      "cell_type": "code",
      "metadata": {
        "colab": {
          "base_uri": "https://localhost:8080/"
        },
        "id": "x83TqsfWw2cR",
        "outputId": "6e514f1d-fb72-4e94-8009-660af3059948"
      },
      "source": [
        "pv = stats.ttest_ind(rsdm_data_stand['r_s'], rsdm_data_stand['d_m']).pvalue\n",
        "pv"
      ],
      "execution_count": null,
      "outputs": [
        {
          "output_type": "execute_result",
          "data": {
            "text/plain": [
              "0.9999999999999998"
            ]
          },
          "metadata": {
            "tags": []
          },
          "execution_count": 58
        }
      ]
    },
    {
      "cell_type": "code",
      "metadata": {
        "id": "opeSQXUDBMBJ"
      },
      "source": [
        "# 천만 이상 팔린 모든 게임이 특정 장르 때문에 많이 팔린 것이아닌 게임 자체가 재미있기 때문에 많은 매출을 기록한 것으로 볼 수 있다. "
      ],
      "execution_count": null,
      "outputs": []
    },
    {
      "cell_type": "code",
      "metadata": {
        "id": "gvyAdW4G1rF2"
      },
      "source": [
        "# 꾸준히 잘팔리는 장르의 게임을 찾아보자"
      ],
      "execution_count": null,
      "outputs": []
    },
    {
      "cell_type": "code",
      "metadata": {
        "colab": {
          "base_uri": "https://localhost:8080/",
          "height": 360
        },
        "id": "xKqCHIVh2ByA",
        "outputId": "c2fc047e-1567-4339-d23a-88552530d562"
      },
      "source": [
        "# 장르별 총 판매수를 구해보자\n",
        "pd.DataFrame({'Total_Sales' : data.groupby(['Genre'])['Total_Sales'].sum()}).sort_values(by=['Total_Sales'], ascending = False).plot.bar()"
      ],
      "execution_count": null,
      "outputs": [
        {
          "output_type": "execute_result",
          "data": {
            "text/plain": [
              "<matplotlib.axes._subplots.AxesSubplot at 0x7f90ca0565d0>"
            ]
          },
          "metadata": {
            "tags": []
          },
          "execution_count": 59
        },
        {
          "output_type": "display_data",
          "data": {
            "image/png": "[encoded data removed]",
            "text/plain": [
              "<Figure size 432x288 with 1 Axes>"
            ]
          },
          "metadata": {
            "tags": [],
            "needs_background": "light"
          }
        }
      ]
    },
    {
      "cell_type": "code",
      "metadata": {
        "colab": {
          "base_uri": "https://localhost:8080/",
          "height": 770
        },
        "id": "vc5aPPDBi97l",
        "outputId": "743c68de-fb00-4a6c-e5cc-27364e3949ba"
      },
      "source": [
        "#플랫폼 게임의 매출이 언제 부터 시작되는지\n",
        "data[data['Genre']=='Platform']"
      ],
      "execution_count": null,
      "outputs": [
        {
          "output_type": "execute_result",
          "data": {
            "text/html": [
              "<div>\n",
              "<style scoped>\n",
              "    .dataframe tbody tr th:only-of-type {\n",
              "        vertical-align: middle;\n",
              "    }\n",
              "\n",
              "    .dataframe tbody tr th {\n",
              "        vertical-align: top;\n",
              "    }\n",
              "\n",
              "    .dataframe thead th {\n",
              "        text-align: right;\n",
              "    }\n",
              "</style>\n",
              "<table border=\"1\" class=\"dataframe\">\n",
              "  <thead>\n",
              "    <tr style=\"text-align: right;\">\n",
              "      <th></th>\n",
              "      <th>Name</th>\n",
              "      <th>Platform</th>\n",
              "      <th>Year</th>\n",
              "      <th>Genre</th>\n",
              "      <th>Publisher</th>\n",
              "      <th>NA_Sales</th>\n",
              "      <th>EU_Sales</th>\n",
              "      <th>JP_Sales</th>\n",
              "      <th>Other_Sales</th>\n",
              "      <th>Total_Sales</th>\n",
              "    </tr>\n",
              "  </thead>\n",
              "  <tbody>\n",
              "    <tr>\n",
              "      <th>4</th>\n",
              "      <td>Ben 10 Ultimate Alien: Cosmic Destruction</td>\n",
              "      <td>PS3</td>\n",
              "      <td>2010</td>\n",
              "      <td>Platform</td>\n",
              "      <td>D3Publisher</td>\n",
              "      <td>120000.0</td>\n",
              "      <td>90000.0</td>\n",
              "      <td>0.0</td>\n",
              "      <td>40000.0</td>\n",
              "      <td>250000.0</td>\n",
              "    </tr>\n",
              "    <tr>\n",
              "      <th>20</th>\n",
              "      <td>Ty the Tasmanian Tiger</td>\n",
              "      <td>PS2</td>\n",
              "      <td>2002</td>\n",
              "      <td>Platform</td>\n",
              "      <td>Electronic Arts</td>\n",
              "      <td>570000.0</td>\n",
              "      <td>450000.0</td>\n",
              "      <td>0.0</td>\n",
              "      <td>150000.0</td>\n",
              "      <td>1170000.0</td>\n",
              "    </tr>\n",
              "    <tr>\n",
              "      <th>25</th>\n",
              "      <td>Dr. Muto</td>\n",
              "      <td>GC</td>\n",
              "      <td>2002</td>\n",
              "      <td>Platform</td>\n",
              "      <td>Midway Games</td>\n",
              "      <td>20000.0</td>\n",
              "      <td>10000.0</td>\n",
              "      <td>0.0</td>\n",
              "      <td>0.0</td>\n",
              "      <td>30000.0</td>\n",
              "    </tr>\n",
              "    <tr>\n",
              "      <th>28</th>\n",
              "      <td>Famicom Mini: Makaimura</td>\n",
              "      <td>GBA</td>\n",
              "      <td>2004</td>\n",
              "      <td>Platform</td>\n",
              "      <td>Capcom</td>\n",
              "      <td>0.0</td>\n",
              "      <td>0.0</td>\n",
              "      <td>80000.0</td>\n",
              "      <td>0.0</td>\n",
              "      <td>80000.0</td>\n",
              "    </tr>\n",
              "    <tr>\n",
              "      <th>33</th>\n",
              "      <td>Mega Man Anniversary Collection</td>\n",
              "      <td>PS2</td>\n",
              "      <td>2004</td>\n",
              "      <td>Platform</td>\n",
              "      <td>Capcom</td>\n",
              "      <td>290000.0</td>\n",
              "      <td>220000.0</td>\n",
              "      <td>0.0</td>\n",
              "      <td>80000.0</td>\n",
              "      <td>590000.0</td>\n",
              "    </tr>\n",
              "    <tr>\n",
              "      <th>...</th>\n",
              "      <td>...</td>\n",
              "      <td>...</td>\n",
              "      <td>...</td>\n",
              "      <td>...</td>\n",
              "      <td>...</td>\n",
              "      <td>...</td>\n",
              "      <td>...</td>\n",
              "      <td>...</td>\n",
              "      <td>...</td>\n",
              "      <td>...</td>\n",
              "    </tr>\n",
              "    <tr>\n",
              "      <th>16176</th>\n",
              "      <td>New Super Mario Bros. Wii</td>\n",
              "      <td>Wii</td>\n",
              "      <td>2009</td>\n",
              "      <td>Platform</td>\n",
              "      <td>Nintendo</td>\n",
              "      <td>14590000.0</td>\n",
              "      <td>7060000.0</td>\n",
              "      <td>4700000.0</td>\n",
              "      <td>2260000.0</td>\n",
              "      <td>28610000.0</td>\n",
              "    </tr>\n",
              "    <tr>\n",
              "      <th>16207</th>\n",
              "      <td>Wall-E</td>\n",
              "      <td>Wii</td>\n",
              "      <td>2008</td>\n",
              "      <td>Platform</td>\n",
              "      <td>THQ</td>\n",
              "      <td>510000.0</td>\n",
              "      <td>400000.0</td>\n",
              "      <td>0.0</td>\n",
              "      <td>110000.0</td>\n",
              "      <td>1020000.0</td>\n",
              "    </tr>\n",
              "    <tr>\n",
              "      <th>16222</th>\n",
              "      <td>Gex: Enter the Gecko</td>\n",
              "      <td>PS</td>\n",
              "      <td>1998</td>\n",
              "      <td>Platform</td>\n",
              "      <td>BMG Interactive Entertainment</td>\n",
              "      <td>320000.0</td>\n",
              "      <td>220000.0</td>\n",
              "      <td>0.0</td>\n",
              "      <td>40000.0</td>\n",
              "      <td>580000.0</td>\n",
              "    </tr>\n",
              "    <tr>\n",
              "      <th>16223</th>\n",
              "      <td>Super Ghouls 'n Ghosts</td>\n",
              "      <td>GBA</td>\n",
              "      <td>2002</td>\n",
              "      <td>Platform</td>\n",
              "      <td>Capcom</td>\n",
              "      <td>50000.0</td>\n",
              "      <td>20000.0</td>\n",
              "      <td>0.0</td>\n",
              "      <td>0.0</td>\n",
              "      <td>70000.0</td>\n",
              "    </tr>\n",
              "    <tr>\n",
              "      <th>16236</th>\n",
              "      <td>Ice Age 2: The Meltdown</td>\n",
              "      <td>GC</td>\n",
              "      <td>2006</td>\n",
              "      <td>Platform</td>\n",
              "      <td>Vivendi Games</td>\n",
              "      <td>150000.0</td>\n",
              "      <td>40000.0</td>\n",
              "      <td>0.0</td>\n",
              "      <td>10000.0</td>\n",
              "      <td>200000.0</td>\n",
              "    </tr>\n",
              "  </tbody>\n",
              "</table>\n",
              "<p>873 rows × 10 columns</p>\n",
              "</div>"
            ],
            "text/plain": [
              "                                            Name  ... Total_Sales\n",
              "4      Ben 10 Ultimate Alien: Cosmic Destruction  ...    250000.0\n",
              "20                        Ty the Tasmanian Tiger  ...   1170000.0\n",
              "25                                      Dr. Muto  ...     30000.0\n",
              "28                       Famicom Mini: Makaimura  ...     80000.0\n",
              "33               Mega Man Anniversary Collection  ...    590000.0\n",
              "...                                          ...  ...         ...\n",
              "16176                  New Super Mario Bros. Wii  ...  28610000.0\n",
              "16207                                     Wall-E  ...   1020000.0\n",
              "16222                       Gex: Enter the Gecko  ...    580000.0\n",
              "16223                     Super Ghouls 'n Ghosts  ...     70000.0\n",
              "16236                    Ice Age 2: The Meltdown  ...    200000.0\n",
              "\n",
              "[873 rows x 10 columns]"
            ]
          },
          "metadata": {
            "tags": []
          },
          "execution_count": 60
        }
      ]
    },
    {
      "cell_type": "code",
      "metadata": {
        "colab": {
          "base_uri": "https://localhost:8080/",
          "height": 325
        },
        "id": "z4v90i-cjVNV",
        "outputId": "ffd45235-a757-453f-bc4e-e70ff0cef35a"
      },
      "source": [
        "data[data['Genre']=='Platform'].groupby(['Year'])['Total_Sales'].sum().plot.bar()"
      ],
      "execution_count": null,
      "outputs": [
        {
          "output_type": "execute_result",
          "data": {
            "text/plain": [
              "<matplotlib.axes._subplots.AxesSubplot at 0x7f90bf7e9310>"
            ]
          },
          "metadata": {
            "tags": []
          },
          "execution_count": 61
        },
        {
          "output_type": "display_data",
          "data": {
            "image/png": "[encoded data removed]",
            "text/plain": [
              "<Figure size 432x288 with 1 Axes>"
            ]
          },
          "metadata": {
            "tags": [],
            "needs_background": "light"
          }
        }
      ]
    },
    {
      "cell_type": "code",
      "metadata": {
        "colab": {
          "base_uri": "https://localhost:8080/",
          "height": 325
        },
        "id": "gysAdco4mBrX",
        "outputId": "562341fe-cfeb-4a24-87db-f3d4cc4a17e1"
      },
      "source": [
        "data[data['Genre']=='Action'].groupby(['Year'])['Total_Sales'].sum().plot.bar()"
      ],
      "execution_count": null,
      "outputs": [
        {
          "output_type": "execute_result",
          "data": {
            "text/plain": [
              "<matplotlib.axes._subplots.AxesSubplot at 0x7f1d4c6dd090>"
            ]
          },
          "metadata": {
            "tags": []
          },
          "execution_count": 270
        },
        {
          "output_type": "display_data",
          "data": {
            "image/png": "[encoded data removed]",
            "text/plain": [
              "<Figure size 432x288 with 1 Axes>"
            ]
          },
          "metadata": {
            "tags": [],
            "needs_background": "light"
          }
        }
      ]
    },
    {
      "cell_type": "code",
      "metadata": {
        "colab": {
          "base_uri": "https://localhost:8080/",
          "height": 325
        },
        "id": "2CeNTNHqmNYH",
        "outputId": "e30491b9-901e-4a4a-f70d-5a784f007224"
      },
      "source": [
        "data[data['Genre']=='Shooter'].groupby(['Year'])['Total_Sales'].sum().plot.bar()"
      ],
      "execution_count": null,
      "outputs": [
        {
          "output_type": "execute_result",
          "data": {
            "text/plain": [
              "<matplotlib.axes._subplots.AxesSubplot at 0x7f1d4ba6e850>"
            ]
          },
          "metadata": {
            "tags": []
          },
          "execution_count": 271
        },
        {
          "output_type": "display_data",
          "data": {
            "image/png": "[encoded data removed]",
            "text/plain": [
              "<Figure size 432x288 with 1 Axes>"
            ]
          },
          "metadata": {
            "tags": [],
            "needs_background": "light"
          }
        }
      ]
    },
    {
      "cell_type": "code",
      "metadata": {
        "colab": {
          "base_uri": "https://localhost:8080/",
          "height": 325
        },
        "id": "n2lPrtinmSpP",
        "outputId": "c92bab06-95a1-457c-f5b2-2615b46d40e9"
      },
      "source": [
        "data[data['Genre']=='Sports'].groupby(['Year'])['Total_Sales'].sum().plot.bar()"
      ],
      "execution_count": null,
      "outputs": [
        {
          "output_type": "execute_result",
          "data": {
            "text/plain": [
              "<matplotlib.axes._subplots.AxesSubplot at 0x7f1d4b9888d0>"
            ]
          },
          "metadata": {
            "tags": []
          },
          "execution_count": 272
        },
        {
          "output_type": "display_data",
          "data": {
            "image/png": "[encoded data removed]",
            "text/plain": [
              "<Figure size 432x288 with 1 Axes>"
            ]
          },
          "metadata": {
            "tags": [],
            "needs_background": "light"
          }
        }
      ]
    },
    {
      "cell_type": "code",
      "metadata": {
        "id": "Qb0fPjJR6UCE"
      },
      "source": [
        "data['num'] =1"
      ],
      "execution_count": null,
      "outputs": []
    },
    {
      "cell_type": "code",
      "metadata": {
        "id": "_zkKW4LHLD3y"
      },
      "source": [
        "#플랫폼과 게임 매출의 관계성"
      ],
      "execution_count": null,
      "outputs": []
    },
    {
      "cell_type": "code",
      "metadata": {
        "id": "JW5fjGrNSI4m"
      },
      "source": [
        "data[data['Year']>2000]"
      ],
      "execution_count": null,
      "outputs": []
    },
    {
      "cell_type": "code",
      "metadata": {
        "colab": {
          "base_uri": "https://localhost:8080/",
          "height": 422
        },
        "id": "0uPYJYn0R0TP",
        "outputId": "1f0c5196-a748-440c-e5e5-fff9905fe753"
      },
      "source": [
        "data[data['Year']>2000][['Platform','Total_Sales']]"
      ],
      "execution_count": null,
      "outputs": [
        {
          "output_type": "execute_result",
          "data": {
            "text/html": [
              "<div>\n",
              "<style scoped>\n",
              "    .dataframe tbody tr th:only-of-type {\n",
              "        vertical-align: middle;\n",
              "    }\n",
              "\n",
              "    .dataframe tbody tr th {\n",
              "        vertical-align: top;\n",
              "    }\n",
              "\n",
              "    .dataframe thead th {\n",
              "        text-align: right;\n",
              "    }\n",
              "</style>\n",
              "<table border=\"1\" class=\"dataframe\">\n",
              "  <thead>\n",
              "    <tr style=\"text-align: right;\">\n",
              "      <th></th>\n",
              "      <th>Platform</th>\n",
              "      <th>Total_Sales</th>\n",
              "    </tr>\n",
              "  </thead>\n",
              "  <tbody>\n",
              "    <tr>\n",
              "      <th>0</th>\n",
              "      <td>DS</td>\n",
              "      <td>40000.0</td>\n",
              "    </tr>\n",
              "    <tr>\n",
              "      <th>1</th>\n",
              "      <td>Wii</td>\n",
              "      <td>180000.0</td>\n",
              "    </tr>\n",
              "    <tr>\n",
              "      <th>2</th>\n",
              "      <td>PSP</td>\n",
              "      <td>20000.0</td>\n",
              "    </tr>\n",
              "    <tr>\n",
              "      <th>3</th>\n",
              "      <td>DS</td>\n",
              "      <td>40000.0</td>\n",
              "    </tr>\n",
              "    <tr>\n",
              "      <th>4</th>\n",
              "      <td>PS3</td>\n",
              "      <td>250000.0</td>\n",
              "    </tr>\n",
              "    <tr>\n",
              "      <th>...</th>\n",
              "      <td>...</td>\n",
              "      <td>...</td>\n",
              "    </tr>\n",
              "    <tr>\n",
              "      <th>16235</th>\n",
              "      <td>PSP</td>\n",
              "      <td>20000.0</td>\n",
              "    </tr>\n",
              "    <tr>\n",
              "      <th>16236</th>\n",
              "      <td>GC</td>\n",
              "      <td>200000.0</td>\n",
              "    </tr>\n",
              "    <tr>\n",
              "      <th>16237</th>\n",
              "      <td>PSP</td>\n",
              "      <td>10000.0</td>\n",
              "    </tr>\n",
              "    <tr>\n",
              "      <th>16238</th>\n",
              "      <td>PS3</td>\n",
              "      <td>790000.0</td>\n",
              "    </tr>\n",
              "    <tr>\n",
              "      <th>16239</th>\n",
              "      <td>PSV</td>\n",
              "      <td>380000.0</td>\n",
              "    </tr>\n",
              "  </tbody>\n",
              "</table>\n",
              "<p>13925 rows × 2 columns</p>\n",
              "</div>"
            ],
            "text/plain": [
              "      Platform  Total_Sales\n",
              "0           DS      40000.0\n",
              "1          Wii     180000.0\n",
              "2          PSP      20000.0\n",
              "3           DS      40000.0\n",
              "4          PS3     250000.0\n",
              "...        ...          ...\n",
              "16235      PSP      20000.0\n",
              "16236       GC     200000.0\n",
              "16237      PSP      10000.0\n",
              "16238      PS3     790000.0\n",
              "16239      PSV     380000.0\n",
              "\n",
              "[13925 rows x 2 columns]"
            ]
          },
          "metadata": {
            "tags": []
          },
          "execution_count": 115
        }
      ]
    },
    {
      "cell_type": "code",
      "metadata": {
        "colab": {
          "base_uri": "https://localhost:8080/",
          "height": 112
        },
        "id": "TYgdP0KZSira",
        "outputId": "6b232b9f-f10e-43db-9014-af1669894b82"
      },
      "source": [
        "model = ols('Total_Sales ~ C(Platform)', data = data[data['Year']>2010][['Platform','Total_Sales']]).fit()\n",
        "anova_table = sm.stats.anova_lm(model, type =2)\n",
        "anova_table"
      ],
      "execution_count": null,
      "outputs": [
        {
          "output_type": "execute_result",
          "data": {
            "text/html": [
              "<div>\n",
              "<style scoped>\n",
              "    .dataframe tbody tr th:only-of-type {\n",
              "        vertical-align: middle;\n",
              "    }\n",
              "\n",
              "    .dataframe tbody tr th {\n",
              "        vertical-align: top;\n",
              "    }\n",
              "\n",
              "    .dataframe thead th {\n",
              "        text-align: right;\n",
              "    }\n",
              "</style>\n",
              "<table border=\"1\" class=\"dataframe\">\n",
              "  <thead>\n",
              "    <tr style=\"text-align: right;\">\n",
              "      <th></th>\n",
              "      <th>df</th>\n",
              "      <th>sum_sq</th>\n",
              "      <th>mean_sq</th>\n",
              "      <th>F</th>\n",
              "      <th>PR(&gt;F)</th>\n",
              "    </tr>\n",
              "  </thead>\n",
              "  <tbody>\n",
              "    <tr>\n",
              "      <th>C(Platform)</th>\n",
              "      <td>11.0</td>\n",
              "      <td>2.331302e+14</td>\n",
              "      <td>2.119365e+13</td>\n",
              "      <td>15.157186</td>\n",
              "      <td>2.664942e-29</td>\n",
              "    </tr>\n",
              "    <tr>\n",
              "      <th>Residual</th>\n",
              "      <td>3855.0</td>\n",
              "      <td>5.390283e+15</td>\n",
              "      <td>1.398258e+12</td>\n",
              "      <td>NaN</td>\n",
              "      <td>NaN</td>\n",
              "    </tr>\n",
              "  </tbody>\n",
              "</table>\n",
              "</div>"
            ],
            "text/plain": [
              "                 df        sum_sq       mean_sq          F        PR(>F)\n",
              "C(Platform)    11.0  2.331302e+14  2.119365e+13  15.157186  2.664942e-29\n",
              "Residual     3855.0  5.390283e+15  1.398258e+12        NaN           NaN"
            ]
          },
          "metadata": {
            "tags": []
          },
          "execution_count": 151
        }
      ]
    },
    {
      "cell_type": "code",
      "metadata": {
        "colab": {
          "base_uri": "https://localhost:8080/",
          "height": 112
        },
        "id": "iVGJ6cM8ZbFb",
        "outputId": "50e477db-119a-4ad6-ebe6-8490dbebba8a"
      },
      "source": [
        "model = ols('Total_Sales ~ C(Platform)', data = data[data['Year']<2000][['Platform','Total_Sales']]).fit()\n",
        "anova_table = sm.stats.anova_lm(model, type =2)\n",
        "anova_table"
      ],
      "execution_count": null,
      "outputs": [
        {
          "output_type": "execute_result",
          "data": {
            "text/html": [
              "<div>\n",
              "<style scoped>\n",
              "    .dataframe tbody tr th:only-of-type {\n",
              "        vertical-align: middle;\n",
              "    }\n",
              "\n",
              "    .dataframe tbody tr th {\n",
              "        vertical-align: top;\n",
              "    }\n",
              "\n",
              "    .dataframe thead th {\n",
              "        text-align: right;\n",
              "    }\n",
              "</style>\n",
              "<table border=\"1\" class=\"dataframe\">\n",
              "  <thead>\n",
              "    <tr style=\"text-align: right;\">\n",
              "      <th></th>\n",
              "      <th>df</th>\n",
              "      <th>sum_sq</th>\n",
              "      <th>mean_sq</th>\n",
              "      <th>F</th>\n",
              "      <th>PR(&gt;F)</th>\n",
              "    </tr>\n",
              "  </thead>\n",
              "  <tbody>\n",
              "    <tr>\n",
              "      <th>C(Platform)</th>\n",
              "      <td>17.0</td>\n",
              "      <td>8.250027e+14</td>\n",
              "      <td>4.852957e+13</td>\n",
              "      <td>11.937845</td>\n",
              "      <td>5.034676e-32</td>\n",
              "    </tr>\n",
              "    <tr>\n",
              "      <th>Residual</th>\n",
              "      <td>1950.0</td>\n",
              "      <td>7.927114e+15</td>\n",
              "      <td>4.065187e+12</td>\n",
              "      <td>NaN</td>\n",
              "      <td>NaN</td>\n",
              "    </tr>\n",
              "  </tbody>\n",
              "</table>\n",
              "</div>"
            ],
            "text/plain": [
              "                 df        sum_sq       mean_sq          F        PR(>F)\n",
              "C(Platform)    17.0  8.250027e+14  4.852957e+13  11.937845  5.034676e-32\n",
              "Residual     1950.0  7.927114e+15  4.065187e+12        NaN           NaN"
            ]
          },
          "metadata": {
            "tags": []
          },
          "execution_count": 163
        }
      ]
    },
    {
      "cell_type": "code",
      "metadata": {
        "colab": {
          "base_uri": "https://localhost:8080/",
          "height": 112
        },
        "id": "NyWF8r59hwko",
        "outputId": "b47461db-62f4-4543-f2be-4408324b0402"
      },
      "source": [
        "#연도와 플랫폼의 연관성\n",
        "model = ols('Year ~ C(Platform)', data = data[data['Year']<2000][['Platform','Year']]).fit()\n",
        "anova_table = sm.stats.anova_lm(model, type =2)\n",
        "anova_table"
      ],
      "execution_count": null,
      "outputs": [
        {
          "output_type": "execute_result",
          "data": {
            "text/html": [
              "<div>\n",
              "<style scoped>\n",
              "    .dataframe tbody tr th:only-of-type {\n",
              "        vertical-align: middle;\n",
              "    }\n",
              "\n",
              "    .dataframe tbody tr th {\n",
              "        vertical-align: top;\n",
              "    }\n",
              "\n",
              "    .dataframe thead th {\n",
              "        text-align: right;\n",
              "    }\n",
              "</style>\n",
              "<table border=\"1\" class=\"dataframe\">\n",
              "  <thead>\n",
              "    <tr style=\"text-align: right;\">\n",
              "      <th></th>\n",
              "      <th>df</th>\n",
              "      <th>sum_sq</th>\n",
              "      <th>mean_sq</th>\n",
              "      <th>F</th>\n",
              "      <th>PR(&gt;F)</th>\n",
              "    </tr>\n",
              "  </thead>\n",
              "  <tbody>\n",
              "    <tr>\n",
              "      <th>C(Platform)</th>\n",
              "      <td>17.0</td>\n",
              "      <td>32943.593159</td>\n",
              "      <td>1937.858421</td>\n",
              "      <td>692.107773</td>\n",
              "      <td>0.0</td>\n",
              "    </tr>\n",
              "    <tr>\n",
              "      <th>Residual</th>\n",
              "      <td>1950.0</td>\n",
              "      <td>5459.877878</td>\n",
              "      <td>2.799937</td>\n",
              "      <td>NaN</td>\n",
              "      <td>NaN</td>\n",
              "    </tr>\n",
              "  </tbody>\n",
              "</table>\n",
              "</div>"
            ],
            "text/plain": [
              "                 df        sum_sq      mean_sq           F  PR(>F)\n",
              "C(Platform)    17.0  32943.593159  1937.858421  692.107773     0.0\n",
              "Residual     1950.0   5459.877878     2.799937         NaN     NaN"
            ]
          },
          "metadata": {
            "tags": []
          },
          "execution_count": 193
        }
      ]
    },
    {
      "cell_type": "code",
      "metadata": {
        "colab": {
          "base_uri": "https://localhost:8080/"
        },
        "id": "uMfFLKkwjBtT",
        "outputId": "6098453d-c60a-4255-f504-227318d4a416"
      },
      "source": [
        "obs_0= pd.crosstab(data['Genre'], data['Platform'])\n",
        "print(chi2_contingency(obs_0,correction = False))"
      ],
      "execution_count": null,
      "outputs": [
        {
          "output_type": "stream",
          "text": [
            "(5820.019068400998, 0.0, 330, array([[2.29419371e+01, 5.98485315e-01, 9.93485623e+01, 1.03737455e+01,\n",
            "        4.24326088e+02, 1.93510252e+01, 1.56404162e+02, 1.07926852e+02,\n",
            "        5.38636783e+00, 1.99495105e-01, 6.24419679e+01, 1.95505203e+01,\n",
            "        2.39394126e+00, 1.86527923e+02, 1.99495105e-01, 2.36401699e+02,\n",
            "        4.23129118e+02, 2.59144141e+02, 6.68308602e+01, 2.37997660e+02,\n",
            "        8.15934979e+01, 3.45126532e+01, 1.19697063e+00, 4.76793301e+01,\n",
            "        3.98990210e-01, 1.19697063e+00, 2.56151715e+02, 2.85278000e+01,\n",
            "        2.45578474e+02, 1.59396589e+02, 4.22929623e+01],\n",
            "       [8.97851118e+00, 2.34222031e-01, 3.88808571e+01, 4.05984853e+00,\n",
            "        1.66063420e+02, 7.57317899e+00, 6.12100240e+01, 4.22380395e+01,\n",
            "        2.10799828e+00, 7.80740102e-02, 2.44371652e+01, 7.65125300e+00,\n",
            "        9.36888123e-01, 7.29991996e+01, 7.80740102e-02, 9.25177021e+01,\n",
            "        1.65594976e+02, 1.01418139e+02, 2.61547934e+01, 9.31422942e+01,\n",
            "        3.19322702e+01, 1.35068038e+01, 4.68444061e-01, 1.86596884e+01,\n",
            "        1.56148020e-01, 4.68444061e-01, 1.00247029e+02, 1.11645835e+01,\n",
            "        9.61091066e+01, 6.23811342e+01, 1.65516902e+01],\n",
            "       [5.91250539e+00, 1.54239271e-01, 2.56037190e+01, 2.67348070e+00,\n",
            "        1.09355643e+02, 4.98706976e+00, 4.03078628e+01, 2.78144819e+01,\n",
            "        1.38815344e+00, 5.14130903e-02, 1.60922973e+01, 5.03848285e+00,\n",
            "        6.16957084e-01, 4.80712395e+01, 5.14130903e-02, 6.09245120e+01,\n",
            "        1.09047165e+02, 6.67856043e+01, 1.72233853e+01, 6.13358168e+01,\n",
            "        2.10279539e+01, 8.89446463e+00, 3.08478542e-01, 1.22877286e+01,\n",
            "        1.02826181e-01, 3.08478542e-01, 6.60144080e+01, 7.35207192e+00,\n",
            "        6.32895142e+01, 4.10790592e+01, 1.08995751e+01],\n",
            "       [1.19029001e+01, 3.10510437e-01, 5.15447325e+01, 5.38218090e+00,\n",
            "        2.20151900e+02, 1.00398374e+01, 8.11467274e+01, 5.59953821e+01,\n",
            "        2.79459393e+00, 1.03503479e-01, 3.23965889e+01, 1.01433409e+01,\n",
            "        1.24204175e+00, 9.67757527e+01, 1.03503479e-01, 1.22651622e+02,\n",
            "        2.19530879e+02, 1.34451019e+02, 3.46736654e+01, 1.23479650e+02,\n",
            "        4.23329228e+01, 1.79061018e+01, 6.21020873e-01, 2.47373314e+01,\n",
            "        2.07006958e-01, 6.21020873e-01, 1.32898467e+02, 1.48009975e+01,\n",
            "        1.27412782e+02, 8.26992796e+01, 2.19427375e+01],\n",
            "       [6.18157749e+00, 1.61258543e-01, 2.67689182e+01, 2.79514808e+00,\n",
            "        1.14332307e+02, 5.21402623e+00, 4.21422326e+01, 2.90802906e+01,\n",
            "        1.45132689e+00, 5.37528477e-02, 1.68246413e+01, 5.26777908e+00,\n",
            "        6.45034173e-01, 5.02589126e+01, 5.37528477e-02, 6.36971246e+01,\n",
            "        1.14009790e+02, 6.98249492e+01, 1.80072040e+01, 6.41271473e+01,\n",
            "        2.19849147e+01, 9.29924266e+00, 3.22517086e-01, 1.28469306e+01,\n",
            "        1.07505695e-01, 3.22517086e-01, 6.90186565e+01, 7.68665723e+00,\n",
            "        6.61697556e+01, 4.29485253e+01, 1.13956037e+01],\n",
            "       [4.00775814e+00, 1.04550212e-01, 1.73553353e+01, 1.81220368e+00,\n",
            "        7.41261006e+01, 3.38045687e+00, 2.73224555e+01, 1.88538883e+01,\n",
            "        9.40951912e-01, 3.48500708e-02, 1.09080722e+01, 3.41530694e+00,\n",
            "        4.18200850e-01, 3.25848162e+01, 3.48500708e-02, 4.12973339e+01,\n",
            "        7.39170002e+01, 4.52702420e+01, 1.16747737e+01, 4.15761345e+01,\n",
            "        1.42536790e+01, 6.02906225e+00, 2.09100425e-01, 8.32916692e+00,\n",
            "        6.97001416e-02, 2.09100425e-01, 4.47474909e+01, 4.98356013e+00,\n",
            "        4.29004372e+01, 2.78452066e+01, 7.38821501e+00],\n",
            "       [8.63154978e+00, 2.25170864e-01, 3.73783634e+01, 3.90296164e+00,\n",
            "        1.59646142e+02, 7.28052460e+00, 5.88446524e+01, 4.06058124e+01,\n",
            "        2.02653777e+00, 7.50569546e-02, 2.34928268e+01, 7.35558155e+00,\n",
            "        9.00683455e-01, 7.01782526e+01, 7.50569546e-02, 8.89424912e+01,\n",
            "        1.59195801e+02, 9.74989841e+01, 2.51440798e+01, 8.95429469e+01,\n",
            "        3.06982944e+01, 1.29848531e+01, 4.50341728e-01, 1.79386122e+01,\n",
            "        1.50113909e-01, 4.50341728e-01, 9.63731297e+01, 1.07331445e+01,\n",
            "        9.23951111e+01, 5.99705067e+01, 1.59120744e+01],\n",
            "       [1.03734376e+01, 2.70611416e-01, 4.49214950e+01, 4.69059787e+00,\n",
            "        1.91863494e+02, 8.74976910e+00, 7.07197833e+01, 4.88002586e+01,\n",
            "        2.43550274e+00, 9.02038052e-02, 2.82337910e+01, 8.83997291e+00,\n",
            "        1.08244566e+00, 8.43405578e+01, 9.02038052e-02, 1.06891509e+02,\n",
            "        1.91322271e+02, 1.17174743e+02, 3.02182747e+01, 1.07613140e+02,\n",
            "        3.68933563e+01, 1.56052583e+01, 5.41222831e-01, 2.15587094e+01,\n",
            "        1.80407610e-01, 5.41222831e-01, 1.15821686e+02, 1.28991441e+01,\n",
            "        1.11040884e+02, 7.20728403e+01, 1.91232067e+01],\n",
            "       [9.06348131e+00, 2.36438643e-01, 3.92488147e+01, 4.09826981e+00,\n",
            "        1.67634998e+02, 7.64484946e+00, 6.17892987e+01, 4.26377686e+01,\n",
            "        2.12794779e+00, 7.88128810e-02, 2.46684317e+01, 7.72366234e+00,\n",
            "        9.45754572e-01, 7.36900437e+01, 7.88128810e-02, 9.33932640e+01,\n",
            "        1.67162121e+02, 1.02377932e+02, 2.64023151e+01, 9.40237670e+01,\n",
            "        3.22344683e+01, 1.36346284e+01, 4.72877286e-01, 1.88362786e+01,\n",
            "        1.57625762e-01, 4.72877286e-01, 1.01195739e+02, 1.12702420e+01,\n",
            "        9.70186565e+01, 6.29714919e+01, 1.67083308e+01],\n",
            "       [5.99039468e+00, 1.56271166e-01, 2.59410135e+01, 2.70870020e+00,\n",
            "        1.10796256e+02, 5.05276769e+00, 4.08388646e+01, 2.81809002e+01,\n",
            "        1.40644049e+00, 5.20903885e-02, 1.63042916e+01, 5.10485808e+00,\n",
            "        6.25084662e-01, 4.87045133e+01, 5.20903885e-02, 6.17271104e+01,\n",
            "        1.10483714e+02, 6.76654147e+01, 1.74502802e+01, 6.21438335e+01,\n",
            "        2.13049689e+01, 9.01163721e+00, 3.12542331e-01, 1.24496029e+01,\n",
            "        1.04180777e-01, 3.12542331e-01, 6.68840589e+01, 7.44892556e+00,\n",
            "        6.41232683e+01, 4.16202204e+01, 1.10431624e+01],\n",
            "       [1.62788621e+01, 4.24665969e-01, 7.04945508e+01, 7.36087679e+00,\n",
            "        3.01088172e+02, 1.37308663e+01, 1.10979373e+02, 7.65814297e+01,\n",
            "        3.82199372e+00, 1.41555323e-01, 4.43068161e+01, 1.38724216e+01,\n",
            "        1.69866388e+00, 1.32354227e+02, 1.41555323e-01, 1.67743058e+02,\n",
            "        3.00238840e+02, 1.83880365e+02, 4.74210332e+01, 1.68875500e+02,\n",
            "        5.78961271e+01, 2.44890709e+01, 8.49331938e-01, 3.38317222e+01,\n",
            "        2.83110646e-01, 8.49331938e-01, 1.81757035e+02, 2.02424112e+01,\n",
            "        1.74254603e+02, 1.13102703e+02, 3.00097285e+01],\n",
            "       [4.73708515e+00, 1.23576134e-01, 2.05136383e+01, 2.14198633e+00,\n",
            "        8.76154793e+01, 3.99562835e+00, 3.22945631e+01, 2.22848963e+01,\n",
            "        1.11218521e+00, 4.11920448e-02, 1.28931100e+01, 4.03682039e+00,\n",
            "        4.94304538e-01, 3.85145619e+01, 4.11920448e-02, 4.88125731e+01,\n",
            "        8.73683271e+01, 5.35084662e+01, 1.37993350e+01, 4.91421095e+01,\n",
            "        1.68475463e+01, 7.12622375e+00, 2.47152269e-01, 9.84489871e+00,\n",
            "        8.23840896e-02, 2.47152269e-01, 5.28905856e+01, 5.89046241e+00,\n",
            "        5.07074072e+01, 3.29124438e+01, 8.73271350e+00]]))\n"
          ],
          "name": "stdout"
        }
      ]
    },
    {
      "cell_type": "code",
      "metadata": {
        "colab": {
          "base_uri": "https://localhost:8080/",
          "height": 874
        },
        "id": "WW8P6tkxUJtl",
        "outputId": "d654ae90-4a71-4f8c-9f93-31b9412c5335"
      },
      "source": [
        "data_GA = data[(data['Genre']=='Action')]\n",
        "data_GA"
      ],
      "execution_count": null,
      "outputs": [
        {
          "output_type": "execute_result",
          "data": {
            "text/html": [
              "<div>\n",
              "<style scoped>\n",
              "    .dataframe tbody tr th:only-of-type {\n",
              "        vertical-align: middle;\n",
              "    }\n",
              "\n",
              "    .dataframe tbody tr th {\n",
              "        vertical-align: top;\n",
              "    }\n",
              "\n",
              "    .dataframe thead th {\n",
              "        text-align: right;\n",
              "    }\n",
              "</style>\n",
              "<table border=\"1\" class=\"dataframe\">\n",
              "  <thead>\n",
              "    <tr style=\"text-align: right;\">\n",
              "      <th></th>\n",
              "      <th>Name</th>\n",
              "      <th>Platform</th>\n",
              "      <th>Year</th>\n",
              "      <th>Genre</th>\n",
              "      <th>Publisher</th>\n",
              "      <th>NA_Sales</th>\n",
              "      <th>EU_Sales</th>\n",
              "      <th>JP_Sales</th>\n",
              "      <th>Other_Sales</th>\n",
              "      <th>Total_Sales</th>\n",
              "      <th>num</th>\n",
              "    </tr>\n",
              "  </thead>\n",
              "  <tbody>\n",
              "    <tr>\n",
              "      <th>0</th>\n",
              "      <td>Candace Kane's Candy Factory</td>\n",
              "      <td>DS</td>\n",
              "      <td>2008</td>\n",
              "      <td>Action</td>\n",
              "      <td>Destineer</td>\n",
              "      <td>40000.0</td>\n",
              "      <td>0.0</td>\n",
              "      <td>0.0</td>\n",
              "      <td>0.0</td>\n",
              "      <td>40000.0</td>\n",
              "      <td>1</td>\n",
              "    </tr>\n",
              "    <tr>\n",
              "      <th>1</th>\n",
              "      <td>The Munchables</td>\n",
              "      <td>Wii</td>\n",
              "      <td>2009</td>\n",
              "      <td>Action</td>\n",
              "      <td>Namco Bandai Games</td>\n",
              "      <td>170000.0</td>\n",
              "      <td>0.0</td>\n",
              "      <td>0.0</td>\n",
              "      <td>10000.0</td>\n",
              "      <td>180000.0</td>\n",
              "      <td>1</td>\n",
              "    </tr>\n",
              "    <tr>\n",
              "      <th>7</th>\n",
              "      <td>Samurai Warriors: State of War</td>\n",
              "      <td>PSP</td>\n",
              "      <td>2005</td>\n",
              "      <td>Action</td>\n",
              "      <td>Tecmo Koei</td>\n",
              "      <td>70000.0</td>\n",
              "      <td>0.0</td>\n",
              "      <td>110000.0</td>\n",
              "      <td>10000.0</td>\n",
              "      <td>190000.0</td>\n",
              "      <td>1</td>\n",
              "    </tr>\n",
              "    <tr>\n",
              "      <th>9</th>\n",
              "      <td>The Penguins of Madagascar: Dr. Blowhole Retur...</td>\n",
              "      <td>PS3</td>\n",
              "      <td>2011</td>\n",
              "      <td>Action</td>\n",
              "      <td>THQ</td>\n",
              "      <td>40000.0</td>\n",
              "      <td>30000.0</td>\n",
              "      <td>0.0</td>\n",
              "      <td>10000.0</td>\n",
              "      <td>80000.0</td>\n",
              "      <td>1</td>\n",
              "    </tr>\n",
              "    <tr>\n",
              "      <th>15</th>\n",
              "      <td>Mini Ninjas</td>\n",
              "      <td>PS3</td>\n",
              "      <td>2009</td>\n",
              "      <td>Action</td>\n",
              "      <td>Eidos Interactive</td>\n",
              "      <td>140000.0</td>\n",
              "      <td>160000.0</td>\n",
              "      <td>0.0</td>\n",
              "      <td>60000.0</td>\n",
              "      <td>360000.0</td>\n",
              "      <td>1</td>\n",
              "    </tr>\n",
              "    <tr>\n",
              "      <th>...</th>\n",
              "      <td>...</td>\n",
              "      <td>...</td>\n",
              "      <td>...</td>\n",
              "      <td>...</td>\n",
              "      <td>...</td>\n",
              "      <td>...</td>\n",
              "      <td>...</td>\n",
              "      <td>...</td>\n",
              "      <td>...</td>\n",
              "      <td>...</td>\n",
              "      <td>...</td>\n",
              "    </tr>\n",
              "    <tr>\n",
              "      <th>16219</th>\n",
              "      <td>Grand Theft Auto V</td>\n",
              "      <td>PC</td>\n",
              "      <td>2015</td>\n",
              "      <td>Action</td>\n",
              "      <td>Take-Two Interactive</td>\n",
              "      <td>360000.0</td>\n",
              "      <td>640000.0</td>\n",
              "      <td>0.0</td>\n",
              "      <td>80000.0</td>\n",
              "      <td>1080000.0</td>\n",
              "      <td>1</td>\n",
              "    </tr>\n",
              "    <tr>\n",
              "      <th>16225</th>\n",
              "      <td>LEGO The Hobbit</td>\n",
              "      <td>XOne</td>\n",
              "      <td>2014</td>\n",
              "      <td>Action</td>\n",
              "      <td>Warner Bros. Interactive Entertainment</td>\n",
              "      <td>130000.0</td>\n",
              "      <td>120000.0</td>\n",
              "      <td>0.0</td>\n",
              "      <td>20000.0</td>\n",
              "      <td>270000.0</td>\n",
              "      <td>1</td>\n",
              "    </tr>\n",
              "    <tr>\n",
              "      <th>16227</th>\n",
              "      <td>LEGO Indiana Jones 2: The Adventure Continues</td>\n",
              "      <td>Wii</td>\n",
              "      <td>2009</td>\n",
              "      <td>Action</td>\n",
              "      <td>Activision</td>\n",
              "      <td>910000.0</td>\n",
              "      <td>390000.0</td>\n",
              "      <td>0.0</td>\n",
              "      <td>130000.0</td>\n",
              "      <td>1430000.0</td>\n",
              "      <td>1</td>\n",
              "    </tr>\n",
              "    <tr>\n",
              "      <th>16237</th>\n",
              "      <td>Rainbow Islands: Revolution</td>\n",
              "      <td>PSP</td>\n",
              "      <td>2005</td>\n",
              "      <td>Action</td>\n",
              "      <td>Rising Star Games</td>\n",
              "      <td>10000.0</td>\n",
              "      <td>0.0</td>\n",
              "      <td>0.0</td>\n",
              "      <td>0.0</td>\n",
              "      <td>10000.0</td>\n",
              "      <td>1</td>\n",
              "    </tr>\n",
              "    <tr>\n",
              "      <th>16239</th>\n",
              "      <td>Toukiden: The Age of Demons</td>\n",
              "      <td>PSV</td>\n",
              "      <td>2013</td>\n",
              "      <td>Action</td>\n",
              "      <td>Tecmo Koei</td>\n",
              "      <td>50000.0</td>\n",
              "      <td>50000.0</td>\n",
              "      <td>250000.0</td>\n",
              "      <td>30000.0</td>\n",
              "      <td>380000.0</td>\n",
              "      <td>1</td>\n",
              "    </tr>\n",
              "  </tbody>\n",
              "</table>\n",
              "<p>3240 rows × 11 columns</p>\n",
              "</div>"
            ],
            "text/plain": [
              "                                                    Name  ... num\n",
              "0                           Candace Kane's Candy Factory  ...   1\n",
              "1                                         The Munchables  ...   1\n",
              "7                         Samurai Warriors: State of War  ...   1\n",
              "9      The Penguins of Madagascar: Dr. Blowhole Retur...  ...   1\n",
              "15                                           Mini Ninjas  ...   1\n",
              "...                                                  ...  ...  ..\n",
              "16219                                 Grand Theft Auto V  ...   1\n",
              "16225                                    LEGO The Hobbit  ...   1\n",
              "16227      LEGO Indiana Jones 2: The Adventure Continues  ...   1\n",
              "16237                        Rainbow Islands: Revolution  ...   1\n",
              "16239                        Toukiden: The Age of Demons  ...   1\n",
              "\n",
              "[3240 rows x 11 columns]"
            ]
          },
          "metadata": {
            "tags": []
          },
          "execution_count": 145
        }
      ]
    },
    {
      "cell_type": "code",
      "metadata": {
        "colab": {
          "base_uri": "https://localhost:8080/",
          "height": 874
        },
        "id": "S_5SNpRHU4Ro",
        "outputId": "e3b8ff1e-4541-4531-dd19-7fa8e168fe17"
      },
      "source": [
        "data_GA[data_GA['Year']>2000]"
      ],
      "execution_count": null,
      "outputs": [
        {
          "output_type": "execute_result",
          "data": {
            "text/html": [
              "<div>\n",
              "<style scoped>\n",
              "    .dataframe tbody tr th:only-of-type {\n",
              "        vertical-align: middle;\n",
              "    }\n",
              "\n",
              "    .dataframe tbody tr th {\n",
              "        vertical-align: top;\n",
              "    }\n",
              "\n",
              "    .dataframe thead th {\n",
              "        text-align: right;\n",
              "    }\n",
              "</style>\n",
              "<table border=\"1\" class=\"dataframe\">\n",
              "  <thead>\n",
              "    <tr style=\"text-align: right;\">\n",
              "      <th></th>\n",
              "      <th>Name</th>\n",
              "      <th>Platform</th>\n",
              "      <th>Year</th>\n",
              "      <th>Genre</th>\n",
              "      <th>Publisher</th>\n",
              "      <th>NA_Sales</th>\n",
              "      <th>EU_Sales</th>\n",
              "      <th>JP_Sales</th>\n",
              "      <th>Other_Sales</th>\n",
              "      <th>Total_Sales</th>\n",
              "      <th>num</th>\n",
              "    </tr>\n",
              "  </thead>\n",
              "  <tbody>\n",
              "    <tr>\n",
              "      <th>0</th>\n",
              "      <td>Candace Kane's Candy Factory</td>\n",
              "      <td>DS</td>\n",
              "      <td>2008</td>\n",
              "      <td>Action</td>\n",
              "      <td>Destineer</td>\n",
              "      <td>40000.0</td>\n",
              "      <td>0.0</td>\n",
              "      <td>0.0</td>\n",
              "      <td>0.0</td>\n",
              "      <td>40000.0</td>\n",
              "      <td>1</td>\n",
              "    </tr>\n",
              "    <tr>\n",
              "      <th>1</th>\n",
              "      <td>The Munchables</td>\n",
              "      <td>Wii</td>\n",
              "      <td>2009</td>\n",
              "      <td>Action</td>\n",
              "      <td>Namco Bandai Games</td>\n",
              "      <td>170000.0</td>\n",
              "      <td>0.0</td>\n",
              "      <td>0.0</td>\n",
              "      <td>10000.0</td>\n",
              "      <td>180000.0</td>\n",
              "      <td>1</td>\n",
              "    </tr>\n",
              "    <tr>\n",
              "      <th>7</th>\n",
              "      <td>Samurai Warriors: State of War</td>\n",
              "      <td>PSP</td>\n",
              "      <td>2005</td>\n",
              "      <td>Action</td>\n",
              "      <td>Tecmo Koei</td>\n",
              "      <td>70000.0</td>\n",
              "      <td>0.0</td>\n",
              "      <td>110000.0</td>\n",
              "      <td>10000.0</td>\n",
              "      <td>190000.0</td>\n",
              "      <td>1</td>\n",
              "    </tr>\n",
              "    <tr>\n",
              "      <th>9</th>\n",
              "      <td>The Penguins of Madagascar: Dr. Blowhole Retur...</td>\n",
              "      <td>PS3</td>\n",
              "      <td>2011</td>\n",
              "      <td>Action</td>\n",
              "      <td>THQ</td>\n",
              "      <td>40000.0</td>\n",
              "      <td>30000.0</td>\n",
              "      <td>0.0</td>\n",
              "      <td>10000.0</td>\n",
              "      <td>80000.0</td>\n",
              "      <td>1</td>\n",
              "    </tr>\n",
              "    <tr>\n",
              "      <th>15</th>\n",
              "      <td>Mini Ninjas</td>\n",
              "      <td>PS3</td>\n",
              "      <td>2009</td>\n",
              "      <td>Action</td>\n",
              "      <td>Eidos Interactive</td>\n",
              "      <td>140000.0</td>\n",
              "      <td>160000.0</td>\n",
              "      <td>0.0</td>\n",
              "      <td>60000.0</td>\n",
              "      <td>360000.0</td>\n",
              "      <td>1</td>\n",
              "    </tr>\n",
              "    <tr>\n",
              "      <th>...</th>\n",
              "      <td>...</td>\n",
              "      <td>...</td>\n",
              "      <td>...</td>\n",
              "      <td>...</td>\n",
              "      <td>...</td>\n",
              "      <td>...</td>\n",
              "      <td>...</td>\n",
              "      <td>...</td>\n",
              "      <td>...</td>\n",
              "      <td>...</td>\n",
              "      <td>...</td>\n",
              "    </tr>\n",
              "    <tr>\n",
              "      <th>16219</th>\n",
              "      <td>Grand Theft Auto V</td>\n",
              "      <td>PC</td>\n",
              "      <td>2015</td>\n",
              "      <td>Action</td>\n",
              "      <td>Take-Two Interactive</td>\n",
              "      <td>360000.0</td>\n",
              "      <td>640000.0</td>\n",
              "      <td>0.0</td>\n",
              "      <td>80000.0</td>\n",
              "      <td>1080000.0</td>\n",
              "      <td>1</td>\n",
              "    </tr>\n",
              "    <tr>\n",
              "      <th>16225</th>\n",
              "      <td>LEGO The Hobbit</td>\n",
              "      <td>XOne</td>\n",
              "      <td>2014</td>\n",
              "      <td>Action</td>\n",
              "      <td>Warner Bros. Interactive Entertainment</td>\n",
              "      <td>130000.0</td>\n",
              "      <td>120000.0</td>\n",
              "      <td>0.0</td>\n",
              "      <td>20000.0</td>\n",
              "      <td>270000.0</td>\n",
              "      <td>1</td>\n",
              "    </tr>\n",
              "    <tr>\n",
              "      <th>16227</th>\n",
              "      <td>LEGO Indiana Jones 2: The Adventure Continues</td>\n",
              "      <td>Wii</td>\n",
              "      <td>2009</td>\n",
              "      <td>Action</td>\n",
              "      <td>Activision</td>\n",
              "      <td>910000.0</td>\n",
              "      <td>390000.0</td>\n",
              "      <td>0.0</td>\n",
              "      <td>130000.0</td>\n",
              "      <td>1430000.0</td>\n",
              "      <td>1</td>\n",
              "    </tr>\n",
              "    <tr>\n",
              "      <th>16237</th>\n",
              "      <td>Rainbow Islands: Revolution</td>\n",
              "      <td>PSP</td>\n",
              "      <td>2005</td>\n",
              "      <td>Action</td>\n",
              "      <td>Rising Star Games</td>\n",
              "      <td>10000.0</td>\n",
              "      <td>0.0</td>\n",
              "      <td>0.0</td>\n",
              "      <td>0.0</td>\n",
              "      <td>10000.0</td>\n",
              "      <td>1</td>\n",
              "    </tr>\n",
              "    <tr>\n",
              "      <th>16239</th>\n",
              "      <td>Toukiden: The Age of Demons</td>\n",
              "      <td>PSV</td>\n",
              "      <td>2013</td>\n",
              "      <td>Action</td>\n",
              "      <td>Tecmo Koei</td>\n",
              "      <td>50000.0</td>\n",
              "      <td>50000.0</td>\n",
              "      <td>250000.0</td>\n",
              "      <td>30000.0</td>\n",
              "      <td>380000.0</td>\n",
              "      <td>1</td>\n",
              "    </tr>\n",
              "  </tbody>\n",
              "</table>\n",
              "<p>2970 rows × 11 columns</p>\n",
              "</div>"
            ],
            "text/plain": [
              "                                                    Name  ... num\n",
              "0                           Candace Kane's Candy Factory  ...   1\n",
              "1                                         The Munchables  ...   1\n",
              "7                         Samurai Warriors: State of War  ...   1\n",
              "9      The Penguins of Madagascar: Dr. Blowhole Retur...  ...   1\n",
              "15                                           Mini Ninjas  ...   1\n",
              "...                                                  ...  ...  ..\n",
              "16219                                 Grand Theft Auto V  ...   1\n",
              "16225                                    LEGO The Hobbit  ...   1\n",
              "16227      LEGO Indiana Jones 2: The Adventure Continues  ...   1\n",
              "16237                        Rainbow Islands: Revolution  ...   1\n",
              "16239                        Toukiden: The Age of Demons  ...   1\n",
              "\n",
              "[2970 rows x 11 columns]"
            ]
          },
          "metadata": {
            "tags": []
          },
          "execution_count": 152
        }
      ]
    },
    {
      "cell_type": "code",
      "metadata": {
        "colab": {
          "base_uri": "https://localhost:8080/",
          "height": 422
        },
        "id": "Sn5Qfkj8Ucx9",
        "outputId": "31a0d443-b23c-41ad-d45c-5dc58d745687"
      },
      "source": [
        "data_P_T = data_GA[data_GA['Year']>2000][['Platform','Total_Sales']]\n",
        "data_P_T"
      ],
      "execution_count": null,
      "outputs": [
        {
          "output_type": "execute_result",
          "data": {
            "text/html": [
              "<div>\n",
              "<style scoped>\n",
              "    .dataframe tbody tr th:only-of-type {\n",
              "        vertical-align: middle;\n",
              "    }\n",
              "\n",
              "    .dataframe tbody tr th {\n",
              "        vertical-align: top;\n",
              "    }\n",
              "\n",
              "    .dataframe thead th {\n",
              "        text-align: right;\n",
              "    }\n",
              "</style>\n",
              "<table border=\"1\" class=\"dataframe\">\n",
              "  <thead>\n",
              "    <tr style=\"text-align: right;\">\n",
              "      <th></th>\n",
              "      <th>Platform</th>\n",
              "      <th>Total_Sales</th>\n",
              "    </tr>\n",
              "  </thead>\n",
              "  <tbody>\n",
              "    <tr>\n",
              "      <th>0</th>\n",
              "      <td>DS</td>\n",
              "      <td>40000.0</td>\n",
              "    </tr>\n",
              "    <tr>\n",
              "      <th>1</th>\n",
              "      <td>Wii</td>\n",
              "      <td>180000.0</td>\n",
              "    </tr>\n",
              "    <tr>\n",
              "      <th>7</th>\n",
              "      <td>PSP</td>\n",
              "      <td>190000.0</td>\n",
              "    </tr>\n",
              "    <tr>\n",
              "      <th>9</th>\n",
              "      <td>PS3</td>\n",
              "      <td>80000.0</td>\n",
              "    </tr>\n",
              "    <tr>\n",
              "      <th>15</th>\n",
              "      <td>PS3</td>\n",
              "      <td>360000.0</td>\n",
              "    </tr>\n",
              "    <tr>\n",
              "      <th>...</th>\n",
              "      <td>...</td>\n",
              "      <td>...</td>\n",
              "    </tr>\n",
              "    <tr>\n",
              "      <th>16219</th>\n",
              "      <td>PC</td>\n",
              "      <td>1080000.0</td>\n",
              "    </tr>\n",
              "    <tr>\n",
              "      <th>16225</th>\n",
              "      <td>XOne</td>\n",
              "      <td>270000.0</td>\n",
              "    </tr>\n",
              "    <tr>\n",
              "      <th>16227</th>\n",
              "      <td>Wii</td>\n",
              "      <td>1430000.0</td>\n",
              "    </tr>\n",
              "    <tr>\n",
              "      <th>16237</th>\n",
              "      <td>PSP</td>\n",
              "      <td>10000.0</td>\n",
              "    </tr>\n",
              "    <tr>\n",
              "      <th>16239</th>\n",
              "      <td>PSV</td>\n",
              "      <td>380000.0</td>\n",
              "    </tr>\n",
              "  </tbody>\n",
              "</table>\n",
              "<p>2970 rows × 2 columns</p>\n",
              "</div>"
            ],
            "text/plain": [
              "      Platform  Total_Sales\n",
              "0           DS      40000.0\n",
              "1          Wii     180000.0\n",
              "7          PSP     190000.0\n",
              "9          PS3      80000.0\n",
              "15         PS3     360000.0\n",
              "...        ...          ...\n",
              "16219       PC    1080000.0\n",
              "16225     XOne     270000.0\n",
              "16227      Wii    1430000.0\n",
              "16237      PSP      10000.0\n",
              "16239      PSV     380000.0\n",
              "\n",
              "[2970 rows x 2 columns]"
            ]
          },
          "metadata": {
            "tags": []
          },
          "execution_count": 157
        }
      ]
    },
    {
      "cell_type": "code",
      "metadata": {
        "colab": {
          "base_uri": "https://localhost:8080/",
          "height": 325
        },
        "id": "MOJ9FAXhXXD9",
        "outputId": "aac71665-2a9c-4c91-e942-0c58de465810"
      },
      "source": [
        "data_P_T.groupby(['Platform'])['Total_Sales'].sum().plot.bar()"
      ],
      "execution_count": null,
      "outputs": [
        {
          "output_type": "execute_result",
          "data": {
            "text/plain": [
              "<matplotlib.axes._subplots.AxesSubplot at 0x7f90aeae6dd0>"
            ]
          },
          "metadata": {
            "tags": []
          },
          "execution_count": 164
        },
        {
          "output_type": "display_data",
          "data": {
            "image/png": "[encoded data removed]",
            "text/plain": [
              "<Figure size 432x288 with 1 Axes>"
            ]
          },
          "metadata": {
            "tags": [],
            "needs_background": "light"
          }
        }
      ]
    },
    {
      "cell_type": "code",
      "metadata": {
        "colab": {
          "base_uri": "https://localhost:8080/",
          "height": 325
        },
        "id": "NhrYhaPuZuFS",
        "outputId": "e5f0e2e8-4469-4f16-9432-a15a98a04b94"
      },
      "source": [
        "data_GS = data[(data['Genre']=='Shooter')]\n",
        "data_P_T_S = data_GS[data_GS['Year']>2000][['Platform','Total_Sales']]\n",
        "data_P_T_S.groupby(['Platform'])['Total_Sales'].sum().plot.bar()"
      ],
      "execution_count": null,
      "outputs": [
        {
          "output_type": "execute_result",
          "data": {
            "text/plain": [
              "<matplotlib.axes._subplots.AxesSubplot at 0x7f90ae823350>"
            ]
          },
          "metadata": {
            "tags": []
          },
          "execution_count": 189
        },
        {
          "output_type": "display_data",
          "data": {
            "image/png": "[encoded data removed]",
            "text/plain": [
              "<Figure size 432x288 with 1 Axes>"
            ]
          },
          "metadata": {
            "tags": [],
            "needs_background": "light"
          }
        }
      ]
    },
    {
      "cell_type": "code",
      "metadata": {
        "colab": {
          "base_uri": "https://localhost:8080/",
          "height": 325
        },
        "id": "_TR4HpCqef8u",
        "outputId": "b57ac6bc-8875-46c8-8247-91292fc57213"
      },
      "source": [
        "data_GS = data[(data['Genre']=='Sports')]\n",
        "data_P_T_S = data_GS[data_GS['Year']>2000][['Platform','Total_Sales']]\n",
        "data_P_T_S.groupby(['Platform'])['Total_Sales'].sum().plot.bar()"
      ],
      "execution_count": null,
      "outputs": [
        {
          "output_type": "execute_result",
          "data": {
            "text/plain": [
              "<matplotlib.axes._subplots.AxesSubplot at 0x7f90ae9d1cd0>"
            ]
          },
          "metadata": {
            "tags": []
          },
          "execution_count": 190
        },
        {
          "output_type": "display_data",
          "data": {
            "image/png": "[encoded data removed]",
            "text/plain": [
              "<Figure size 432x288 with 1 Axes>"
            ]
          },
          "metadata": {
            "tags": [],
            "needs_background": "light"
          }
        }
      ]
    }
  ]
}